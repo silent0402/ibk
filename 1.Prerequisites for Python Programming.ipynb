{
 "cells": [
  {
   "cell_type": "markdown",
   "metadata": {},
   "source": [
    "# 강의자료\n",
    " - https://github.com/silent0402/ibk"
   ]
  },
  {
   "cell_type": "markdown",
   "metadata": {
    "slideshow": {
     "slide_type": "slide"
    }
   },
   "source": [
    "# 구글 코랩(Google Colab) 소개\n",
    "\n",
    " - 주소: https://colab.research.google.com/\n",
    " - 클라우드 내에서 Jupyter Notebook과 같은 파이썬 프로그래밍 환경 제공"
   ]
  },
  {
   "cell_type": "markdown",
   "metadata": {
    "slideshow": {
     "slide_type": "slide"
    }
   },
   "source": [
    "# 파이썬 기본 문법 및 규칙\n",
    "- 들어쓰기\n",
    "- 연산\n",
    "- 변수\n",
    "- 식별자\n",
    "- 출력 및 입력\n",
    "- 주석달기\n"
   ]
  },
  {
   "cell_type": "markdown",
   "metadata": {
    "slideshow": {
     "slide_type": "slide"
    }
   },
   "source": [
    "# 들여쓰기(indentation)\n",
    "- 가독성을 높이고 프로그램의 코드 블럭을 구분하기 위한 방법 (다른 프로그램 언어에서는 주로 {}을 사용)\n",
    "- 파이썬에서 들여쓰기는 문법적인 강제사항\n",
    "- 방법은 한칸, 두칸, 탭 등 여러가지 방식\n",
    "- 한 코드 안에서는 반드시 한 종류의 들여쓰기를 사용해야지 혼용하면 안된다.\n",
    "    - 탭(tab)으로 들여쓰면 계속 탭으로 들여써야 한다.\n",
    "    - 원칙으로는 공백(빈칸, space) 사용을 권장한다. (PEP 8 권장 사항)"
   ]
  },
  {
   "cell_type": "code",
   "execution_count": null,
   "metadata": {
    "slideshow": {
     "slide_type": "subslide"
    }
   },
   "outputs": [],
   "source": [
    "a = int(input('a의 값을 입력하세요'))\n",
    "b = int(input('b의 값을 입력하세요'))\n",
    "\n",
    "if a > b:\n",
    "    print('입력값 a가 b 보다 큽니다.')\n",
    "elif a < b:\n",
    "    print('입력값 b가 a 보다 큽니다.')\n",
    "else:\n",
    "    print('두 값이 같습니다.')"
   ]
  },
  {
   "cell_type": "code",
   "execution_count": null,
   "metadata": {
    "slideshow": {
     "slide_type": "subslide"
    }
   },
   "outputs": [],
   "source": [
    "# C++ 이라면\n",
    "if (a > b) {\n",
    "    print('입력값 a가 b 보다 큽니다.')\n",
    "}    \n",
    "else if (a < b) {\n",
    "    print('입력값 b가 a 보다 큽니다.')\n",
    "}    \n",
    "else {\n",
    "    print('두 값이 같습니다.')\n",
    "}    "
   ]
  },
  {
   "cell_type": "code",
   "execution_count": null,
   "metadata": {
    "slideshow": {
     "slide_type": "subslide"
    }
   },
   "outputs": [],
   "source": [
    "if True:\n",
    "    print('4 spaces')  # space 4칸 사용\n",
    "   print('3 spaces')   # space 3칸 사용"
   ]
  },
  {
   "cell_type": "code",
   "execution_count": null,
   "metadata": {
    "slideshow": {
     "slide_type": "subslide"
    }
   },
   "outputs": [],
   "source": [
    "x = 1\n",
    " y = 3"
   ]
  },
  {
   "cell_type": "markdown",
   "metadata": {
    "slideshow": {
     "slide_type": "slide"
    }
   },
   "source": [
    "# 연산\n",
    "\n",
    "**숫자 연산**\n",
    "- 사칙연산\n",
    "\n",
    "**문자열 연산**\n",
    "- 덧셈과 곱셈만 가능"
   ]
  },
  {
   "cell_type": "code",
   "execution_count": null,
   "metadata": {
    "slideshow": {
     "slide_type": "skip"
    }
   },
   "outputs": [],
   "source": [
    "5 + 7"
   ]
  },
  {
   "cell_type": "code",
   "execution_count": null,
   "metadata": {
    "slideshow": {
     "slide_type": "skip"
    }
   },
   "outputs": [],
   "source": [
    "5 - 7"
   ]
  },
  {
   "cell_type": "code",
   "execution_count": null,
   "metadata": {
    "slideshow": {
     "slide_type": "skip"
    }
   },
   "outputs": [],
   "source": [
    "7 * 2"
   ]
  },
  {
   "cell_type": "code",
   "execution_count": null,
   "metadata": {
    "slideshow": {
     "slide_type": "subslide"
    }
   },
   "outputs": [],
   "source": [
    "'안녕' + '파이썬'"
   ]
  },
  {
   "cell_type": "code",
   "execution_count": null,
   "metadata": {
    "slideshow": {
     "slide_type": "subslide"
    }
   },
   "outputs": [],
   "source": [
    "'파이썬' * 3"
   ]
  },
  {
   "cell_type": "code",
   "execution_count": null,
   "metadata": {
    "slideshow": {
     "slide_type": "subslide"
    }
   },
   "outputs": [],
   "source": [
    "'안녕' - '파이썬'"
   ]
  },
  {
   "cell_type": "code",
   "execution_count": null,
   "metadata": {
    "slideshow": {
     "slide_type": "subslide"
    }
   },
   "outputs": [],
   "source": [
    "'안녕' / '파이썬'"
   ]
  },
  {
   "cell_type": "markdown",
   "metadata": {
    "slideshow": {
     "slide_type": "skip"
    }
   },
   "source": [
    "# 변수\n",
    "- 컴퓨터 메모리 어딘가에 위치해(저장되어) 있는 **객체를 참조하기 위해 사용하는 이름**이다.\n",
    "    - 객체(object) : 숫자, 문자, 클래스 등 값을 가지고 있는 모든 것이다.\n",
    "    - 파이썬은 객체지향 언어이며 숫자와 문자를 포함해 모든 것이 '객체'(object)로 구현되어 있다.\n",
    "- 동일 변수에 다른 객체를 언제든 할당할 수 있기 때문에, 즉 참조하는 객체가 바뀔 수 있기 때문에 '변수'라고 부른다."
   ]
  },
  {
   "cell_type": "code",
   "execution_count": null,
   "metadata": {
    "slideshow": {
     "slide_type": "skip"
    }
   },
   "outputs": [],
   "source": [
    "x = 1 + 2 + 3 + 4\n",
    "longString = '뭔가 굉장히 길어서 두번 다시 타이핑 하고 싶지 않은 문자열'\n",
    "\n",
    "print(x)\n",
    "print(longString)"
   ]
  },
  {
   "cell_type": "markdown",
   "metadata": {
    "slideshow": {
     "slide_type": "slide"
    }
   },
   "source": [
    "# 출력\n",
    "\n",
    "출력은 프로그램의 (중간)결과를 확인하기 위해 꼭 필요한 기능(함수)이다.\n",
    "\n",
    "파이썬에서는 **print()** 함수를 이용해 다양한 것들을 출력할 수 있다."
   ]
  },
  {
   "cell_type": "code",
   "execution_count": null,
   "metadata": {
    "slideshow": {
     "slide_type": "fragment"
    }
   },
   "outputs": [],
   "source": [
    "print('Hello, Python!')\n",
    "print(5+7)\n",
    "\n",
    "s = 'hello'\n",
    "\n",
    "print(s)"
   ]
  },
  {
   "cell_type": "markdown",
   "metadata": {
    "slideshow": {
     "slide_type": "slide"
    }
   },
   "source": [
    "## 고급 : **print()** 함수 탐구하기\n",
    "\n",
    "### 작성 방법\n",
    "\n",
    "[print(*objects, sep=' ', end='\\n', file=sys.stdout, flush=False)](https://docs.python.org/3/library/functions.html#print)\n",
    "\n",
    "- 다수의 위치 전달인자(\\*objects)와 4개의 키워드 전달인자를 받을 수 있다.\n",
    "    - 각 키워드 전달인자는 기본 값이 있음"
   ]
  },
  {
   "cell_type": "markdown",
   "metadata": {
    "slideshow": {
     "slide_type": "subslide"
    }
   },
   "source": [
    "- ***sep*** 매개변수의 기본 값은 공백(' ') \n",
    "    - 두 개 이상의 위치 전달인자가 주어질 경우 각각의 전달인자는 **sep** 값으로 나뉘어 출력한다.\n",
    "    - 위치 전달인자가 하나만 주어졌을 경우 **sep** 매개변수는 아무런 역할도 하지 않는다.\n",
    "- ***end*** 매개변수의 기본 값은 새줄바꿈(newline)이다.\n",
    "    - 위치 전달인자들을 출력하고 난 후 마지막에 ***end*** 매개변수의 값을 출력한다."
   ]
  },
  {
   "cell_type": "markdown",
   "metadata": {
    "slideshow": {
     "slide_type": "slide"
    }
   },
   "source": [
    "### 따라하기 : **print()** 함수 잘 활용하기"
   ]
  },
  {
   "cell_type": "code",
   "execution_count": null,
   "metadata": {
    "slideshow": {
     "slide_type": "subslide"
    }
   },
   "outputs": [],
   "source": [
    "print('Learning', 'Python', 3)"
   ]
  },
  {
   "cell_type": "code",
   "execution_count": null,
   "metadata": {
    "slideshow": {
     "slide_type": "subslide"
    }
   },
   "outputs": [],
   "source": [
    "print('Learning', 'Python', 3, sep='!!!')"
   ]
  },
  {
   "cell_type": "code",
   "execution_count": null,
   "metadata": {
    "slideshow": {
     "slide_type": "subslide"
    }
   },
   "outputs": [],
   "source": [
    "print(1, 2, 3, 4, 5, sep=' + ')"
   ]
  },
  {
   "cell_type": "code",
   "execution_count": null,
   "metadata": {
    "slideshow": {
     "slide_type": "subslide"
    }
   },
   "outputs": [],
   "source": [
    "# end 매개변수\n",
    "print(1)\n",
    "print(2)\n",
    "print(3)"
   ]
  },
  {
   "cell_type": "code",
   "execution_count": null,
   "metadata": {
    "slideshow": {
     "slide_type": "subslide"
    }
   },
   "outputs": [],
   "source": [
    "print(1, end='')\n",
    "print(2, end='')\n",
    "print(3, end='')"
   ]
  },
  {
   "cell_type": "markdown",
   "metadata": {
    "slideshow": {
     "slide_type": "slide"
    }
   },
   "source": [
    "# 입력\n",
    "파이썬에서 입력을 받는 대표적인 함수로는 **input()**이 있다."
   ]
  },
  {
   "cell_type": "markdown",
   "metadata": {
    "slideshow": {
     "slide_type": "subslide"
    }
   },
   "source": [
    "### input([prompt]) 함수\n",
    "- 사용자로부터 값을 입력 받을 수 있는 내장함수다. 실행하면 즉시 커서가 나타나 입력을 기다린다."
   ]
  },
  {
   "cell_type": "markdown",
   "metadata": {
    "slideshow": {
     "slide_type": "skip"
    }
   },
   "source": [
    "- 대괄호(**[ ]**) 부분에 문자열 값을 넣으면 사용자로부터 입력받을 때 해당 문자열을 출력할 수 있다.\n",
    "    - 예) **input()** : **_** (화면에는 왼쪽과 같이 표시된다)  \n",
    "        - 아무 것도 출력되지 않은 상태에서 사용자의 입력을 기다린다.\n",
    "    - 예) **input('당신의 이름은 무엇입니까?')** : **당신의 이름은 무엇입니까?_** (화면에는 왼쪽과 같이 표시된다)\n",
    "        - 해당 문자열을 출력하고 사용자의 입력을 기다린다."
   ]
  },
  {
   "cell_type": "markdown",
   "metadata": {
    "slideshow": {
     "slide_type": "subslide"
    }
   },
   "source": [
    "- 사용자가 값을 입력을 한 후 Enter 키를 누르면 입력을 종료한다.\n",
    "\n",
    "- 반환 값\n",
    "    - 사용자가 입력한 값은 항상 **문자열** 형태로 반환한다.\n",
    "    - 사용자가 아무런 값도 입력하지 않고 <Enter> 또는 <return> 키를 누르면 빈 문자열을 반환한다."
   ]
  },
  {
   "cell_type": "code",
   "execution_count": null,
   "metadata": {
    "slideshow": {
     "slide_type": "slide"
    }
   },
   "outputs": [],
   "source": [
    "x = input()\n",
    "print('입력값:', x)"
   ]
  },
  {
   "cell_type": "code",
   "execution_count": null,
   "metadata": {
    "slideshow": {
     "slide_type": "slide"
    }
   },
   "outputs": [],
   "source": [
    "x = input('첫번째 숫자를 입력해 주세요: ')\n",
    "print('첫번째 숫자는', x, '입니다')\n",
    "\n",
    "y = input('두번째 숫자를 입력해 주세요: ')\n",
    "print('두번째 숫자는', y, '입니다')"
   ]
  },
  {
   "cell_type": "code",
   "execution_count": null,
   "metadata": {
    "slideshow": {
     "slide_type": "subslide"
    }
   },
   "outputs": [],
   "source": [
    "z = x * y\n",
    "print(\"두 수의 곱은\", z, '입니다')"
   ]
  },
  {
   "cell_type": "code",
   "execution_count": null,
   "metadata": {
    "slideshow": {
     "slide_type": "fragment"
    }
   },
   "outputs": [],
   "source": [
    "print(type(x))\n",
    "print(type(y))"
   ]
  },
  {
   "cell_type": "markdown",
   "metadata": {
    "slideshow": {
     "slide_type": "subslide"
    }
   },
   "source": [
    "**input()** 함수가 반환하는 값은 모두 **문자열**이다.\n",
    "\n",
    "따라서 이 값으로 사용하여 계산을 하려면 문자열 자료형을 숫자 자료형으로 변환해야 한다."
   ]
  },
  {
   "cell_type": "markdown",
   "metadata": {
    "slideshow": {
     "slide_type": "slide"
    }
   },
   "source": [
    "# 형변환\n",
    "\n",
    "## 형변환(casting)이란?\n",
    "\n",
    "어떤 자료형(data type)을 다른 자료형으로 변환시키는 과정"
   ]
  },
  {
   "cell_type": "code",
   "execution_count": null,
   "metadata": {
    "slideshow": {
     "slide_type": "subslide"
    }
   },
   "outputs": [],
   "source": [
    "a = 1\n",
    "b = '2'\n",
    "a + b"
   ]
  },
  {
   "cell_type": "markdown",
   "metadata": {
    "slideshow": {
     "slide_type": "subslide"
    }
   },
   "source": [
    "위와 같이 정수와 문자열 변수 간에는 **+** 연산을 할 수 없다면서 **TypeError**가 발생한다.\n",
    "\n",
    "즉, 두 변수의 자료형이 맞지 않아 에러가 난 것으로, 이런 경우에 연산을 수행하고 싶다면 **형변환(casting)**을 통해 같은 자료형(또는 연산이 가능한 유사 자료형)으로 바꿔 줘야 한다."
   ]
  },
  {
   "cell_type": "code",
   "execution_count": null,
   "metadata": {
    "slideshow": {
     "slide_type": "slide"
    }
   },
   "outputs": [],
   "source": [
    "x = 1\n",
    "y = '2'\n",
    "print(x + int(y))"
   ]
  },
  {
   "cell_type": "markdown",
   "metadata": {
    "slideshow": {
     "slide_type": "subslide"
    }
   },
   "source": [
    "변수 ***y***는 문자형으로 선언되었지만 **int()** 클래스를 통해 정수로 변환했기 때문에 1과 합 연산이 가능하다."
   ]
  },
  {
   "cell_type": "code",
   "execution_count": null,
   "metadata": {
    "slideshow": {
     "slide_type": "slide"
    }
   },
   "outputs": [],
   "source": [
    "x = input('첫번째 숫자를 입력해 주세요: ')\n",
    "print('첫번째 숫자는', x, '입니다')\n",
    "\n",
    "y = input('두번째 숫자를 입력해 주세요: ')\n",
    "print('두번째 숫자는', y, '입니다')"
   ]
  },
  {
   "cell_type": "code",
   "execution_count": null,
   "metadata": {
    "slideshow": {
     "slide_type": "fragment"
    }
   },
   "outputs": [],
   "source": [
    "z = int(x) * int(y)\n",
    "print(\"두 수의 곱은\", z, '입니다')"
   ]
  },
  {
   "cell_type": "markdown",
   "metadata": {
    "slideshow": {
     "slide_type": "slide"
    }
   },
   "source": [
    "## 자주 사용하는 형변환 클래스\n",
    "\n",
    "- **str(객체)** : 객체를 문자형으로 변환\n",
    "\n",
    "- **int(객체)** : 객체를 정수형으로 변환\n",
    "\n",
    "- **float(객체)** : 객체를 실수형으로 변환"
   ]
  },
  {
   "cell_type": "markdown",
   "metadata": {
    "slideshow": {
     "slide_type": "slide"
    }
   },
   "source": [
    "## 형변환이 가능한 자료형\n",
    "\n",
    "형변환은 데이터 분석시 매우 유용하고 강력한 기능이지만\n",
    "\n",
    "변수의 자료형이 서로 변환 가능한 형태인 경우에만 형변환을 할 수 있다."
   ]
  },
  {
   "cell_type": "markdown",
   "metadata": {
    "slideshow": {
     "slide_type": "subslide"
    }
   },
   "source": [
    "**정수(integer)를 실수(float)로, 실수(float)를 정수(integer)로 변환할 수 있다.**"
   ]
  },
  {
   "cell_type": "code",
   "execution_count": null,
   "metadata": {
    "slideshow": {
     "slide_type": "subslide"
    }
   },
   "outputs": [],
   "source": [
    "x = 5            # 정수\n",
    "print(type(x))   # x는 정수다."
   ]
  },
  {
   "cell_type": "code",
   "execution_count": null,
   "metadata": {
    "slideshow": {
     "slide_type": "subslide"
    }
   },
   "outputs": [],
   "source": [
    "x = float(x)    # 정수를 실수로 형변환한다.\n",
    "print(type(x))  # x는 이제 실수다."
   ]
  },
  {
   "cell_type": "markdown",
   "metadata": {
    "slideshow": {
     "slide_type": "subslide"
    }
   },
   "source": [
    "**숫자(정수와 실수)를 문자열로 변환할 수 있지만, 문자열은 숫자로 변환 가능한 것만 숫자로 변환할 수 있다.**"
   ]
  },
  {
   "cell_type": "code",
   "execution_count": null,
   "metadata": {
    "slideshow": {
     "slide_type": "subslide"
    }
   },
   "outputs": [],
   "source": [
    "x = 5           # 정수\n",
    "print(type(x))  # x는 정수다."
   ]
  },
  {
   "cell_type": "code",
   "execution_count": null,
   "metadata": {
    "slideshow": {
     "slide_type": "subslide"
    }
   },
   "outputs": [],
   "source": [
    "x = str(x)      # 숫자(정수와 실수)는 문자열로 형변환할 수 있다.\n",
    "print(type(x))  # x는 문자열이다."
   ]
  },
  {
   "cell_type": "code",
   "execution_count": null,
   "metadata": {
    "slideshow": {
     "slide_type": "subslide"
    }
   },
   "outputs": [],
   "source": [
    "x = float(x)    # 문자열 중 숫자로 변환이 가능한 문자열은 숫자로 변환할 수 있다.\n",
    "print(type(x))  # x는 이제 실수다."
   ]
  },
  {
   "cell_type": "markdown",
   "metadata": {
    "slideshow": {
     "slide_type": "slide"
    }
   },
   "source": [
    "**만약 자료형이 서로 변환 가능한 형태가 아니면 오류가 발생한다.**"
   ]
  },
  {
   "cell_type": "code",
   "execution_count": null,
   "metadata": {
    "slideshow": {
     "slide_type": "subslide"
    }
   },
   "outputs": [],
   "source": [
    "x = 'drum'      # 문자열\n",
    "print(type(x))  # x는 문자열이다.\n",
    "\n",
    "x = float(x)    # error"
   ]
  },
  {
   "cell_type": "markdown",
   "metadata": {
    "slideshow": {
     "slide_type": "slide"
    }
   },
   "source": [
    "# 주석 달기\n",
    "\n",
    "## 주석(comment)이란? \n",
    "\n",
    "- 중요한 점이나 다시 확인해야 하는 부분(reminder)을 표시하는 것이다.\n",
    "\n",
    "- 컴퓨터는 주석을 인식하지 않는다. \n",
    "\n",
    "- 즉, 사용자만을 위한 것이다.\n",
    "\n"
   ]
  },
  {
   "cell_type": "markdown",
   "metadata": {
    "slideshow": {
     "slide_type": "subslide"
    }
   },
   "source": [
    "## 파이썬에서 주석다는 법\n",
    "\n",
    "- 주석으로 처리될 내용 맨 앞에 **#** 를 입력한다.\n",
    "\n",
    "- 주석은 한 줄을 온전히 차지할 수도 있고, 그 줄의 코드 뒷 부분에 작성할 수도 있다.\n",
    "\n",
    "- 그 줄의 **#** **뒤에 작성되는 모든 내용은 주석으로 처리**된다."
   ]
  },
  {
   "cell_type": "markdown",
   "metadata": {
    "slideshow": {
     "slide_type": "subslide"
    }
   },
   "source": [
    "**한 줄 전체를 주석 처리하는 예** \n",
    "\n",
    "<pre># 이름을 출력합니다.\n",
    "print('Python')</pre>"
   ]
  },
  {
   "cell_type": "markdown",
   "metadata": {
    "slideshow": {
     "slide_type": "subslide"
    }
   },
   "source": [
    "**그 줄의 마지막 부분에 작성하는 예**\n",
    "\n",
    "<pre>print('Python') # 이름을 출력합니다.</pre>"
   ]
  }
 ],
 "metadata": {
  "celltoolbar": "Slideshow",
  "kernelspec": {
   "display_name": "Python 3",
   "language": "python",
   "name": "python3"
  },
  "language_info": {
   "codemirror_mode": {
    "name": "ipython",
    "version": 3
   },
   "file_extension": ".py",
   "mimetype": "text/x-python",
   "name": "python",
   "nbconvert_exporter": "python",
   "pygments_lexer": "ipython3",
   "version": "3.7.8"
  }
 },
 "nbformat": 4,
 "nbformat_minor": 2
}
