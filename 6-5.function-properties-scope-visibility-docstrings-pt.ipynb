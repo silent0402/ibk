{
 "cells": [
  {
   "cell_type": "markdown",
   "metadata": {
    "slideshow": {
     "slide_type": "slide"
    }
   },
   "source": [
    "- - -\n",
    "\n",
    "# <span style='color: royalblue;'>10장: 파이썬의 조립 블록 구성 요소</span>\n",
    "## <span style='color: forestgreen;'>함수의 특성 - 범위와 가시성 / 설명문자열<span>\n",
    "\n",
    "<span style='font-size:100%;'>Assembly Block Components<br/>Function Properties: Scope and Visibility / Docstrings</span>\n",
    "\n",
    "* * *\n",
    "\n",
    "<span style='font-size:125%; font-weight: bold;'>박 진 수</span> 교수  \n",
    "Intelligent Data Semantics Lab  \n",
    "Seoul National University\n",
    "\n",
    "<!--\n",
    "<font size=6 color='royalblue'>10장: 파이썬의 조립 블록 구성 요소</font>\n",
    "\n",
    "<font size=5 color='purple'>함수의 특성 - 범위와 가시성 / 설명문자열</font> \n",
    "\n",
    "<font size=5>Assembly Block Components</font>  \n",
    "<font size=4>Function Properties: Scope and Visibility / Docstrings</font> \n",
    "\n",
    "* * *\n",
    "\n",
    "**<font size=4>박 진 수</font>** 교수  \n",
    "Intelligent Data Semantics Lab  \n",
    "Seoul National University\n",
    "\n",
    "%%%%%%%%%%%%%%%%%%%%%%%%%%%%%%%%%%%%%%%%%%%%%%%%%%%%%%%%%%%%%%%%%%\n",
    "\n",
    "<div class='alert alert-block alert-info' align=center><span style='font-size: xx-large; font-weight: bold'>10장: 파이썬의 조립 블록 구성 요소<br/>함수의 특성 - 범위와 가시성 / 설명문자열</span><br/><br/><span style='font-size: large; font-weight: normal'>Assembly Block Components<br/>Function Properties: Scope and Visibility / Docstrings</span><br/><br/><span style='font-size: x-large; font-weight: bold;'>박 진 수</span><span style='font-size: medium; font-weight: normal'> 교수<br/>Intelligent Data Semantcis Lab<br/>Seoul National University</span></div>\n",
    "-->\n",
    "\n",
    "- - -"
   ]
  },
  {
   "cell_type": "markdown",
   "metadata": {
    "slideshow": {
     "slide_type": "skip"
    },
    "toc": true
   },
   "source": [
    "<h1>Table of Contents<span class=\"tocSkip\"></span></h1>\n",
    "<div class=\"toc\"><ul class=\"toc-item\"><li><span><a href=\"#10장:-파이썬의-조립-블록-구성-요소\" data-toc-modified-id=\"10장:-파이썬의-조립-블록-구성-요소-1\"><span style=\"color: royalblue\">10장: 파이썬의 조립 블록 구성 요소</span></a></span><ul class=\"toc-item\"><li><span><a href=\"#함수의-특성---범위와-가시성-/-설명문자열\" data-toc-modified-id=\"함수의-특성---범위와-가시성-/-설명문자열-1.1\"><span style=\"color: forestgreen\">함수의 특성 - 범위와 가시성 / 설명문자열<span></span></span></a></span></li></ul></li><li><span><a href=\"#범위와-가시성\" data-toc-modified-id=\"범위와-가시성-2\">범위와 가시성</a></span><ul class=\"toc-item\"><li><span><a href=\"#범위\" data-toc-modified-id=\"범위-2.1\">범위</a></span></li><li><span><a href=\"#가시성\" data-toc-modified-id=\"가시성-2.2\">가시성</a></span></li><li><span><a href=\"#global문\" data-toc-modified-id=\"global문-2.3\"><strong>global</strong>문</a></span></li><li><span><a href=\"#nonlocal-문\" data-toc-modified-id=\"nonlocal-문-2.4\"><strong>nonlocal</strong> 문</a></span></li></ul></li><li><span><a href=\"#설명문자열(docstrings)\" data-toc-modified-id=\"설명문자열(docstrings)-3\">설명문자열(docstrings)</a></span></li></ul></div>"
   ]
  },
  {
   "cell_type": "markdown",
   "metadata": {
    "slideshow": {
     "slide_type": "slide"
    }
   },
   "source": [
    "# 범위와 가시성"
   ]
  },
  {
   "cell_type": "markdown",
   "metadata": {
    "slideshow": {
     "slide_type": "slide"
    }
   },
   "source": [
    "## 범위"
   ]
  },
  {
   "cell_type": "markdown",
   "metadata": {
    "slideshow": {
     "slide_type": "subslide"
    }
   },
   "source": [
    "**범위**(scope)란?\n",
    "\n",
    "- 변수나 함수의 가시성을 나타낸다. \n",
    "\n",
    "- 범위를 벗어난 변수나 함수는 다른 코드에서 사용할 수 없기 때문에 호출할 수도 없다. "
   ]
  },
  {
   "cell_type": "markdown",
   "metadata": {
    "slideshow": {
     "slide_type": "subslide"
    }
   },
   "source": [
    "모든 변수와 함수는 \n",
    "\n",
    "만들어진 위치에 따라 \n",
    "\n",
    "범위가 정해진다.   "
   ]
  },
  {
   "cell_type": "markdown",
   "metadata": {
    "slideshow": {
     "slide_type": "subslide"
    }
   },
   "source": [
    "프로그램 최상위 레벨에서 변수를 정의하면 \n",
    "\n",
    "모든 함수에서 접근할 수 있는데, \n",
    "\n",
    "이런 변수를 **전역 변수**라고 한다. "
   ]
  },
  {
   "cell_type": "markdown",
   "metadata": {
    "slideshow": {
     "slide_type": "subslide"
    }
   },
   "source": [
    "반면에 함수 안에 정의한 변수인 \n",
    "\n",
    "**지역 변수**는 \n",
    "\n",
    "그 함수 외 다른 함수에서 사용할 수 없도록 \n",
    "\n",
    "범위가 제한되어 있다."
   ]
  },
  {
   "cell_type": "markdown",
   "metadata": {
    "slideshow": {
     "slide_type": "subslide"
    }
   },
   "source": [
    "**전역 변수**(global variable)\n",
    "\n",
    "- 다른 함수를 포함해서 **프로그램 전체**에서 사용 가능하다."
   ]
  },
  {
   "cell_type": "markdown",
   "metadata": {
    "slideshow": {
     "slide_type": "subslide"
    }
   },
   "source": [
    "**지역 변수**(local variable)\n",
    "\n",
    "- **해당 함수**에서만 사용 가능하며 타 함수에서는 사용할 수 없다.\n",
    "\n",
    "- 지역 변수란 특정 함수 내에서 생성한 변수를 지칭한다."
   ]
  },
  {
   "cell_type": "markdown",
   "metadata": {
    "slideshow": {
     "slide_type": "subslide"
    }
   },
   "source": [
    "예를 통해 변수에 접근 가능한 범위를 알아보자."
   ]
  },
  {
   "cell_type": "code",
   "execution_count": 1,
   "metadata": {
    "slideshow": {
     "slide_type": "subslide"
    }
   },
   "outputs": [],
   "source": [
    "x = '나는 전역 변수 x다.'      # 전역 변수를 선언한다.\n",
    "\n",
    "def myfn1():\n",
    "    y = '나는 지역 변수 y다.'  # 지역 변수를 선언한다.\n",
    "    print(y)   # 지역 변수를 출력한다. <= in scope\n",
    "    print(x)   # 전역 변수를 출력한다. <= in scope"
   ]
  },
  {
   "cell_type": "code",
   "execution_count": 2,
   "metadata": {
    "slideshow": {
     "slide_type": "subslide"
    }
   },
   "outputs": [
    {
     "name": "stdout",
     "output_type": "stream",
     "text": [
      "나는 지역 변수 y다.\n",
      "나는 전역 변수 x다.\n"
     ]
    }
   ],
   "source": [
    "myfn1()"
   ]
  },
  {
   "cell_type": "code",
   "execution_count": 3,
   "metadata": {
    "slideshow": {
     "slide_type": "subslide"
    }
   },
   "outputs": [
    {
     "name": "stdout",
     "output_type": "stream",
     "text": [
      "나는 전역 변수 x다.\n"
     ]
    }
   ],
   "source": [
    "# 젼역 변수에 접근한다. <= in scope \n",
    "print(x)                   "
   ]
  },
  {
   "cell_type": "code",
   "execution_count": 4,
   "metadata": {
    "slideshow": {
     "slide_type": "fragment"
    }
   },
   "outputs": [
    {
     "ename": "NameError",
     "evalue": "name 'y' is not defined",
     "output_type": "error",
     "traceback": [
      "\u001b[0;31m---------------------------------------------------------------------------\u001b[0m",
      "\u001b[0;31mNameError\u001b[0m                                 Traceback (most recent call last)",
      "\u001b[0;32m<ipython-input-4-05a77d511d08>\u001b[0m in \u001b[0;36m<module>\u001b[0;34m\u001b[0m\n\u001b[1;32m      1\u001b[0m \u001b[0;31m# 지역 변수에 접근한다. <= not in scope\u001b[0m\u001b[0;34m\u001b[0m\u001b[0;34m\u001b[0m\u001b[0;34m\u001b[0m\u001b[0m\n\u001b[0;32m----> 2\u001b[0;31m \u001b[0mprint\u001b[0m\u001b[0;34m(\u001b[0m\u001b[0my\u001b[0m\u001b[0;34m)\u001b[0m\u001b[0;34m\u001b[0m\u001b[0;34m\u001b[0m\u001b[0m\n\u001b[0m",
      "\u001b[0;31mNameError\u001b[0m: name 'y' is not defined"
     ]
    }
   ],
   "source": [
    "# 지역 변수에 접근한다. <= not in scope\n",
    "print(y)                   "
   ]
  },
  {
   "cell_type": "markdown",
   "metadata": {
    "slideshow": {
     "slide_type": "slide"
    }
   },
   "source": [
    "## 가시성"
   ]
  },
  {
   "cell_type": "markdown",
   "metadata": {
    "slideshow": {
     "slide_type": "subslide"
    }
   },
   "source": [
    "**가시성**(visibility)이란?\n",
    "\n",
    "- 변수나 함수를 프로그램의 어느 부분에서 볼 수 있는지, 즉 변수나 함수에 합법적으로 접근할 수 있는 프로그램 영역을 말한다."
   ]
  },
  {
   "cell_type": "markdown",
   "metadata": {
    "slideshow": {
     "slide_type": "subslide"
    }
   },
   "source": [
    "**가시성**은 \n",
    "\n",
    "어떤 변수나 함수를 호출해서 \n",
    "\n",
    "사용할 수 있는지 여부를 결정한다."
   ]
  },
  {
   "cell_type": "markdown",
   "metadata": {
    "slideshow": {
     "slide_type": "subslide"
    }
   },
   "source": [
    "가시성이 없으면 \n",
    "\n",
    "그 변수나 함수를 \n",
    "\n",
    "사용할 수 없다."
   ]
  },
  {
   "cell_type": "markdown",
   "metadata": {
    "slideshow": {
     "slide_type": "subslide"
    }
   },
   "source": [
    "이처럼 범위와 가시성은 주로 일치하지만, \n",
    "\n",
    "같은 범위 안에 같은 이름의 변수나 함수가 함께 있다면 \n",
    "\n",
    "이 중에 하나를 일시적으로 볼 수 없는 상황이 존재할 수도 있다."
   ]
  },
  {
   "cell_type": "markdown",
   "metadata": {
    "slideshow": {
     "slide_type": "subslide"
    }
   },
   "source": [
    "즉, 같은 범위에 있는 변수나 함수라도 가시성이 없을 수 있다. "
   ]
  },
  {
   "cell_type": "markdown",
   "metadata": {
    "slideshow": {
     "slide_type": "subslide"
    }
   },
   "source": [
    "예를 들어, \n",
    "\n",
    "같은 이름의 전역 변수와 지역 변수가 \n",
    "\n",
    "같은 범위(예를 들어 함수 안)에 있을 때, \n",
    "\n",
    "전역 변수의 가시성은 해당 범위에서 \n",
    "\n",
    "일시적으로 사라진다. "
   ]
  },
  {
   "cell_type": "markdown",
   "metadata": {
    "slideshow": {
     "slide_type": "slide"
    }
   },
   "source": [
    "코드 예를 통해 범위와 가시성을 알아보자."
   ]
  },
  {
   "cell_type": "code",
   "execution_count": null,
   "metadata": {
    "slideshow": {
     "slide_type": "subslide"
    }
   },
   "outputs": [],
   "source": [
    "x = '나는 전역 변수 x다.'  # 전역 변수를 선언한다.\n",
    "\n",
    "def myfn2():\n",
    "    x = 'Hi Python'   # 같은 이름의 지역 변수를 선언한다.\n",
    "    print(x)               "
   ]
  },
  {
   "cell_type": "code",
   "execution_count": null,
   "metadata": {
    "slideshow": {
     "slide_type": "notes"
    }
   },
   "outputs": [],
   "source": [
    "# --- (SKIP) 참고\n",
    "x = '나는 전역 변수 x다.'  # 전역 변수를 선언한다. \n",
    "def myfnx():\n",
    "    print(x)           # <= UnboundLocalError가 난다\n",
    "#     x = '나는 지역 변수 x다.'  # 같은 이름의 지역 변수를 정의한다.\n",
    "    x = 'Hi Python'    # 같은 이름의 지역 변수를 선언한다.\n",
    "    print(x)           # 지역 변숫값을 출력한다"
   ]
  },
  {
   "cell_type": "markdown",
   "metadata": {
    "slideshow": {
     "slide_type": "subslide"
    }
   },
   "source": [
    "***myfn2() 함수를 실행한 결과는?***"
   ]
  },
  {
   "cell_type": "code",
   "execution_count": null,
   "metadata": {
    "slideshow": {
     "slide_type": "fragment"
    }
   },
   "outputs": [],
   "source": [
    "myfn2()"
   ]
  },
  {
   "cell_type": "markdown",
   "metadata": {
    "slideshow": {
     "slide_type": "subslide"
    }
   },
   "source": [
    "**myfn2()** 함수 안에서 \n",
    "\n",
    "전역 변수 ***x*** 와 **같은 이름의 변수**를 \n",
    "\n",
    "지역 변수로 재선언했기 때문에 \n",
    "\n",
    "이 함수 안에서는 비록 \n",
    "\n",
    "전역 변수 ***x*** 가 접근 가능한 범위에 있긴 하지만 \n",
    "\n",
    "가시성이 사라진다. "
   ]
  },
  {
   "cell_type": "markdown",
   "metadata": {
    "slideshow": {
     "slide_type": "subslide"
    }
   },
   "source": [
    "대신 ... \n",
    "\n",
    "같은 이름의 지역 변수 ***x*** 의 가시성만 있기 때문에 \n",
    "\n",
    "지역 변수 ***x*** 의 값을 출력하게 된다."
   ]
  },
  {
   "cell_type": "markdown",
   "metadata": {
    "slideshow": {
     "slide_type": "subslide"
    }
   },
   "source": [
    "이번에는 전역 변수 ***x*** 를 호출해보자. \n",
    "\n",
    "***x*** 의 값이 무엇일까?"
   ]
  },
  {
   "cell_type": "code",
   "execution_count": null,
   "metadata": {
    "slideshow": {
     "slide_type": "fragment"
    }
   },
   "outputs": [],
   "source": [
    "# 전역 변수 x의 값을 출력한다.\n",
    "print(x)             "
   ]
  },
  {
   "cell_type": "markdown",
   "metadata": {
    "slideshow": {
     "slide_type": "subslide"
    }
   },
   "source": [
    "원래 그대로다."
   ]
  },
  {
   "cell_type": "markdown",
   "metadata": {
    "slideshow": {
     "slide_type": "subslide"
    }
   },
   "source": [
    "***왜 이런 결과를 가져올까?***\n",
    "\n",
    "***이유가 뭘까?***"
   ]
  },
  {
   "cell_type": "markdown",
   "metadata": {
    "slideshow": {
     "slide_type": "subslide"
    }
   },
   "source": [
    "정리하자면..."
   ]
  },
  {
   "cell_type": "markdown",
   "metadata": {
    "slideshow": {
     "slide_type": "subslide"
    }
   },
   "source": [
    "전역 변수와 지역 변수의 이름이 같다면 \n",
    "\n",
    "지역 변수를 정의한 함수 안에서 \n",
    "\n",
    "전역 변수와 지역 변수 둘 다 \n",
    "\n",
    "접근 가능한 범위에 있다. "
   ]
  },
  {
   "cell_type": "markdown",
   "metadata": {
    "slideshow": {
     "slide_type": "subslide"
    }
   },
   "source": [
    "하지만 함수 안에서는 \n",
    "\n",
    "같은 이름의 전역 변수가 \n",
    "\n",
    "일시적으로 보이지 않기 때문에 \n",
    "\n",
    "사실상 접근을 할 수 없다. "
   ]
  },
  {
   "cell_type": "markdown",
   "metadata": {
    "slideshow": {
     "slide_type": "subslide"
    }
   },
   "source": [
    "따라서 \n",
    "\n",
    "이 함수 안에서는 \n",
    "\n",
    "같은 이름을 가진 지역 변수만 \n",
    "\n",
    "가시성을 가진다. "
   ]
  },
  {
   "cell_type": "markdown",
   "metadata": {
    "slideshow": {
     "slide_type": "subslide"
    }
   },
   "source": [
    "반면에 \n",
    "\n",
    "이 함수 바깥에서는 \n",
    "\n",
    "전역 변수만 가시성이 있기 때문에 \n",
    "\n",
    "함수 안의 지역 변수에는 \n",
    "\n",
    "접근을 할 수 없고 \n",
    "\n",
    "전역 변수에만 접근이 가능하다."
   ]
  },
  {
   "cell_type": "markdown",
   "metadata": {
    "slideshow": {
     "slide_type": "subslide"
    }
   },
   "source": [
    "이는 해당 함수가 전역 변수를 마음대로 조작했을 때 \n",
    "\n",
    "그 함수 내부에서는 영향을 줄 수 있지만, \n",
    "\n",
    "이 함수를 호출한 프로그램에는 영향을 주지 못한다. "
   ]
  },
  {
   "cell_type": "markdown",
   "metadata": {
    "slideshow": {
     "slide_type": "subslide"
    }
   },
   "source": [
    "따라서 \n",
    "\n",
    "사용자가 코드를 작성할 때 \n",
    "\n",
    "안전하게 \n",
    "\n",
    "전역 변수를 함수에 넘길 수 있다. "
   ]
  },
  {
   "cell_type": "markdown",
   "metadata": {
    "slideshow": {
     "slide_type": "slide"
    }
   },
   "source": [
    "***그런데 만약 함수 안에서***\n",
    "\n",
    "***전역 변수를 직접 조작해***\n",
    "\n",
    "***이 함수의 범위 바깥에도***\n",
    "\n",
    "***영향을 주려면 어떻게 해야 할까?***"
   ]
  },
  {
   "cell_type": "markdown",
   "metadata": {
    "slideshow": {
     "slide_type": "subslide"
    }
   },
   "source": [
    "함수 내에서 직접 전역 변수를 조작하려면 \n",
    "\n",
    "**global**문을 사용하면 된다."
   ]
  },
  {
   "cell_type": "markdown",
   "metadata": {
    "slideshow": {
     "slide_type": "slide"
    }
   },
   "source": [
    "## **global**문"
   ]
  },
  {
   "cell_type": "code",
   "execution_count": 22,
   "metadata": {
    "slideshow": {
     "slide_type": "subslide"
    }
   },
   "outputs": [
    {
     "name": "stdout",
     "output_type": "stream",
     "text": [
      "140332220722992\n"
     ]
    }
   ],
   "source": [
    "x = '나는 전역 변수 x다.'  # 전역 변수를 선언한다.\n",
    "print(id(x))\n",
    "\n",
    "def myfn3():\n",
    "    global x\n",
    "    # 이제 x는 같은 이름의 지역 변수가 아니라 전역 변수 x다.\n",
    "    x = 'Hi Python'\n",
    "    print(id(x))\n",
    "    print(x)        "
   ]
  },
  {
   "cell_type": "code",
   "execution_count": 24,
   "metadata": {
    "slideshow": {
     "slide_type": "fragment"
    }
   },
   "outputs": [
    {
     "name": "stdout",
     "output_type": "stream",
     "text": [
      "140332220299376\n",
      "Hi Python\n"
     ]
    }
   ],
   "source": [
    "myfn3()"
   ]
  },
  {
   "cell_type": "code",
   "execution_count": 25,
   "metadata": {
    "slideshow": {
     "slide_type": "fragment"
    }
   },
   "outputs": [
    {
     "name": "stdout",
     "output_type": "stream",
     "text": [
      "Hi Python\n"
     ]
    }
   ],
   "source": [
    "print(x)"
   ]
  },
  {
   "cell_type": "markdown",
   "metadata": {
    "slideshow": {
     "slide_type": "subslide"
    }
   },
   "source": [
    "이제 함수 안에서 변경한 내용이 \n",
    "\n",
    "함수 바깥에서도 반영되었다."
   ]
  },
  {
   "cell_type": "markdown",
   "metadata": {
    "slideshow": {
     "slide_type": "subslide"
    }
   },
   "source": [
    "이처럼 **global**문은 \n",
    "\n",
    "지역 범위 안에서 \n",
    "\n",
    "전역 변수를 변경할 때 사용하기 때문에 \n",
    "\n",
    "현재 범위 밖의 변수까지 수정할 수 있다."
   ]
  },
  {
   "cell_type": "markdown",
   "metadata": {
    "slideshow": {
     "slide_type": "slide"
    }
   },
   "source": [
    "## **nonlocal** 문"
   ]
  },
  {
   "cell_type": "markdown",
   "metadata": {
    "slideshow": {
     "slide_type": "subslide"
    }
   },
   "source": [
    "**nonlocal**문은 \n",
    "\n",
    "전역 범위는 아니지만 \n",
    "\n",
    "현재 속한 범위의 바로 하위 범위에서 \n",
    "\n",
    "상위 변수에 접근할 수 있도록 한다. "
   ]
  },
  {
   "cell_type": "markdown",
   "metadata": {
    "slideshow": {
     "slide_type": "subslide"
    }
   },
   "source": [
    "코드를 보면서 **nonlocal**문의 역할을 살펴보자. "
   ]
  },
  {
   "cell_type": "code",
   "execution_count": 33,
   "metadata": {
    "slideshow": {
     "slide_type": "slide"
    }
   },
   "outputs": [
    {
     "name": "stdout",
     "output_type": "stream",
     "text": [
      "1: 나는 지역 변수 x다.\n",
      "2: 코딩을 즐기자.\n",
      "3: 코딩을 즐기자.\n",
      "나는 전역 변수 x다.\n"
     ]
    }
   ],
   "source": [
    "# 같은 이름의 변수 x값에 세 번에 거쳐 다른 값을 할당한 후 출력한 결과를 보여준다.\n",
    "x = '나는 전역 변수 x다.'   # 전역 변수를 선언한다.\n",
    "def myfn4():\n",
    "  x = '나는 지역 변수 x다.' # 같은 이름의 지역 변수를 선언한다.\n",
    "  def localfn():        # 지역 함수를 정의한다.\n",
    "    nonlocal x          # 지역 함수 내에서 x를 nonlocal로 선언한다.\n",
    "    x = '코딩을 즐기자.'   # x은 같은 이름의 localfn() 안의 지역 변수가 아니라 myfn4()의 지역 변수 x다.\n",
    "    print('2:', x)      # x의 값을 출력한다.\n",
    "  print('1:', x)        # myfn4()의 범위에서 x를 출력한다.\n",
    "  localfn()             # 지역 함수 localfn()을 호출해서 실행한다.\n",
    "  print('3:', x)        # myfn4()의 범위에서 x를 출력한다.\n",
    "\n",
    "myfn4()\n",
    "print(x)"
   ]
  },
  {
   "cell_type": "code",
   "execution_count": 29,
   "metadata": {
    "slideshow": {
     "slide_type": "subslide"
    }
   },
   "outputs": [
    {
     "name": "stdout",
     "output_type": "stream",
     "text": [
      "1: 나는 지역 변수 x다.\n",
      "2: 코딩을 즐기자.\n",
      "3: 나는 지역 변수 x다.\n"
     ]
    }
   ],
   "source": [
    "myfn4()"
   ]
  },
  {
   "cell_type": "code",
   "execution_count": 34,
   "metadata": {
    "slideshow": {
     "slide_type": "fragment"
    }
   },
   "outputs": [
    {
     "name": "stdout",
     "output_type": "stream",
     "text": [
      "나는 전역 변수 x다.\n"
     ]
    }
   ],
   "source": [
    "print(x)"
   ]
  },
  {
   "cell_type": "markdown",
   "metadata": {
    "slideshow": {
     "slide_type": "slide"
    }
   },
   "source": [
    "# 설명문자열(docstrings)"
   ]
  },
  {
   "cell_type": "markdown",
   "metadata": {
    "slideshow": {
     "slide_type": "subslide"
    }
   },
   "source": [
    "**설명문자열**(document string 또는 줄여서 docstrings)이란?\n",
    "\n",
    "- 함수가 하는 기능을 요약해서 문서 형태로 설명해 놓은 것을 말한다."
   ]
  },
  {
   "cell_type": "markdown",
   "metadata": {
    "slideshow": {
     "slide_type": "subslide"
    }
   },
   "source": [
    "**작성 방법**. \n",
    "\n",
    "- 주석처럼 **#** 기호를 사용하지 않고, \n",
    "\n",
    "- **삼중 따옴표**(triple quotes)로 함수를 정의한 첫 줄 바로 아래에 작성한다.\n",
    "\n",
    "- 즉, **def**문 바로 아래 줄부터 함수 명령문 전까지 작성한다."
   ]
  },
  {
   "cell_type": "markdown",
   "metadata": {
    "slideshow": {
     "slide_type": "subslide"
    }
   },
   "source": [
    "설명문자열은 함수뿐만 아니라 \n",
    "\n",
    "모듈, 패키지, 클래스에서도 \n",
    "\n",
    "같은 방식으로 작성할 수 있다."
   ]
  },
  {
   "cell_type": "markdown",
   "metadata": {
    "slideshow": {
     "slide_type": "subslide"
    }
   },
   "source": [
    "설명문자열을 사용해서 \n",
    "\n",
    "문서를 작성하면 \n",
    "\n",
    "소스 코드를 보지 않고도 \n",
    "\n",
    "이 문서를 확인할 수 있다. "
   ]
  },
  {
   "cell_type": "markdown",
   "metadata": {
    "slideshow": {
     "slide_type": "subslide"
    }
   },
   "source": [
    "사실 주석은 소스 코드를 봐야만 내용을 알 수 있다. \n",
    "\n",
    "하지만 설명문자열로 작성하면 \n",
    "\n",
    "소스 코드를 보지 않아도 확인할 수 있다."
   ]
  },
  {
   "cell_type": "markdown",
   "metadata": {
    "slideshow": {
     "slide_type": "subslide"
    }
   },
   "source": [
    "예를 들어, **sorted()** 함수의 기능을 알고 싶으면 \n",
    "\n",
    "소스 코드를 보지 않고도 \n",
    "\n",
    "모든 함수(사용자 함수 포함)에 기본적으로 포함되어 있는 \n",
    "\n",
    "특별한 속성인 **\\_\\_doc\\_\\_**이나 **help()**를 통해 확인할 수 있다."
   ]
  },
  {
   "cell_type": "code",
   "execution_count": 35,
   "metadata": {
    "slideshow": {
     "slide_type": "subslide"
    }
   },
   "outputs": [
    {
     "name": "stdout",
     "output_type": "stream",
     "text": [
      "Return a new list containing all items from the iterable in ascending order.\n",
      "\n",
      "A custom key function can be supplied to customize the sort order, and the\n",
      "reverse flag can be set to request the result in descending order.\n"
     ]
    }
   ],
   "source": [
    "print(sorted.__doc__)"
   ]
  },
  {
   "cell_type": "code",
   "execution_count": 36,
   "metadata": {
    "slideshow": {
     "slide_type": "subslide"
    }
   },
   "outputs": [
    {
     "name": "stdout",
     "output_type": "stream",
     "text": [
      "Help on built-in function sorted in module builtins:\n",
      "\n",
      "sorted(iterable, /, *, key=None, reverse=False)\n",
      "    Return a new list containing all items from the iterable in ascending order.\n",
      "    \n",
      "    A custom key function can be supplied to customize the sort order, and the\n",
      "    reverse flag can be set to request the result in descending order.\n",
      "\n"
     ]
    }
   ],
   "source": [
    "help(sorted)"
   ]
  },
  {
   "cell_type": "markdown",
   "metadata": {
    "slideshow": {
     "slide_type": "subslide"
    }
   },
   "source": [
    "이번에는 \n",
    "\n",
    "직접 사용자가 만든 함수 정의에 \n",
    "\n",
    "설명문자열을 추가해보자. "
   ]
  },
  {
   "cell_type": "markdown",
   "metadata": {
    "slideshow": {
     "slide_type": "subslide"
    }
   },
   "source": [
    "다음 예는 \n",
    "\n",
    "앞서 만든 **string_format()** 함수에 \n",
    "\n",
    "설명문자열을 추가한 결과를 보여준다."
   ]
  },
  {
   "cell_type": "code",
   "execution_count": 37,
   "metadata": {
    "slideshow": {
     "slide_type": "subslide"
    }
   },
   "outputs": [],
   "source": [
    "def string_format(text, length=10, fills=' '):\n",
    "  \"\"\"Returns text or a truncated copy with the indicator added.\n",
    "\n",
    "  Args:\n",
    "      text (str): any string\n",
    "      length (int): maximum length of the text with indicator\n",
    "      fills (str): indicator added at the end of shortened text\n",
    "\n",
    "  Returns:\n",
    "      str: truncated text with the indicator \n",
    "  \"\"\"\n",
    "  if len(text) < length:\n",
    "    text = text + fills * (length - len(text))\n",
    "  return text"
   ]
  },
  {
   "cell_type": "markdown",
   "metadata": {
    "slideshow": {
     "slide_type": "subslide"
    }
   },
   "source": [
    "마찬가지로 \n",
    "\n",
    "**\\_\\_doc\\_\\_**이나 **help()**를 통해 \n",
    "\n",
    "설명문자열의 내용을 확인할 수 있다."
   ]
  },
  {
   "cell_type": "code",
   "execution_count": 38,
   "metadata": {
    "slideshow": {
     "slide_type": "subslide"
    }
   },
   "outputs": [
    {
     "name": "stdout",
     "output_type": "stream",
     "text": [
      "Returns text or a truncated copy with the indicator added.\n",
      "\n",
      "  Args:\n",
      "      text (str): any string\n",
      "      length (int): maximum length of the text with indicator\n",
      "      fills (str): indicator added at the end of shortened text\n",
      "\n",
      "  Returns:\n",
      "      str: truncated text with the indicator \n",
      "  \n"
     ]
    }
   ],
   "source": [
    "print(string_format.__doc__)"
   ]
  },
  {
   "cell_type": "code",
   "execution_count": 39,
   "metadata": {
    "slideshow": {
     "slide_type": "subslide"
    }
   },
   "outputs": [
    {
     "name": "stdout",
     "output_type": "stream",
     "text": [
      "Help on function string_format in module __main__:\n",
      "\n",
      "string_format(text, length=10, fills=' ')\n",
      "    Returns text or a truncated copy with the indicator added.\n",
      "    \n",
      "    Args:\n",
      "        text (str): any string\n",
      "        length (int): maximum length of the text with indicator\n",
      "        fills (str): indicator added at the end of shortened text\n",
      "    \n",
      "    Returns:\n",
      "        str: truncated text with the indicator\n",
      "\n"
     ]
    }
   ],
   "source": [
    "help(string_format)"
   ]
  },
  {
   "cell_type": "markdown",
   "metadata": {
    "slideshow": {
     "slide_type": "slide"
    }
   },
   "source": [
    "- - -\n",
    "<span style='color: red; font-weight: bold;'>THE END</span>\n",
    "<!--\n",
    "**<font size=5, color='red'>THE END</font>**\n",
    "<div class='alert alert-group alert-danger' align=center style='font-size: x-large'>THE END</div>\n",
    "<span style='font-size:x-large; font-weight: bold; background-color: tomato;'>THE END</span>\n",
    "-->"
   ]
  }
 ],
 "metadata": {
  "celltoolbar": "Slideshow",
  "hide_input": false,
  "kernelspec": {
   "display_name": "Python 3",
   "language": "python",
   "name": "python3"
  },
  "language_info": {
   "codemirror_mode": {
    "name": "ipython",
    "version": 3
   },
   "file_extension": ".py",
   "mimetype": "text/x-python",
   "name": "python",
   "nbconvert_exporter": "python",
   "pygments_lexer": "ipython3",
   "version": "3.7.4"
  },
  "toc": {
   "base_numbering": 1,
   "nav_menu": {},
   "number_sections": false,
   "sideBar": true,
   "skip_h1_title": false,
   "title_cell": "Table of Contents",
   "title_sidebar": "Contents",
   "toc_cell": true,
   "toc_position": {
    "height": "1154px",
    "left": "0px",
    "right": "1141px",
    "top": "111px",
    "width": "212px"
   },
   "toc_section_display": "block",
   "toc_window_display": false
  },
  "varInspector": {
   "cols": {
    "lenName": 16,
    "lenType": 16,
    "lenVar": 40
   },
   "kernels_config": {
    "python": {
     "delete_cmd_postfix": "",
     "delete_cmd_prefix": "del ",
     "library": "var_list.py",
     "varRefreshCmd": "print(var_dic_list())"
    },
    "r": {
     "delete_cmd_postfix": ") ",
     "delete_cmd_prefix": "rm(",
     "library": "var_list.r",
     "varRefreshCmd": "cat(var_dic_list()) "
    }
   },
   "types_to_exclude": [
    "module",
    "function",
    "builtin_function_or_method",
    "instance",
    "_Feature"
   ],
   "window_display": false
  }
 },
 "nbformat": 4,
 "nbformat_minor": 4
}
