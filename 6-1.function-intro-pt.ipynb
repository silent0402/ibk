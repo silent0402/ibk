{
 "cells": [
  {
   "cell_type": "markdown",
   "metadata": {
    "slideshow": {
     "slide_type": "slide"
    }
   },
   "source": [
    "# 함수"
   ]
  },
  {
   "cell_type": "markdown",
   "metadata": {
    "slideshow": {
     "slide_type": "subslide"
    }
   },
   "source": [
    "**함수**(function)란?\n",
    "\n",
    "- **재사용**이 가능한 일련의 명령문 묶음이다."
   ]
  },
  {
   "cell_type": "markdown",
   "metadata": {
    "slideshow": {
     "slide_type": "subslide"
    }
   },
   "source": [
    "함수는 \n",
    "\n",
    "**함수 이름**과 \n",
    "\n",
    "**일련의 명령문 묶음**으로 \n",
    "\n",
    "구성되어 있다. "
   ]
  },
  {
   "cell_type": "markdown",
   "metadata": {
    "slideshow": {
     "slide_type": "subslide"
    }
   },
   "source": [
    "특정 작업을 함수로 정의함으로써 \n",
    "\n",
    "언제든 불러와서 사용할 수 있게 해준다."
   ]
  },
  {
   "cell_type": "markdown",
   "metadata": {
    "slideshow": {
     "slide_type": "subslide"
    }
   },
   "source": [
    "따라서 코드의 재활용성을 높일 수 있다."
   ]
  },
  {
   "cell_type": "markdown",
   "metadata": {
    "slideshow": {
     "slide_type": "subslide"
    }
   },
   "source": [
    "프로시져(procedure),  \n",
    "메소드(method),  \n",
    "서브루틴(subroutine) \n",
    "\n",
    "등의 이름으로 불리기도 한다."
   ]
  },
  {
   "cell_type": "code",
   "execution_count": null,
   "metadata": {
    "slideshow": {
     "slide_type": "subslide"
    }
   },
   "outputs": [],
   "source": [
    "print(\"{} * {} = {} 입니다\".format(3, 5, 3* 5))\n",
    "print(\"{} * {} = {} 입니다\".format(4, 2, 4* 2))\n",
    "print(\"{} * {} = {} 입니다\".format(6, 5, 6* 5))\n",
    "print(\"{} * {} = {} 입니다\".format(3, 12, 3* 12))"
   ]
  },
  {
   "cell_type": "markdown",
   "metadata": {
    "slideshow": {
     "slide_type": "slide"
    }
   },
   "source": [
    "# 내장 함수"
   ]
  },
  {
   "cell_type": "markdown",
   "metadata": {
    "slideshow": {
     "slide_type": "subslide"
    }
   },
   "source": [
    "파이썬은 기본적으로 \n",
    "\n",
    "다양하고 강력한 \n",
    "\n",
    "표준 내장 함수(built-in functions)를 \n",
    "\n",
    "제공하고 있다. "
   ]
  },
  {
   "cell_type": "markdown",
   "metadata": {
    "slideshow": {
     "slide_type": "subslide"
    }
   },
   "source": [
    "흔히 사용하는 내장 함수\n",
    "- **print()**\n",
    "- **len()**\n",
    "- **range()**"
   ]
  },
  {
   "cell_type": "markdown",
   "metadata": {
    "slideshow": {
     "slide_type": "subslide"
    }
   },
   "source": [
    "데이터 분석에 흔히 사용하는 \n",
    "\n",
    "내장 함수와 클래스는 \n",
    "\n",
    "다음과 같다."
   ]
  },
  {
   "cell_type": "markdown",
   "metadata": {
    "slideshow": {
     "slide_type": "subslide"
    }
   },
   "source": [
    "- **type()**\n",
    "- **range()**\n",
    "- **enumerate()**"
   ]
  },
  {
   "cell_type": "markdown",
   "metadata": {
    "slideshow": {
     "slide_type": "subslide"
    }
   },
   "source": [
    "- **len()**\n",
    "- **max()**, **min()**\n",
    "- **abs()**"
   ]
  },
  {
   "cell_type": "markdown",
   "metadata": {
    "slideshow": {
     "slide_type": "subslide"
    }
   },
   "source": [
    "- **int()**, **float()**, **str()**\n",
    "- **list()**, **tuple()**, **dict()**, **set()**"
   ]
  },
  {
   "cell_type": "markdown",
   "metadata": {
    "slideshow": {
     "slide_type": "subslide"
    }
   },
   "source": [
    "- **sorted()**\n",
    "- **open()**"
   ]
  },
  {
   "cell_type": "markdown",
   "metadata": {
    "slideshow": {
     "slide_type": "slide"
    }
   },
   "source": [
    "# 사용자 함수 정의"
   ]
  },
  {
   "cell_type": "markdown",
   "metadata": {
    "slideshow": {
     "slide_type": "subslide"
    }
   },
   "source": [
    "**사용자 함수**(custom function)란?\n",
    "\n",
    "- 사용자(프로그래머)가 직접 만든 함수를 말한다."
   ]
  },
  {
   "cell_type": "markdown",
   "metadata": {
    "slideshow": {
     "slide_type": "subslide"
    }
   },
   "source": [
    "사용자 함수를 작성하는 일반적인 형식은 다음과 같다.\n",
    "\n",
    "<b><pre>def 함수이름([매개변수,...]):\n",
    "    함수-명령문\n",
    "    [return 객체]</pre></b>\n",
    "    "
   ]
  },
  {
   "cell_type": "markdown",
   "metadata": {
    "slideshow": {
     "slide_type": "subslide"
    }
   },
   "source": [
    "**return**문은 선택 사항이다. "
   ]
  },
  {
   "cell_type": "markdown",
   "metadata": {
    "slideshow": {
     "slide_type": "subslide"
    }
   },
   "source": [
    "- ***함수-명령문*** 블록을 실행한 후 결괏값을 \n",
    "    - ***객체***로 반환할 수도 있고, \n",
    "    - 하지 않을 수도 있다. "
   ]
  },
  {
   "cell_type": "markdown",
   "metadata": {
    "slideshow": {
     "slide_type": "subslide"
    }
   },
   "source": [
    "- 반환 값이 있으면 \n",
    "    - **return**문을 사용해 값을 반환하면 된다. "
   ]
  },
  {
   "cell_type": "markdown",
   "metadata": {
    "slideshow": {
     "slide_type": "subslide"
    }
   },
   "source": [
    "- 결괏값을 반환하지 않는 함수는 \n",
    "    - **None**을 반환한다. "
   ]
  },
  {
   "cell_type": "markdown",
   "metadata": {
    "slideshow": {
     "slide_type": "subslide"
    }
   },
   "source": [
    "- 따라서 반환 값이 없으면 \n",
    "    - **return**문을 생략할 수 있다. "
   ]
  },
  {
   "cell_type": "markdown",
   "metadata": {
    "slideshow": {
     "slide_type": "slide"
    }
   },
   "source": [
    "## 매개변수 vs. 전달인자"
   ]
  },
  {
   "cell_type": "markdown",
   "metadata": {
    "slideshow": {
     "slide_type": "subslide"
    }
   },
   "source": [
    "**매개변수**(parameter)란?\n",
    "\n",
    "- 함수를 실행할 때 함수 내부에서 사용되는 식별자다."
   ]
  },
  {
   "cell_type": "markdown",
   "metadata": {
    "slideshow": {
     "slide_type": "subslide"
    }
   },
   "source": [
    "**전달인자**(argument)란?\n",
    "\n",
    "- 함수를 호출할 때 넣어주는 값이다."
   ]
  },
  {
   "cell_type": "markdown",
   "metadata": {
    "slideshow": {
     "slide_type": "subslide"
    }
   },
   "source": [
    "***다음 코드에서 매개변수와 전달인자를 무엇인가요?***"
   ]
  },
  {
   "cell_type": "code",
   "execution_count": null,
   "metadata": {
    "slideshow": {
     "slide_type": "subslide"
    }
   },
   "outputs": [],
   "source": [
    "def say_anything(anything):\n",
    "    print('안녕', anything)\n",
    "\n",
    "say_anything('파이썬') # 전달인자는 문자열 '파이썬'\n",
    "say_anything('자바') # 전달인자는 문자열 '자바'"
   ]
  },
  {
   "cell_type": "markdown",
   "metadata": {
    "slideshow": {
     "slide_type": "fragment"
    }
   },
   "source": [
    "매개변수: **anything**  \n",
    "전달인자: **'파이썬'**    "
   ]
  },
  {
   "cell_type": "markdown",
   "metadata": {
    "slideshow": {
     "slide_type": "slide"
    }
   },
   "source": [
    "## 사용자 함수 만들기 따라해보기"
   ]
  },
  {
   "cell_type": "code",
   "execution_count": null,
   "metadata": {
    "slideshow": {
     "slide_type": "subslide"
    }
   },
   "outputs": [],
   "source": [
    "# --- 매개변수와 반환 값이 없는 함수 정의\n",
    "def my_function1():\n",
    "    print('I love Python')"
   ]
  },
  {
   "cell_type": "code",
   "execution_count": null,
   "metadata": {
    "slideshow": {
     "slide_type": "subslide"
    }
   },
   "outputs": [],
   "source": [
    "# 함수 호출\n",
    "my_function1() "
   ]
  },
  {
   "cell_type": "code",
   "execution_count": null,
   "metadata": {
    "slideshow": {
     "slide_type": "subslide"
    }
   },
   "outputs": [],
   "source": [
    "# --- 매개변수와 반환 값이 있는 함수 정의\n",
    "def my_function2(language):\n",
    "    return 'I love ' + language"
   ]
  },
  {
   "cell_type": "code",
   "execution_count": null,
   "metadata": {
    "slideshow": {
     "slide_type": "subslide"
    }
   },
   "outputs": [],
   "source": [
    "# 함수에 전달인자를 사용함으로써, 함수의 재사용성을 높일 수 있다.\n",
    "x = my_function2('Python')\n",
    "print(x)"
   ]
  },
  {
   "cell_type": "code",
   "execution_count": null,
   "metadata": {
    "slideshow": {
     "slide_type": "subslide"
    }
   },
   "outputs": [],
   "source": [
    "# 함수에 전달인자를 사용함으로써, 함수의 재사용성을 높일 수 있다.\n",
    "y = my_function2('Java')\n",
    "print(y)"
   ]
  },
  {
   "cell_type": "code",
   "execution_count": null,
   "metadata": {
    "slideshow": {
     "slide_type": "subslide"
    }
   },
   "outputs": [],
   "source": [
    "# 함수에 전달인자를 사용함으로써, 함수의 재사용성을 높일 수 있다.\n",
    "z = my_function2('C++')\n",
    "print(z)"
   ]
  },
  {
   "cell_type": "code",
   "execution_count": null,
   "metadata": {
    "slideshow": {
     "slide_type": "fragment"
    }
   },
   "outputs": [],
   "source": [
    "print(\"{} * {} = {} 입니다\".format(3, 5, 3* 5))\n",
    "print(\"{} * {} = {} 입니다\".format(4, 2, 4* 2))\n",
    "print(\"{} * {} = {} 입니다\".format(6, 5, 6* 5))\n",
    "print(\"{} * {} = {} 입니다\".format(3, 12, 3* 12))"
   ]
  },
  {
   "cell_type": "code",
   "execution_count": null,
   "metadata": {
    "slideshow": {
     "slide_type": "fragment"
    }
   },
   "outputs": [],
   "source": [
    "def multiply(left, right):\n",
    "    print(\"{} * {} = {} 입니다\".format(left, right, left*right))\n",
    "    \n",
    "\n",
    "multiply(3, 5)\n",
    "multiply(right=9, left=8)"
   ]
  }
 ],
 "metadata": {
  "celltoolbar": "Slideshow",
  "hide_input": false,
  "kernelspec": {
   "display_name": "Python 3",
   "language": "python",
   "name": "python3"
  },
  "language_info": {
   "codemirror_mode": {
    "name": "ipython",
    "version": 3
   },
   "file_extension": ".py",
   "mimetype": "text/x-python",
   "name": "python",
   "nbconvert_exporter": "python",
   "pygments_lexer": "ipython3",
   "version": "3.7.8"
  },
  "toc": {
   "base_numbering": 1,
   "nav_menu": {},
   "number_sections": false,
   "sideBar": true,
   "skip_h1_title": false,
   "title_cell": "Table of Contents",
   "title_sidebar": "Contents",
   "toc_cell": true,
   "toc_position": {
    "height": "1154px",
    "left": "0px",
    "right": "1141px",
    "top": "111px",
    "width": "212px"
   },
   "toc_section_display": "block",
   "toc_window_display": true
  },
  "varInspector": {
   "cols": {
    "lenName": 16,
    "lenType": 16,
    "lenVar": 40
   },
   "kernels_config": {
    "python": {
     "delete_cmd_postfix": "",
     "delete_cmd_prefix": "del ",
     "library": "var_list.py",
     "varRefreshCmd": "print(var_dic_list())"
    },
    "r": {
     "delete_cmd_postfix": ") ",
     "delete_cmd_prefix": "rm(",
     "library": "var_list.r",
     "varRefreshCmd": "cat(var_dic_list()) "
    }
   },
   "types_to_exclude": [
    "module",
    "function",
    "builtin_function_or_method",
    "instance",
    "_Feature"
   ],
   "window_display": false
  }
 },
 "nbformat": 4,
 "nbformat_minor": 4
}
