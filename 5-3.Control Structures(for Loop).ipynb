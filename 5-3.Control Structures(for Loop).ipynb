{
 "cells": [
  {
   "cell_type": "markdown",
   "metadata": {
    "slideshow": {
     "slide_type": "slide"
    }
   },
   "source": [
    "# **for**문 형식"
   ]
  },
  {
   "cell_type": "markdown",
   "metadata": {
    "slideshow": {
     "slide_type": "slide"
    }
   },
   "source": [
    "**for**문의 일반 형식은 다음과 같다.\n",
    "\n",
    "<b><pre>for 변수 in 순회형: \n",
    "    for-명령문\n",
    "else:\n",
    "    else-명령문</pre></b>\n",
    "    "
   ]
  },
  {
   "cell_type": "markdown",
   "metadata": {
    "slideshow": {
     "slide_type": "skip"
    }
   },
   "source": [
    "다음과 같은 특징이 있다."
   ]
  },
  {
   "cell_type": "markdown",
   "metadata": {
    "slideshow": {
     "slide_type": "subslide"
    }
   },
   "source": [
    "***순회형***에 들어 있는 객체들을 처음부터 마지막까지 추출해서 \n",
    "\n",
    "차례로 ***변수***에 할당한 후 ***for-명령문***을 실행한다."
   ]
  },
  {
   "cell_type": "markdown",
   "metadata": {
    "slideshow": {
     "slide_type": "subslide"
    }
   },
   "source": [
    "***변수***는 ***순회형***에서 가져온 객체를 참조하는 \n",
    "\n",
    "- 하나의 변수일 수도 있고, \n",
    "\n",
    "- 복합 변수일 수도 있다. \n",
    "    - 복합 변수면 주로 튜플을 사용한다."
   ]
  },
  {
   "cell_type": "markdown",
   "metadata": {
    "slideshow": {
     "slide_type": "subslide"
    }
   },
   "source": [
    "**for**문을 종료한 후, **else**문의 ***else-명령문***을 실행한다.\n",
    "- 즉, **for**문이 정상적으로 종료되었다면 **else**문은 반드시 실행된다. "
   ]
  },
  {
   "cell_type": "markdown",
   "metadata": {
    "slideshow": {
     "slide_type": "subslide"
    }
   },
   "source": [
    "***else-명령문***을 실행한 후, **for**문이 종료된다."
   ]
  },
  {
   "cell_type": "markdown",
   "metadata": {
    "slideshow": {
     "slide_type": "subslide"
    }
   },
   "source": [
    "다음 두 가지 경우에는 **else**문이 실행되지 않는다.\n",
    "- **while**문이 **break** 또는 **return**에 의해 종료될 때\n",
    "- **while**문 실행 중 **예외**(exception)가 발생할 때    "
   ]
  },
  {
   "cell_type": "markdown",
   "metadata": {
    "slideshow": {
     "slide_type": "subslide"
    }
   },
   "source": [
    "**else**문은 선택사항이다."
   ]
  },
  {
   "cell_type": "markdown",
   "metadata": {
    "slideshow": {
     "slide_type": "subslide"
    }
   },
   "source": [
    "**for**와 **else**의 마지막에는 쌍점(**:**)이 온다. "
   ]
  },
  {
   "cell_type": "markdown",
   "metadata": {
    "slideshow": {
     "slide_type": "slide"
    }
   },
   "source": [
    "**for**문의 실행 순서는 다음과 같다."
   ]
  },
  {
   "cell_type": "markdown",
   "metadata": {
    "slideshow": {
     "slide_type": "subslide"
    }
   },
   "source": [
    "1. ***변수***는 ***순회형*** 자료의 제일 앞에 있는 객체를 할당 받는다.\n",
    "1. ***for-명령문***을 실행한다.\n",
    "1. ***변수***는 이전에 받은 객체의 바로 다음 객체를 할당 받는다.\n",
    "1. ***for-명령문***을 실행한다.\n",
    "1. ... 반복 ...\n",
    "1. 최종적으로 ***순회형***의 마지막 객체까지 ***변수***에 할당되면, **for**문을 종료하고 **else**문의 ***else-명령문***을 실행한다.\n",
    "1. ***else-명령문***을 실행한 후, **for**문을 종료한다.  "
   ]
  },
  {
   "cell_type": "markdown",
   "metadata": {
    "slideshow": {
     "slide_type": "slide"
    }
   },
   "source": [
    "# 단순 **for**문"
   ]
  },
  {
   "cell_type": "markdown",
   "metadata": {
    "slideshow": {
     "slide_type": "subslide"
    }
   },
   "source": [
    "**for**문만 있고 **else**문이 없는 순환문을 작성해보자."
   ]
  },
  {
   "cell_type": "markdown",
   "metadata": {
    "slideshow": {
     "slide_type": "slide"
    }
   },
   "source": [
    "다음 예는 문자열을 순회하면서 문자를 하나씩 꺼내어 출력한다."
   ]
  },
  {
   "cell_type": "code",
   "execution_count": null,
   "metadata": {
    "slideshow": {
     "slide_type": "subslide"
    }
   },
   "outputs": [],
   "source": [
    "for i in ['a', 'b', 'c', 'd', 'e']:\n",
    "    print(i)"
   ]
  },
  {
   "cell_type": "markdown",
   "metadata": {
    "slideshow": {
     "slide_type": "fragment"
    }
   },
   "source": [
    "**NOTE**  \n",
    "- **for 변수 in 순회형:** 구문에서 ***변수***는 ***순회형***에 들어있는 객체의 실제 값(value)을 가져온다. \n",
    "- ***변수***가 인덱스 값을 가져오는 것이 아님을 명심하자.  "
   ]
  },
  {
   "cell_type": "markdown",
   "metadata": {
    "slideshow": {
     "slide_type": "slide"
    },
    "toc-hr-collapsed": true
   },
   "source": [
    "# **range()** 클래스"
   ]
  },
  {
   "cell_type": "markdown",
   "metadata": {
    "slideshow": {
     "slide_type": "subslide"
    },
    "toc-hr-collapsed": true
   },
   "source": [
    "**range()**는 **for**문에서 흔히 사용하는 클래스다. \n",
    "\n",
    "특히, 특정 횟수만큼 **for**문을 반복해서 실행할 때 매우 유용하게 쓰인다. "
   ]
  },
  {
   "cell_type": "markdown",
   "metadata": {
    "slideshow": {
     "slide_type": "slide"
    },
    "toc-hr-collapsed": true
   },
   "source": [
    "**range()**는 다음과 같은 경우에 많이 사용한다. 􏰅\n",
    "- 정수를 담은 리스트 또는 튜플을 생성할 때\n",
    "- **􏰅for**  순환문에서 순회할 횟수를 정해야 할 때"
   ]
  },
  {
   "cell_type": "markdown",
   "metadata": {
    "slideshow": {
     "slide_type": "slide"
    },
    "toc-hr-collapsed": true
   },
   "source": [
    "**range()**는 지정한 범위 안에서 정수를 생성할 수 있는 순회자(iterator)를 반환한다. "
   ]
  },
  {
   "cell_type": "markdown",
   "metadata": {
    "slideshow": {
     "slide_type": "subslide"
    }
   },
   "source": [
    "**따라해보기**"
   ]
  },
  {
   "cell_type": "code",
   "execution_count": null,
   "metadata": {
    "slideshow": {
     "slide_type": "fragment"
    }
   },
   "outputs": [],
   "source": [
    "range(10)       # 10개의 정수를 담은 순회자(iterator)를 반환한다."
   ]
  },
  {
   "cell_type": "markdown",
   "metadata": {
    "slideshow": {
     "slide_type": "slide"
    },
    "toc-hr-collapsed": true
   },
   "source": [
    "따라서 **range()**의 전달인자는 반드시 정수여야 하며, \n",
    "\n",
    "전달인자 개수에 따라 처리하는 정수의 범위도 달라 진다."
   ]
  },
  {
   "cell_type": "markdown",
   "metadata": {
    "slideshow": {
     "slide_type": "slide"
    },
    "toc-hr-collapsed": true
   },
   "source": [
    "**range**(***끝번호***)\n",
    "- 하나의 정수를 지정하면, **0**부터 ***끝번호*** **- 1**까지의 정수를 담은 순회자를 반환한다. \n",
    "- 즉, 0, 1, 2, 3, ..., ***끝번호*** **- 1**을 반환한다."
   ]
  },
  {
   "cell_type": "markdown",
   "metadata": {
    "slideshow": {
     "slide_type": "subslide"
    }
   },
   "source": [
    "**따라해보기**"
   ]
  },
  {
   "cell_type": "code",
   "execution_count": null,
   "metadata": {
    "slideshow": {
     "slide_type": "fragment"
    }
   },
   "outputs": [],
   "source": [
    "# 순회자를 반환하기 때문에 생성한 정수를 사용하려면 형변환을 해야 한다.\n",
    "list(range(10))  # 0부터 10 - 1까지"
   ]
  },
  {
   "cell_type": "markdown",
   "metadata": {
    "slideshow": {
     "slide_type": "subslide"
    },
    "toc-hr-collapsed": true
   },
   "source": [
    "**range**(***시작번호***, ***끝번호***)\n",
    "- 두 개의 정수를 지정하면, ***시작번호***부터 ***끝번호*** **- 1**까지의 정수를 담은 순회자를 반환한다. \n",
    "- 즉, ***시작번호***, ***시작번호*** **+ 1**, ..., ***끝번호*** **- 1**을 반환한다."
   ]
  },
  {
   "cell_type": "markdown",
   "metadata": {
    "slideshow": {
     "slide_type": "subslide"
    }
   },
   "source": [
    "**따라해보기**"
   ]
  },
  {
   "cell_type": "code",
   "execution_count": null,
   "metadata": {
    "slideshow": {
     "slide_type": "fragment"
    }
   },
   "outputs": [],
   "source": [
    "list(range(1, 10))  # 1부터 10 - 1 까지 "
   ]
  },
  {
   "cell_type": "markdown",
   "metadata": {
    "slideshow": {
     "slide_type": "subslide"
    },
    "toc-hr-collapsed": true
   },
   "source": [
    "**range**(***시작번호***, ***끝번호***, ***폭***)\n",
    "- 세 개의 정수를 지정하면, ***시작번호***부터 ***끝번호*** **- 1**까지 ***폭***만큼 간격으로 생성한 정수를 담은 순회자를 반환한다. \n",
    "- 즉, ***시작번호***, ***시작번호*** **+** ***폭***, ..., ***끝번호*** **- 1**을 반환한다. \n",
    "    - 이때 ***폭***􏰊의 크기에 따라 ***끝번호*** **- 1**은 포함하지 않을 수도 있다."
   ]
  },
  {
   "cell_type": "markdown",
   "metadata": {
    "slideshow": {
     "slide_type": "subslide"
    }
   },
   "source": [
    "**따라해보기**"
   ]
  },
  {
   "cell_type": "code",
   "execution_count": null,
   "metadata": {
    "slideshow": {
     "slide_type": "fragment"
    }
   },
   "outputs": [],
   "source": [
    "list(range(1, 10, 2))"
   ]
  },
  {
   "cell_type": "code",
   "execution_count": null,
   "metadata": {
    "slideshow": {
     "slide_type": "subslide"
    }
   },
   "outputs": [],
   "source": [
    "list(range(9, 0, -1))"
   ]
  },
  {
   "cell_type": "code",
   "execution_count": null,
   "metadata": {
    "slideshow": {
     "slide_type": "subslide"
    }
   },
   "outputs": [],
   "source": [
    "tuple(range(15, -21, -5))"
   ]
  },
  {
   "cell_type": "markdown",
   "metadata": {
    "slideshow": {
     "slide_type": "slide"
    }
   },
   "source": [
    "**for**문에서 순회형 값을 처리할 때 **range()**를 사용하면 코드가 훨씬 간결해진다.\n"
   ]
  },
  {
   "cell_type": "markdown",
   "metadata": {
    "slideshow": {
     "slide_type": "subslide"
    }
   },
   "source": [
    "다음 예는 **for**문을 사용해 '안녕 파이썬'을 다섯 번 출력한다."
   ]
  },
  {
   "cell_type": "code",
   "execution_count": null,
   "metadata": {
    "scrolled": true,
    "slideshow": {
     "slide_type": "subslide"
    }
   },
   "outputs": [],
   "source": [
    "for i in range(5):\n",
    "    print('안녕 파이썬')"
   ]
  },
  {
   "cell_type": "code",
   "execution_count": null,
   "metadata": {
    "slideshow": {
     "slide_type": "subslide"
    }
   },
   "outputs": [],
   "source": [
    "# --- while문\n",
    "i = 0\n",
    "while i < 5:\n",
    "    print('안녕 파이썬')\n",
    "    i += 1"
   ]
  },
  {
   "cell_type": "markdown",
   "metadata": {
    "colab_type": "text",
    "id": "cfWjclFe7Vzn",
    "slideshow": {
     "slide_type": "slide"
    }
   },
   "source": [
    "## Lab: 12. 원하는 만큼 **for**문 반복하기"
   ]
  },
  {
   "cell_type": "markdown",
   "metadata": {
    "colab_type": "text",
    "id": "cfWjclFe7Vzn",
    "slideshow": {
     "slide_type": "slide"
    }
   },
   "source": [
    "임의의 정수 ***n***을 입력받는다. \n",
    "\n",
    "**print()** 함수로 높이와 밑변을 ***n***으로 갖는 직각 삼각형을 그려보자. \n",
    "\n",
    "\n",
    "**힌트**\n",
    "- **range()** 함수를 활용하자.\n",
    "- **print('#' * 정수)** 형식으로 출력하자. "
   ]
  },
  {
   "cell_type": "markdown",
   "metadata": {
    "colab_type": "text",
    "id": "cfWjclFe7Vzn",
    "slideshow": {
     "slide_type": "slide"
    }
   },
   "source": [
    "### 실행 예\n",
    "\n",
    "<b><pre> \n",
    "반복 횟수를 입력하세요: 5</pre></b>\n",
    "\n",
    "```code\n",
    "#\n",
    "# #\n",
    "# # #    \n",
    "# # # #   \n",
    "# # # # #\n",
    "```"
   ]
  },
  {
   "cell_type": "markdown",
   "metadata": {
    "slideshow": {
     "slide_type": "slide"
    }
   },
   "source": [
    "# Lab: 13. 2차원 리스트를 출력하는 중첩 **for**문"
   ]
  },
  {
   "cell_type": "markdown",
   "metadata": {
    "slideshow": {
     "slide_type": "slide"
    }
   },
   "source": [
    "알파벳 대문자(**A~O**)로 이루어진 3행(row) 5열(column)의 2차원 리스트를 생성한 후 출력한다.\n",
    "- 3 by 5(3, 5)의 2차원 리스트란 각 행(리스트)이 5개의 데이터를 가지고 있는 중첩리스트다.\n",
    "\n",
    "2차원 리스트 각 행의 대문자를 모두 소문자로 바꾸어 출력한다.\n",
    "\n",
    "이 때 행 별로 한 줄씩 출력한다.\n",
    "\n",
    "    "
   ]
  },
  {
   "cell_type": "markdown",
   "metadata": {
    "slideshow": {
     "slide_type": "slide"
    }
   },
   "source": [
    "## 실행 예\n",
    "\n",
    "<b><pre>\n",
    "[['A', 'B', 'C', 'D', 'E'], ['F', 'G', 'H', 'I', 'J'], ['K', 'L', 'M', 'N', 'O']]</pre></b>\n",
    "\n",
    "<b><pre>a b c d e   \n",
    "f g h i j   \n",
    "k l m n o</pre></b>"
   ]
  },
  {
   "cell_type": "markdown",
   "metadata": {
    "slideshow": {
     "slide_type": "slide"
    }
   },
   "source": [
    "# Lab: 14. 윤년 계산기"
   ]
  },
  {
   "cell_type": "markdown",
   "metadata": {
    "slideshow": {
     "slide_type": "slide"
    }
   },
   "source": [
    "**for**문에서 **range()** 클래스를 사용하여 윤년 계산을 한 후 그 결과를 리스트에 담아 출력한다.\n",
    "윤년 계산 규칙은 다음과 같다.(<https://ko.wikipedia.org/wiki/윤년>)"
   ]
  },
  {
   "cell_type": "markdown",
   "metadata": {
    "slideshow": {
     "slide_type": "slide"
    }
   },
   "source": [
    "- 그 해의 숫자가 **4**로 나누어 떨어지는 해는 윤년으로 한다.\n",
    "    - 예) 1988년, 1992년, 1996년, 2004년, 2008년, 2012년, ...\n",
    "- 그 해의 숫자가 **4**로 나누어지지만 **100**으로도 나누어지면 평년으로 한다.\n",
    "    - 예) 1900년, 2100년, 2200년, 2300년, 2500년, ...\n",
    "- 그 해의 숫자가 **100**으로 나누어지지만 **400**으로도 나누어지면 윤년으로 한다.\n",
    "    - 예) 1600년, 2000년, 2400년, ..."
   ]
  },
  {
   "cell_type": "markdown",
   "metadata": {
    "slideshow": {
     "slide_type": "slide"
    }
   },
   "source": [
    "## 실행 예\n",
    "\n",
    "2000년에서 3000년 사이(둘 다 포함)\n",
    "\n",
    "<b><pre>\n",
    "[2000, 2004, 2008, 2012, 2016, 2020, 2024, 2028, 2032, 2036, 2040, 2044, 2048, 2052, 2056, 2060, 2064, 2068, 2072, 2076, 2080, 2084, 2088, 2092, 2096, 2104, 2108, 2112, 2116, 2120, 2124, 2128, 2132, 2136, 2140, 2144, 2148, 2152, 2156, 2160, 2164, 2168, 2172, 2176, 2180, 2184, 2188, 2192, 2196, 2204, 2208, 2212, 2216, 2220, 2224, 2228, 2232, 2236, 2240, 2244, 2248, 2252, 2256, 2260, 2264, 2268, 2272, 2276, 2280, 2284, 2288, 2292, 2296, 2304, 2308, 2312, 2316, 2320, 2324, 2328, 2332, 2336, 2340, 2344, 2348, 2352, 2356, 2360, 2364, 2368, 2372, 2376, 2380, 2384, 2388, 2392, 2396, 2400, 2404, 2408, 2412, 2416, 2420, 2424, 2428, 2432, 2436, 2440, 2444, 2448, 2452, 2456, 2460, 2464, 2468, 2472, 2476, 2480, 2484, 2488, 2492, 2496, 2504, 2508, 2512, 2516, 2520, 2524, 2528, 2532, 2536, 2540, 2544, 2548, 2552, 2556, 2560, 2564, 2568, 2572, 2576, 2580, 2584, 2588, 2592, 2596, 2604, 2608, 2612, 2616, 2620, 2624, 2628, 2632, 2636, 2640, 2644, 2648, 2652, 2656, 2660, 2664, 2668, 2672, 2676, 2680, 2684, 2688, 2692, 2696, 2704, 2708, 2712, 2716, 2720, 2724, 2728, 2732, 2736, 2740, 2744, 2748, 2752, 2756, 2760, 2764, 2768, 2772, 2776, 2780, 2784, 2788, 2792, 2796, 2800, 2804, 2808, 2812, 2816, 2820, 2824, 2828, 2832, 2836, 2840, 2844, 2848, 2852, 2856, 2860, 2864, 2868, 2872, 2876, 2880, 2884, 2888, 2892, 2896, 2904, 2908, 2912, 2916, 2920, 2924, 2928, 2932, 2936, 2940, 2944, 2948, 2952, 2956, 2960, 2964, 2968, 2972, 2976, 2980, 2984, 2988, 2992, 2996]</pre></b>"
   ]
  },
  {
   "cell_type": "markdown",
   "metadata": {
    "slideshow": {
     "slide_type": "slide"
    }
   },
   "source": [
    "# **enumerate()** 함수"
   ]
  },
  {
   "cell_type": "markdown",
   "metadata": {
    "slideshow": {
     "slide_type": "slide"
    }
   },
   "source": [
    "**enumerate()** 함수를 사용하는 형식은 다음과 같다.\n",
    "\n",
    "<b><pre>enumerate(순회형, start=0)</pre></b>"
   ]
  },
  {
   "cell_type": "markdown",
   "metadata": {
    "slideshow": {
     "slide_type": "slide"
    }
   },
   "source": [
    "다음과 같은 특징이 있다.\n",
    "\n",
    "- ***순회형*** 자료를 전달인자로 받아, ***순회형***이 담은 개별 객체와 각 객체의 순서(인덱스 번호)를 **(순번, 객체)**􏳆􏲍 형식의 쌍으로 순회할 수 있는 열거형(enumerate) 객체를 반환한다.\n",
    "\n",
    "- ***start***는 첫 번째 객체의 **시작 번호**다. \n",
    "    - 선택해서 사용할 수 있는 ***start***의 기본값은 **0**이지만 다른 값으로 대체할 수 있다."
   ]
  },
  {
   "cell_type": "markdown",
   "metadata": {
    "slideshow": {
     "slide_type": "slide"
    }
   },
   "source": [
    "## 따라해보기"
   ]
  },
  {
   "cell_type": "code",
   "execution_count": null,
   "metadata": {
    "slideshow": {
     "slide_type": "subslide"
    }
   },
   "outputs": [],
   "source": [
    "L = ['a', 'b', 'c']\n",
    "for i, k in enumerate(L):\n",
    "    print(i, k)"
   ]
  },
  {
   "cell_type": "code",
   "execution_count": null,
   "metadata": {
    "slideshow": {
     "slide_type": "subslide"
    }
   },
   "outputs": [],
   "source": [
    "items = tuple('abcdefg')\n",
    "print(items)"
   ]
  },
  {
   "cell_type": "code",
   "execution_count": null,
   "metadata": {
    "slideshow": {
     "slide_type": "fragment"
    }
   },
   "outputs": [],
   "source": [
    "x = enumerate(items)  # 열거형 객체(순회자)를 반환한다.\n",
    "type(x)"
   ]
  },
  {
   "cell_type": "code",
   "execution_count": null,
   "metadata": {
    "slideshow": {
     "slide_type": "subslide"
    }
   },
   "outputs": [],
   "source": [
    "# --- items = 'a', 'b', 'c', 'd', 'e', 'f', 'g'\n",
    "for i in enumerate(items):  # 시작 번호는 기본값인 0으로 한다.\n",
    "    print(i)                # (인덱스, 객체)의 튜플 쌍으로 순화한다."
   ]
  },
  {
   "cell_type": "code",
   "execution_count": null,
   "metadata": {
    "slideshow": {
     "slide_type": "subslide"
    }
   },
   "outputs": [],
   "source": [
    "# --- items = 'a', 'b', 'c', 'd', 'e', 'f', 'g'\n",
    "for index, item in enumerate(items):  # 튜플 언패킹\n",
    "    print(index, ':', item)"
   ]
  },
  {
   "cell_type": "code",
   "execution_count": null,
   "metadata": {
    "slideshow": {
     "slide_type": "subslide"
    }
   },
   "outputs": [],
   "source": [
    "# --- items = 'a', 'b', 'c', 'd', 'e', 'f', 'g'\n",
    "for index, item in enumerate(items, start=11):  # enumerate(items, 11)\n",
    "    print(index, item)"
   ]
  },
  {
   "cell_type": "code",
   "execution_count": null,
   "metadata": {
    "slideshow": {
     "slide_type": "subslide"
    }
   },
   "outputs": [],
   "source": [
    "# --- items = 'a', 'b', 'c', 'd', 'e', 'f', 'g'\n",
    "L = list(enumerate(items, 101))\n",
    "print(L)"
   ]
  },
  {
   "cell_type": "code",
   "execution_count": null,
   "metadata": {
    "slideshow": {
     "slide_type": "subslide"
    }
   },
   "outputs": [],
   "source": [
    "# --- items = 'a', 'b', 'c', 'd', 'e', 'f', 'g'\n",
    "d = dict(enumerate(items, 101))\n",
    "print(d)"
   ]
  },
  {
   "cell_type": "markdown",
   "metadata": {
    "slideshow": {
     "slide_type": "slide"
    }
   },
   "source": [
    "# **for**문과 딕셔너리 순회"
   ]
  },
  {
   "cell_type": "markdown",
   "metadata": {
    "slideshow": {
     "slide_type": "slide"
    }
   },
   "source": [
    "## 따라해보기"
   ]
  },
  {
   "cell_type": "code",
   "execution_count": null,
   "metadata": {
    "slideshow": {
     "slide_type": "subslide"
    }
   },
   "outputs": [],
   "source": [
    "koreng = {\n",
    "    '사과': 'apple', \n",
    "    '블루베리': 'blueberry', \n",
    "    '딸기': 'strawberry', \n",
    "    '키위':'kiwi', \n",
    "    '바나나': 'banana', \n",
    "    '포도': 'grape', \n",
    "    '자두': 'plum'\n",
    "}"
   ]
  },
  {
   "cell_type": "code",
   "execution_count": null,
   "metadata": {
    "slideshow": {
     "slide_type": "subslide"
    }
   },
   "outputs": [],
   "source": [
    "for i in koreng:\n",
    "    print(i)"
   ]
  },
  {
   "cell_type": "code",
   "execution_count": null,
   "metadata": {
    "slideshow": {
     "slide_type": "subslide"
    }
   },
   "outputs": [],
   "source": [
    "for i in koreng.items():\n",
    "    print(i)"
   ]
  },
  {
   "cell_type": "code",
   "execution_count": null,
   "metadata": {
    "slideshow": {
     "slide_type": "subslide"
    }
   },
   "outputs": [],
   "source": [
    "for k, v in koreng.items():\n",
    "    print(k, ':', v)"
   ]
  }
 ],
 "metadata": {
  "celltoolbar": "Slideshow",
  "kernelspec": {
   "display_name": "Python 3",
   "language": "python",
   "name": "python3"
  },
  "language_info": {
   "codemirror_mode": {
    "name": "ipython",
    "version": 3
   },
   "file_extension": ".py",
   "mimetype": "text/x-python",
   "name": "python",
   "nbconvert_exporter": "python",
   "pygments_lexer": "ipython3",
   "version": "3.7.8"
  }
 },
 "nbformat": 4,
 "nbformat_minor": 2
}
