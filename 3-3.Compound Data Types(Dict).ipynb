{
 "cells": [
  {
   "cell_type": "markdown",
   "metadata": {
    "slideshow": {
     "slide_type": "slide"
    }
   },
   "source": [
    "# 딕셔너리(**dict**)\n",
    "- **가변자료형**(mutable)이다.\n",
    "    - 생성한 후 내용의 변경이 가능하다. 즉, 담고 있는 객체를 삭제, 변경, 삽입하는 것이 가능하다.\n",
    "- **순서 없이**(unordered) 0개 이상의 키-매핑값(key-value) 쌍으로 된 객체를 참조하는 **매핑형**이다."
   ]
  },
  {
   "cell_type": "code",
   "execution_count": null,
   "metadata": {
    "slideshow": {
     "slide_type": "fragment"
    }
   },
   "outputs": [],
   "source": [
    "person_list = ['백재원', 24, '남성', '서울']\n",
    "person_dict = {\n",
    "    'name': '백재원',\n",
    "    'age': 24,\n",
    "    'gender': '남성',\n",
    "    'city': '서울'\n",
    "}"
   ]
  },
  {
   "cell_type": "markdown",
   "metadata": {
    "slideshow": {
     "slide_type": "subslide"
    }
   },
   "source": [
    "- 각 객체 쌍은 쉼표( , )로 구분한다.\n",
    "- 객체 하나가 **키:매핑값** 형태로 되어 있으며, 키와 매핑값도 객체다."
   ]
  },
  {
   "cell_type": "markdown",
   "metadata": {
    "slideshow": {
     "slide_type": "subslide"
    }
   },
   "source": [
    "- **키**(key) : 해시가능한 객체(불변자료형)만 가능하다.\n",
    "- **매핑값**(value) : 어떠한 자료형의 객체도 가능하다\n",
    "- 출력 형식\n",
    "    - 딕셔너리는 항상 중괄호(**{ }**) 형태로 출력한다."
   ]
  },
  {
   "cell_type": "markdown",
   "metadata": {
    "slideshow": {
     "slide_type": "subslide"
    }
   },
   "source": [
    "## 딕셔너리와 리스트의 차이"
   ]
  },
  {
   "cell_type": "markdown",
   "metadata": {
    "slideshow": {
     "slide_type": "fragment"
    }
   },
   "source": [
    "리스트와 달리 **딕셔너리**가 담고 있는 객체는 순서가 없다."
   ]
  },
  {
   "cell_type": "markdown",
   "metadata": {
    "slideshow": {
     "slide_type": "fragment"
    }
   },
   "source": [
    "**리스트**는 같은 값을 가진 객체를 포함할 수 있지만, \n",
    "\n",
    "**딕셔너리**는 키의 중복을 허락하지 않기 때문에 같은 키를 가진 객체는 포함할 수 없다.\n",
    "\n",
    "단, 매핑값은 중복이 가능하다. 즉, 키만 다르면 매핑값은 같아도 상관없다."
   ]
  },
  {
   "cell_type": "markdown",
   "metadata": {
    "slideshow": {
     "slide_type": "subslide"
    }
   },
   "source": [
    "리스트와 달리 **딕셔너리**는 인덱스 개념이 없기 때문에, \n",
    "\n",
    "분할 연산자를 사용해 객체 전체 또는 일부를 추출할 수 없다."
   ]
  },
  {
   "cell_type": "markdown",
   "metadata": {
    "slideshow": {
     "slide_type": "fragment"
    }
   },
   "source": [
    "**리스트**는 인덱스 번호로 객체를 추출하지만, \n",
    "\n",
    "**딕셔너리**는 키로 객체를 추출한다."
   ]
  },
  {
   "cell_type": "markdown",
   "metadata": {
    "slideshow": {
     "slide_type": "slide"
    }
   },
   "source": [
    "# 딕셔너리 생성\n",
    "\n",
    "딕셔너리를 만드는 방법으로는 다음 세 가지가 있다.\n",
    "- **{ }**(중괄호)\n",
    "- **dict()** 생성자(클래스)\n",
    "- 딕셔너리 축약(dictionary comprehension)"
   ]
  },
  {
   "cell_type": "markdown",
   "metadata": {
    "slideshow": {
     "slide_type": "subslide"
    }
   },
   "source": [
    "### **{ }**(중괄호)\n",
    "- 키:매핑값 쌍으로 된 각 객체는 쉼표(,)로 구분한다."
   ]
  },
  {
   "cell_type": "code",
   "execution_count": null,
   "metadata": {
    "slideshow": {
     "slide_type": "-"
    }
   },
   "outputs": [],
   "source": [
    "family = {0: '엄마', 1: '아빠', 2: '동생'}\n",
    "print(family)"
   ]
  },
  {
   "cell_type": "markdown",
   "metadata": {
    "slideshow": {
     "slide_type": "subslide"
    }
   },
   "source": [
    "모든 복합자료형은 어떠한 자료형도 담을 수 있다.\n",
    "\n",
    "- 따라서 딕셔너리는 매핑값으로 딕셔너리 자신을 포함해 어떠한 자료형도 담을 수 있다.\n",
    "\n",
    "- 단, 키는 해시가능한(hashable) 불변자료형(immutable)만 가능하다."
   ]
  },
  {
   "cell_type": "code",
   "execution_count": null,
   "metadata": {
    "slideshow": {
     "slide_type": "subslide"
    }
   },
   "outputs": [],
   "source": [
    "mydict = {\n",
    "    '악기': ['드럼', '기타', '베이스'],  # 매핑값이 리스트다.\n",
    "    '가족': family,                  # 매핑값이 딕셔너리다.\n",
    "    (10, 9): '한글날',               # 키가 튜플(불변자료형)이다.\n",
    "    'RGB': [255, 72, 90],\n",
    "    'id': (),                      # 매핑값이 빈 튜플이다.\n",
    "    0: 55,\n",
    "    -307: None,                    # 매핑값 뿐만 아니라 키에도 None이 올 수 있다\n",
    "    'fruits': set()                # 매핑값이 세트다.\n",
    "}\n",
    "print(mydict)"
   ]
  },
  {
   "cell_type": "markdown",
   "metadata": {
    "slideshow": {
     "slide_type": "subslide"
    }
   },
   "source": [
    "### **dict()** 생성자(클래스)"
   ]
  },
  {
   "cell_type": "code",
   "execution_count": null,
   "metadata": {
    "slideshow": {
     "slide_type": "-"
    }
   },
   "outputs": [],
   "source": [
    "d1 = dict()\n",
    "print(d1)"
   ]
  },
  {
   "cell_type": "markdown",
   "metadata": {
    "slideshow": {
     "slide_type": "subslide"
    }
   },
   "source": [
    "### 딕셔너리 축약(dictionary comprehension)"
   ]
  },
  {
   "cell_type": "code",
   "execution_count": null,
   "metadata": {
    "slideshow": {
     "slide_type": "-"
    }
   },
   "outputs": [],
   "source": [
    "numbers = [1, 2, 3, 4, 5]\n",
    "d3 = {x: x**2 for x in numbers}\n",
    "print(d3)"
   ]
  },
  {
   "cell_type": "markdown",
   "metadata": {
    "slideshow": {
     "slide_type": "slide"
    }
   },
   "source": [
    "# 딕셔너리 인덱스"
   ]
  },
  {
   "cell_type": "markdown",
   "metadata": {
    "slideshow": {
     "slide_type": "subslide"
    }
   },
   "source": [
    "## 키를 통해 매핑값 추출하기\n",
    "\n",
    "딕셔너리가 참조하는 객체들은 리스트와는 달리 순서가 없기 때문에 \n",
    "- 인덱스 번호로 개별 객체를 추출할 수도 없고, \n",
    "- 분할 연산자를 사용해서 일부 또는 전체를 가져올 수도 없다. \n",
    "\n",
    "다음 형식으로 키를 통해 매핑값을 추출할 수 있다.\n",
    "\n",
    "<b><pre>딕셔너리[키]</pre></b>\n"
   ]
  },
  {
   "cell_type": "code",
   "execution_count": null,
   "metadata": {
    "slideshow": {
     "slide_type": "subslide"
    }
   },
   "outputs": [],
   "source": [
    "d8 = {None: 'Null value', True: '참', False: 0}"
   ]
  },
  {
   "cell_type": "code",
   "execution_count": null,
   "metadata": {
    "slideshow": {
     "slide_type": "-"
    }
   },
   "outputs": [],
   "source": [
    "# --- {None: 'Null value', True: '참', False: 0}\n",
    "# None이 키다.\n",
    "d8[None]"
   ]
  },
  {
   "cell_type": "code",
   "execution_count": null,
   "metadata": {
    "slideshow": {
     "slide_type": "-"
    }
   },
   "outputs": [],
   "source": [
    "# --- {None: 'Null value', True: '참', False: 0}\n",
    "# False가 키다.\n",
    "d8[False]        "
   ]
  },
  {
   "cell_type": "markdown",
   "metadata": {
    "slideshow": {
     "slide_type": "subslide"
    }
   },
   "source": [
    "그러면 지금부터는 앞에서 사용한 딕셔너리로 개별 객체를 추출하는 방법을 알아보자."
   ]
  },
  {
   "cell_type": "code",
   "execution_count": null,
   "metadata": {
    "slideshow": {
     "slide_type": "subslide"
    }
   },
   "outputs": [],
   "source": [
    "mydict = {\n",
    "    '악기': ['드럼', '기타', '베이스'],  # 매핑값이 리스트다.\n",
    "    '가족': family,                  # 매핑값이 딕셔너리다.\n",
    "    (10, 9): '한글날',               # 키가 튜플(불변자료형)이다.\n",
    "    'RGB': [255, 72, 90],\n",
    "    'id': (),                      # 매핑값이 빈 튜플이다.\n",
    "    0: 55,\n",
    "    -307: None,                    # 매핑값 뿐만 아니라 키에도 None이 올 수 있다\n",
    "    'fruits': set()                # 매핑값이 세트다.\n",
    "}"
   ]
  },
  {
   "cell_type": "code",
   "execution_count": null,
   "metadata": {
    "slideshow": {
     "slide_type": "-"
    }
   },
   "outputs": [],
   "source": [
    "# --- {'악기': ['드럼', '기타', '베이스'], ...}\n",
    "mydict['악기']"
   ]
  },
  {
   "cell_type": "code",
   "execution_count": null,
   "metadata": {
    "scrolled": true,
    "slideshow": {
     "slide_type": "-"
    }
   },
   "outputs": [],
   "source": [
    "# --- {(10, 9): '한글날', ...}\n",
    "mydict[(10, 9)]"
   ]
  },
  {
   "cell_type": "markdown",
   "metadata": {
    "slideshow": {
     "slide_type": "subslide"
    }
   },
   "source": [
    "## 키에 매핑값을 할당하기\n",
    "\n",
    "이번에는 키에 매핑값을 할당해보자. 다음과 같은 형식으로 코드를 작성한다.\n",
    "\n",
    "<b><pre>딕셔너리[키] = 매핑값</pre></b>\n",
    "\n",
    "이 형식으로 \n",
    "\n",
    "- 새로운 객체 쌍을 딕셔너리에 추가할 수도 있고, \n",
    "- 기존의 매핑값을 새로운 매핑값으로 갱신할 수도 있다.\n"
   ]
  },
  {
   "cell_type": "markdown",
   "metadata": {
    "slideshow": {
     "slide_type": "subslide"
    }
   },
   "source": [
    "#### 키의 매핑값 갱신하기\n",
    "\n",
    "키가 이미 존재하는 경우에는 \n",
    "- 기존의 매핑값을 새로운 매핑값으로 대체하게 된다.\n",
    "\n",
    "이는 마치 리스트에서 인덱스를 사용해 인덱스 위치에 있는 객체를 새로운 객체로 **교체**하는 것과 비슷하다."
   ]
  },
  {
   "cell_type": "markdown",
   "metadata": {
    "slideshow": {
     "slide_type": "subslide"
    }
   },
   "source": [
    "그럼 ***family***의 키 2의 매핑값을 '동생'에서 '나'로 바꿔보자."
   ]
  },
  {
   "cell_type": "code",
   "execution_count": null,
   "metadata": {
    "slideshow": {
     "slide_type": "-"
    }
   },
   "outputs": [],
   "source": [
    "family = {0: '엄마', 1: '아빠', 2: '동생'}"
   ]
  },
  {
   "cell_type": "code",
   "execution_count": null,
   "metadata": {
    "slideshow": {
     "slide_type": "-"
    }
   },
   "outputs": [],
   "source": [
    "# --- {0: '엄마', 1: '아빠', 2: '동생'}\n",
    "family[2] = '나'\n",
    "print(family)"
   ]
  },
  {
   "cell_type": "markdown",
   "metadata": {
    "slideshow": {
     "slide_type": "subslide"
    }
   },
   "source": [
    "#### 객체 추가하기\n",
    "\n",
    "만약 키가 존재하지 않으면, \n",
    "- 새로운 객체를 키와 매핑값 쌍으로 딕셔너리에 추가한다.\n",
    "\n",
    "이는 리스트에서 **append()** 메소드로 객체를 **추가**하는 것과 비슷하다. "
   ]
  },
  {
   "cell_type": "markdown",
   "metadata": {
    "slideshow": {
     "slide_type": "subslide"
    }
   },
   "source": [
    "그럼 ***family***에 없는 키를 추가해보자."
   ]
  },
  {
   "cell_type": "code",
   "execution_count": null,
   "metadata": {
    "slideshow": {
     "slide_type": "-"
    }
   },
   "outputs": [],
   "source": [
    "# --- {0: '엄마', 1: '아빠', 2: '나'}\n",
    "# 키가 4이고 매핑값이 '동생'인 객체를 추가한다.\n",
    "family[4] = '동생'\n",
    "print(family)"
   ]
  },
  {
   "cell_type": "markdown",
   "metadata": {
    "slideshow": {
     "slide_type": "slide"
    }
   },
   "source": [
    "# 딕셔너리 관련 연산자\n",
    "\n",
    "딕셔너리와 관련한 대표적인 연산자로는 다음과 같은 것이 있다.\n",
    "\n",
    "삭제 연산자 : **del**   \n",
    "멤버십 연산자 : **in**/**not in**  "
   ]
  },
  {
   "cell_type": "markdown",
   "metadata": {
    "slideshow": {
     "slide_type": "subslide"
    }
   },
   "source": [
    "### 삭제 연산자 \n",
    "\n",
    "리스트에서 사용한 삭제 연산자 **del**은 딕셔너리에도 같은 원리로 사용할 수 있다.\n",
    "\n"
   ]
  },
  {
   "cell_type": "markdown",
   "metadata": {
    "slideshow": {
     "slide_type": "subslide"
    }
   },
   "source": [
    "단지 차이점은 \n",
    "- 리스트처럼 인덱스 번호나 분할 연산자를 사용하지 않고, \n",
    "- 키를 통해 대상 객체를 삭제한다는 점이다.\n",
    "\n",
    "해당 키를 가진 객체를 가지고 있지 않다면 KeyError를 발생시킨다"
   ]
  },
  {
   "cell_type": "code",
   "execution_count": null,
   "metadata": {
    "scrolled": true,
    "slideshow": {
     "slide_type": "subslide"
    }
   },
   "outputs": [],
   "source": [
    "# --- {'id': (), ...}\n",
    "# 키가 'id'인 객체를 삭제한다.  \n",
    "del mydict['id']  \n",
    "print(mydict)"
   ]
  },
  {
   "cell_type": "code",
   "execution_count": null,
   "metadata": {
    "slideshow": {
     "slide_type": "-"
    }
   },
   "outputs": [],
   "source": [
    "# --- {'id': (), ...}\n",
    "# 키가 'id'인 객체를 삭제한다.  \n",
    "del mydict['id']  \n",
    "print(mydict)"
   ]
  },
  {
   "cell_type": "markdown",
   "metadata": {
    "slideshow": {
     "slide_type": "slide"
    }
   },
   "source": [
    "### 멤버십 연산자\n",
    "\n",
    "멤버십 연산자 **in**과 **not in**은 딕셔너리에서도 같은 원리로 동작한다. \n",
    "\n",
    "즉, 딕셔너리 안에 객체가 존재하는지 확인할 때 사용한다. "
   ]
  },
  {
   "cell_type": "code",
   "execution_count": null,
   "metadata": {
    "slideshow": {
     "slide_type": "-"
    }
   },
   "outputs": [],
   "source": [
    "# --- 키가 0인 객체가 딕셔너리에 존재하는지 확인한다.\n",
    "# {0: 55, ...}\n",
    "0 in mydict"
   ]
  },
  {
   "cell_type": "code",
   "execution_count": null,
   "metadata": {
    "slideshow": {
     "slide_type": "-"
    }
   },
   "outputs": [],
   "source": [
    "# --- '한글날'이 딕셔너리에 존재하는지 확인한다.\n",
    "# {(10, 9): '한글날', ...}\n",
    "'한글날' in mydict"
   ]
  },
  {
   "cell_type": "markdown",
   "metadata": {
    "slideshow": {
     "slide_type": "subslide"
    }
   },
   "source": [
    "'한글날'은 존재하지 않는다고 한다. "
   ]
  },
  {
   "cell_type": "markdown",
   "metadata": {
    "slideshow": {
     "slide_type": "fragment"
    }
   },
   "source": [
    "딕셔너리에서 **in**과 **not in**은 기본적으로 키(key)가 존재하는지를 확인하기 때문이다."
   ]
  },
  {
   "cell_type": "markdown",
   "metadata": {
    "slideshow": {
     "slide_type": "fragment"
    }
   },
   "source": [
    "***그럼 키 대신 매핑값이 존재하는지 확인하려면 어떻게 해야 할까?***"
   ]
  },
  {
   "cell_type": "markdown",
   "metadata": {
    "slideshow": {
     "slide_type": "fragment"
    }
   },
   "source": [
    "딕셔너리 메소드 중 하나인 **values()**를 사용하면 된다."
   ]
  },
  {
   "cell_type": "code",
   "execution_count": null,
   "metadata": {
    "slideshow": {
     "slide_type": "subslide"
    }
   },
   "outputs": [],
   "source": [
    "# --- {(10, 9): '한글날', ...}\n",
    "# '한글날'이 딕셔너리의 매핑값에 존재하는지 확인한다.\n",
    "'한글날' in mydict.values()"
   ]
  },
  {
   "cell_type": "markdown",
   "metadata": {
    "slideshow": {
     "slide_type": "slide"
    }
   },
   "source": [
    "## Lab: 5.딕셔너리 생성 및 수정"
   ]
  },
  {
   "cell_type": "markdown",
   "metadata": {
    "slideshow": {
     "slide_type": "-"
    }
   },
   "source": [
    "- 아래 키:매핑값(key:value) 쌍으로 되어있는 딕셔너리를 생성한 후 출력한다.\n",
    "    - 매핑값은 반드시 튜플로 되어 있어야 한다.\n",
    "![Lab Dict1](img/ch06-lab-dict-creation-modification.png)"
   ]
  },
  {
   "cell_type": "markdown",
   "metadata": {
    "slideshow": {
     "slide_type": "subslide"
    }
   },
   "source": [
    "- 아래 키:매핑값 쌍을 방금 만든 딕셔너리의 객체로 추가한 후 이 딕셔너리를 다시 출력한다.\n",
    "    - 키 : **'all'**\n",
    "    - 매핑값 : **(1, 2, 3, 4, 5, 6, 7, 8, 9, 10)**   \n",
    "\n",
    "- 키가 **'odd'**인 객체를 딕셔너리에서 삭제한 후 이 딕셔너리를 다시 출력한다."
   ]
  },
  {
   "cell_type": "markdown",
   "metadata": {
    "slideshow": {
     "slide_type": "subslide"
    }
   },
   "source": [
    "## 실행 예\n",
    "{'even': (2, 4, 6, 8, 10), 'odd': (1, 3, 5, 7, 9), 'prime': (2, 3, 5, 7)}\n",
    "\n",
    "{'even': (2, 4, 6, 8, 10), 'odd': (1, 3, 5, 7, 9), 'prime': (2, 3, 5, 7), 'all': (1, 2, 3, 4, 5, 6, 7, 8, 9, 10)}\n",
    "\n",
    "{'even': (2, 4, 6, 8, 10), 'prime': (2, 3, 5, 7), 'all': (1, 2, 3, 4, 5, 6, 7, 8, 9, 10)}\n",
    "</pre></b>\n"
   ]
  },
  {
   "cell_type": "markdown",
   "metadata": {
    "slideshow": {
     "slide_type": "slide"
    }
   },
   "source": [
    "# 딕셔너리 관련 메소드"
   ]
  },
  {
   "cell_type": "markdown",
   "metadata": {
    "slideshow": {
     "slide_type": "subslide"
    }
   },
   "source": [
    "키 생성 메소드 : **fromkeys()**   \n",
    "추가 메소드 : **setdefault()**, **update()**  \n",
    "삭제 메소드 : **popitem()**, **pop()**, **clear()**  \n",
    "질의 메소드 : **keys()**, **values()**, **items()**, **get()**"
   ]
  },
  {
   "cell_type": "markdown",
   "metadata": {
    "slideshow": {
     "slide_type": "slide"
    }
   },
   "source": [
    "### 키 생성 메소드\n",
    "\n",
    "**dict.fromkeys( _s[,v]_ )**   \n",
    "\n",
    "- 시퀀스형 _s_ 의 모든 객체가 키가 된다.\n",
    "    - _v_ 가 주어지지 않으면 매핑값이 None\n",
    "    - _v_ 가 주어지면 모든 매핑값은 _v_ 가 된다.\n",
    "    "
   ]
  },
  {
   "cell_type": "code",
   "execution_count": null,
   "metadata": {
    "slideshow": {
     "slide_type": "subslide"
    }
   },
   "outputs": [],
   "source": [
    "keys = ['a', 'b', 'c', 'd']\n",
    "val = True\n",
    "\n",
    "d1 = dict.fromkeys(keys)\n",
    "d2 = dict.fromkeys(keys, val)\n",
    "\n",
    "print(d1)\n",
    "print(d2)"
   ]
  },
  {
   "cell_type": "markdown",
   "metadata": {
    "slideshow": {
     "slide_type": "slide"
    }
   },
   "source": [
    "### 질의 메소드\n",
    "\n",
    "- *d*.**keys()**\n",
    "    - 딕셔너리 *d*의 모든 키를 담은 형식(읽기 전용 리스트) **dict_keys**를 반환한다.   \n",
    "- *d*.**values()**\n",
    "    - 딕셔너리 *d*의 모든 매핑값을 담은 형식(읽기 전용 리스트) **dict_values**를 반환한다.\n",
    "- *d*.**items()**\n",
    "    - 딕셔너리 *d*의 모든 (키, 매핑값) 쌍을 담은 형식(읽기 전용 리스트) **dict_items**를 반 환한다."
   ]
  },
  {
   "cell_type": "code",
   "execution_count": null,
   "metadata": {
    "slideshow": {
     "slide_type": "subslide"
    }
   },
   "outputs": [],
   "source": [
    "d = {'a': True, 'b':False, 'c':False, 'd':True}\n",
    "\n",
    "print(d.keys())\n",
    "print(d.values())\n",
    "print(d.items())"
   ]
  },
  {
   "cell_type": "markdown",
   "metadata": {
    "slideshow": {
     "slide_type": "slide"
    }
   },
   "source": [
    "**keys()**, **values()**, **items()**는 **읽기 전용 리스트**를 반환하기 때문에, \n",
    "\n",
    "반환한 값을 받아서 직접 사용할 수는 없다. "
   ]
  },
  {
   "cell_type": "code",
   "execution_count": null,
   "metadata": {
    "slideshow": {
     "slide_type": "subslide"
    }
   },
   "outputs": [],
   "source": [
    "# 자료형이 리스트가 아니다.\n",
    "print(type(d.keys()))\n",
    "print(d.keys())"
   ]
  },
  {
   "cell_type": "markdown",
   "metadata": {
    "slideshow": {
     "slide_type": "slide"
    }
   },
   "source": [
    "따라서 직접 사용하려면...\n",
    "\n",
    "읽기 전용 리스트를 일반 리스트나 튜플로 **형변환**해야 한다."
   ]
  },
  {
   "cell_type": "code",
   "execution_count": null,
   "metadata": {
    "slideshow": {
     "slide_type": "subslide"
    }
   },
   "outputs": [],
   "source": [
    "# 딕셔너리의 모든 키를 튜플로 형변환한다.\n",
    "tuple(d.keys()) "
   ]
  },
  {
   "cell_type": "code",
   "execution_count": null,
   "metadata": {
    "slideshow": {
     "slide_type": "subslide"
    }
   },
   "outputs": [],
   "source": [
    "# 딕셔너리의 모든 키:매핑값 쌍을 \n",
    "# (키, 매핑값)의 튜플을 객체로 담고 있는 리스트로 형변환한다.\n",
    "list(d.items())"
   ]
  },
  {
   "cell_type": "markdown",
   "metadata": {
    "slideshow": {
     "slide_type": "slide"
    }
   },
   "source": [
    "***keys(), values(), items() 이 세 메소드는 왜 처음부터 바로 처리가 가능한 리스트 등의 자료형이 아닌 '읽기 전용' 리스트를 반환할 것일까?*** "
   ]
  },
  {
   "cell_type": "markdown",
   "metadata": {
    "slideshow": {
     "slide_type": "subslide"
    }
   },
   "source": [
    "컴퓨터의 자원을 더 효율적으로 사용하기 위해서다.\n",
    "- 새로운 객체의 생성을 하지 않고, 딕셔너리의 키-매핑값들을 직접 참조하여 사용"
   ]
  },
  {
   "cell_type": "markdown",
   "metadata": {
    "slideshow": {
     "slide_type": "slide"
    }
   },
   "source": [
    "### 질의 메소드\n",
    "\n",
    "*d*.**get**(***k***[, ***v***])\n",
    "\n",
    "- 키 _k_ 가 딕셔너리 _d_ 에 있는 경우, 해당 매핑값을 반환\n",
    "- 키 _k_ 가 딕셔너리 _d_ 에 없는 경우\n",
    "    - _v_ 가 주어지지 않으면 None을 반환\n",
    "    - _v_ 가 주어지면 _v_ 를 반환"
   ]
  },
  {
   "cell_type": "code",
   "execution_count": null,
   "metadata": {
    "slideshow": {
     "slide_type": "subslide"
    }
   },
   "outputs": [],
   "source": [
    "d = {'a': True, 'b':False, 'c':False, 'd':True}\n",
    "\n",
    "print(d['e'])"
   ]
  },
  {
   "cell_type": "code",
   "execution_count": null,
   "metadata": {
    "slideshow": {
     "slide_type": "subslide"
    }
   },
   "outputs": [],
   "source": [
    "d = {'a': True, 'b':False, 'c':False, 'd':True}\n",
    "\n",
    "print(d.get('a'))\n",
    "print(d.get('e'))\n",
    "print(d.get('e', 'key does not exist'))"
   ]
  },
  {
   "cell_type": "markdown",
   "metadata": {
    "slideshow": {
     "slide_type": "slide"
    }
   },
   "source": [
    "## Lab: 6. 딕셔너리를 활용한 Word Count\n",
    "- 딕셔너리를 사용하여 ***word*** 내의 각 단어의 출현 횟수를 계산하세요\n",
    "- 결과 딕셔너리의 이름은 ***word_dict***로 하세요"
   ]
  },
  {
   "cell_type": "markdown",
   "metadata": {
    "slideshow": {
     "slide_type": "subslide"
    }
   },
   "source": [
    "- 힌트\n",
    "  1. 빈 딕셔너리를 만든다.\n",
    "  2. ***words***의 단어들을 하나씩 확인하면서,\n",
    "    1. 해당 단어가 딕셔너리의 키에 존재하면, value를 1 증가\n",
    "    2. 해당 단어가 딕셔너리의 키에 존재하지 않으면, value를 1로 설정"
   ]
  },
  {
   "cell_type": "markdown",
   "metadata": {
    "slideshow": {
     "slide_type": "subslide"
    }
   },
   "source": [
    "### 답"
   ]
  },
  {
   "cell_type": "code",
   "execution_count": null,
   "metadata": {
    "slideshow": {
     "slide_type": "subslide"
    }
   },
   "outputs": [],
   "source": []
  }
 ],
 "metadata": {
  "celltoolbar": "Slideshow",
  "kernelspec": {
   "display_name": "Python 3",
   "language": "python",
   "name": "python3"
  },
  "language_info": {
   "codemirror_mode": {
    "name": "ipython",
    "version": 3
   },
   "file_extension": ".py",
   "mimetype": "text/x-python",
   "name": "python",
   "nbconvert_exporter": "python",
   "pygments_lexer": "ipython3",
   "version": "3.7.8"
  }
 },
 "nbformat": 4,
 "nbformat_minor": 2
}
