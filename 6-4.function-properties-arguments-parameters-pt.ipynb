{
 "cells": [
  {
   "cell_type": "markdown",
   "metadata": {
    "slideshow": {
     "slide_type": "slide"
    }
   },
   "source": [
    "# 전달인자"
   ]
  },
  {
   "cell_type": "markdown",
   "metadata": {
    "slideshow": {
     "slide_type": "subslide"
    }
   },
   "source": [
    "**전달인자**(argument)란?\n",
    "\n",
    "- 함수(또는 메소드)를 호출할 때 함수(또는 메소드)의 이름 바로 다음에 오는 소괄호 '**( )**' 안에 할당해서 함수 안으로 전달하는 값이다."
   ]
  },
  {
   "cell_type": "markdown",
   "metadata": {
    "slideshow": {
     "slide_type": "subslide"
    }
   },
   "source": [
    "대부분의 파이썬 함수(또는 메소드)는 \n",
    "\n",
    "값을 전달인자로 받아서 작업을 수행한다."
   ]
  },
  {
   "cell_type": "markdown",
   "metadata": {
    "slideshow": {
     "slide_type": "subslide"
    }
   },
   "source": [
    "전달인자는 \n",
    "\n",
    "- '필수 전달인자'\n",
    "\n",
    "- '선택 전달인자' \n",
    "\n",
    "두 종류로 구분할 수 있다."
   ]
  },
  {
   "cell_type": "markdown",
   "metadata": {
    "slideshow": {
     "slide_type": "subslide"
    }
   },
   "source": [
    "**필수 전달인자**\n",
    "\n",
    "- 반드시 값을 전달해야 하며 \n",
    "\n",
    "- 그렇지 않은 경우 오류가 발생한다."
   ]
  },
  {
   "cell_type": "markdown",
   "metadata": {
    "slideshow": {
     "slide_type": "subslide"
    }
   },
   "source": [
    "**선택 전달인자**\n",
    "\n",
    "- 선택 사항이라 값을 전달하지 않아도 되며 \n",
    "\n",
    "- 함수(메소드) 정의 문서에서 일반적으로 대괄호(**[ ]**)로 표시한다.\n",
    "\n",
    "- 값을 전달하지 않으면 기본 값을 적용한다."
   ]
  },
  {
   "cell_type": "markdown",
   "metadata": {
    "slideshow": {
     "slide_type": "subslide"
    }
   },
   "source": [
    "다시 **range()**를 예로 들어보자."
   ]
  },
  {
   "cell_type": "markdown",
   "metadata": {
    "slideshow": {
     "slide_type": "subslide"
    }
   },
   "source": [
    "**range**([***시작번호***,] ***끝번호***[, ***폭***])\n",
    "\n",
    "***시작번호*** : 순서 열의 시작 번호다.\n",
    "\n",
    "값을 전달하지 않으면 기본 값인 **0**이 주어진다."
   ]
  },
  {
   "cell_type": "markdown",
   "metadata": {
    "slideshow": {
     "slide_type": "subslide"
    }
   },
   "source": [
    "**range**([***시작번호***,] ***끝번호***[, ***폭***])\n",
    "\n",
    "***끝번호*** : 순서 열의 최댓값으로 이 값은 반드시 전달해야 한다.\n",
    "\n",
    "값을 전달하지 않으면 **TypeError** 오류가 발생한다."
   ]
  },
  {
   "cell_type": "markdown",
   "metadata": {
    "slideshow": {
     "slide_type": "subslide"
    }
   },
   "source": [
    "**range**([***시작번호***,] ***끝번호***[, ***폭***])\n",
    "\n",
    "***폭*** : 순서 열에서 서로 붙어 있는 번호 간의 간격이다.\n",
    "\n",
    "값을 전달하지 않으면 기본 값인 **1**이 주어진다."
   ]
  },
  {
   "cell_type": "markdown",
   "metadata": {
    "slideshow": {
     "slide_type": "slide"
    }
   },
   "source": [
    "## 따라해보기"
   ]
  },
  {
   "cell_type": "markdown",
   "metadata": {
    "slideshow": {
     "slide_type": "subslide"
    }
   },
   "source": [
    "[**range**(*stop*)](https://docs.python.org/3/library/functions.html?highlight=float#func-range)\n",
    "- ***stop*** 은 필수 전달인자다."
   ]
  },
  {
   "cell_type": "code",
   "execution_count": null,
   "metadata": {
    "slideshow": {
     "slide_type": "subslide"
    }
   },
   "outputs": [],
   "source": [
    "range()"
   ]
  },
  {
   "cell_type": "markdown",
   "metadata": {
    "slideshow": {
     "slide_type": "subslide"
    }
   },
   "source": [
    "[*class* **float**([*x*])](https://docs.python.org/3/library/functions.html?highlight=float#float)\n",
    "\n",
    "- ***x*** 는 선택 전달인자다. "
   ]
  },
  {
   "cell_type": "code",
   "execution_count": null,
   "metadata": {
    "slideshow": {
     "slide_type": "subslide"
    }
   },
   "outputs": [],
   "source": [
    "d1 = float()"
   ]
  },
  {
   "cell_type": "code",
   "execution_count": null,
   "metadata": {
    "slideshow": {
     "slide_type": "fragment"
    }
   },
   "outputs": [],
   "source": [
    "print(d1)"
   ]
  },
  {
   "cell_type": "code",
   "execution_count": null,
   "metadata": {
    "slideshow": {
     "slide_type": "subslide"
    }
   },
   "outputs": [],
   "source": [
    "d2 = float('12')"
   ]
  },
  {
   "cell_type": "code",
   "execution_count": null,
   "metadata": {
    "slideshow": {
     "slide_type": "fragment"
    }
   },
   "outputs": [],
   "source": [
    "print(d2)"
   ]
  },
  {
   "cell_type": "markdown",
   "metadata": {
    "slideshow": {
     "slide_type": "slide"
    }
   },
   "source": [
    "## 전달인자의 종류"
   ]
  },
  {
   "cell_type": "markdown",
   "metadata": {
    "slideshow": {
     "slide_type": "subslide"
    }
   },
   "source": [
    "전달인자는 형식에 따라 \n",
    "\n",
    "- '위치 전달인자' \n",
    "\n",
    "- '키워드 전달인자' \n",
    "\n",
    "두 종류로 구분할 수 있다."
   ]
  },
  {
   "cell_type": "markdown",
   "metadata": {
    "slideshow": {
     "slide_type": "subslide"
    }
   },
   "source": [
    "**위치 전달인자**(positional argument)\n",
    "\n",
    "- 함수의 괄호 안에 쉼표로 구분하는 \n",
    "- 한 개 또는 여러 개의 값을 말한다.\n",
    "\n",
    "- 예) **print_setup('A4', 1, False)**"
   ]
  },
  {
   "cell_type": "markdown",
   "metadata": {
    "slideshow": {
     "slide_type": "subslide"
    }
   },
   "source": [
    "􏰎**키워드 전달인자**(keyword argument)\n",
    "\n",
    "- 앞에 키워드 식별자가 오는 전달인자를 말한다.\n",
    "\n",
    "- 예) **print_setup(paper='A4', copies=1, color=False)**"
   ]
  },
  {
   "cell_type": "markdown",
   "metadata": {
    "slideshow": {
     "slide_type": "subslide"
    }
   },
   "source": [
    "필요한 전달인자보다 \n",
    "\n",
    "적거나 많은 전달인자를 사용하면 \n",
    "\n",
    "**TypeError**가 발생한다."
   ]
  },
  {
   "cell_type": "markdown",
   "metadata": {
    "slideshow": {
     "slide_type": "subslide"
    }
   },
   "source": [
    "[**len**(*s*)](https://docs.python.org/3/library/functions.html?highlight=float#len)"
   ]
  },
  {
   "cell_type": "code",
   "execution_count": null,
   "metadata": {
    "slideshow": {
     "slide_type": "subslide"
    }
   },
   "outputs": [],
   "source": [
    "# len() 함수에 전달인자가 0개다.\n",
    "len()"
   ]
  },
  {
   "cell_type": "code",
   "execution_count": null,
   "metadata": {
    "slideshow": {
     "slide_type": "subslide"
    }
   },
   "outputs": [],
   "source": [
    "a = [1, 2, 3]\n",
    "b = [4, 5, 6]"
   ]
  },
  {
   "cell_type": "code",
   "execution_count": null,
   "metadata": {
    "slideshow": {
     "slide_type": "fragment"
    }
   },
   "outputs": [],
   "source": [
    "# len() 함수에 전달인자가 2개다.\n",
    "len(a, b)"
   ]
  },
  {
   "cell_type": "markdown",
   "metadata": {
    "slideshow": {
     "slide_type": "subslide"
    }
   },
   "source": [
    "위치 전달인자가 키워드 전달인자보다 항상 먼저 와야한다.\n",
    "- 그렇지 않을 경우 **SyntaxError**가 발생한다."
   ]
  },
  {
   "cell_type": "code",
   "execution_count": null,
   "metadata": {
    "slideshow": {
     "slide_type": "subslide"
    }
   },
   "outputs": [],
   "source": [
    "L = ['c', 'b', 'd', 'a']"
   ]
  },
  {
   "cell_type": "code",
   "execution_count": null,
   "metadata": {
    "slideshow": {
     "slide_type": "fragment"
    }
   },
   "outputs": [],
   "source": [
    "# 위치 전달인자, 키워드 전달인자 순서다.\n",
    "sorted(L, reverse=True)"
   ]
  },
  {
   "cell_type": "code",
   "execution_count": null,
   "metadata": {
    "slideshow": {
     "slide_type": "subslide"
    }
   },
   "outputs": [],
   "source": [
    "# > L = ['c', 'b', 'd', 'a']\n",
    "# 키워드 전달인자, 위치 전달인자 순서다.\n",
    "sorted(reverse=True, L)"
   ]
  },
  {
   "cell_type": "markdown",
   "metadata": {
    "slideshow": {
     "slide_type": "slide"
    }
   },
   "source": [
    "# 매개변수"
   ]
  },
  {
   "cell_type": "markdown",
   "metadata": {
    "slideshow": {
     "slide_type": "subslide"
    }
   },
   "source": [
    "**매개변수**(parameter)란?\n",
    "\n",
    "- 함수를 정의할 때 괄호 안에 선언한 식별자(변수)이며, \n",
    "\n",
    "- 전달인자를 함수 내부로 가져와 처리할 목적으로 사용한다."
   ]
  },
  {
   "cell_type": "markdown",
   "metadata": {
    "slideshow": {
     "slide_type": "slide"
    }
   },
   "source": [
    "## 매개변수의 종류"
   ]
  },
  {
   "cell_type": "markdown",
   "metadata": {
    "slideshow": {
     "slide_type": "subslide"
    }
   },
   "source": [
    "함수를 정의할 때 매개변수는 \n",
    "\n",
    "크게 세 가지 종류로 나눌 수 있다."
   ]
  },
  {
   "cell_type": "markdown",
   "metadata": {
    "slideshow": {
     "slide_type": "subslide"
    }
   },
   "source": [
    "1) 매개변수가 없다. \n",
    "\n",
    "- 전달인자 없이 함수의 기능을 실행한다. \n",
    "\n",
    "- 매개변수가 **0**개다.\n",
    "\n",
    "- 예) **def myfunction():**"
   ]
  },
  {
   "cell_type": "markdown",
   "metadata": {
    "slideshow": {
     "slide_type": "subslide"
    }
   },
   "source": [
    "2) **위치 매개변수**(positional parameter)\n",
    "\n",
    "- 쉼표로 구분하는 한 개 이상의 식별자로 정의하는 매개변수다.\n",
    "\n",
    "- 예) **def myfunction(length, weight):**"
   ]
  },
  {
   "cell_type": "markdown",
   "metadata": {
    "slideshow": {
     "slide_type": "subslide"
    }
   },
   "source": [
    "3) **키워드 매개변수**(keyword parameter)는 \n",
    "\n",
    "- 쉼표로 구분하는 한 개 이상의 **식별자=기본값** 형태의 쌍으로 정의하는 매개변수다.\n",
    "\n",
    "- 예) **def myfunction(copies=1, color=None):**"
   ]
  },
  {
   "cell_type": "markdown",
   "metadata": {
    "slideshow": {
     "slide_type": "subslide"
    }
   },
   "source": [
    "앞서 전달인자를 설명할 때 \n",
    "\n",
    "위치 전달인자가 키워드 전달인자보다 \n",
    "\n",
    "항상 먼저 와야 한다고 했다. "
   ]
  },
  {
   "cell_type": "markdown",
   "metadata": {
    "slideshow": {
     "slide_type": "subslide"
    }
   },
   "source": [
    "따라서 함수를 정의할 때도 \n",
    "\n",
    "모든 위치 매개변수(필수 매개변수)를 \n",
    "\n",
    "키워드 매개변수(선택 매개변수)보다 \n",
    "\n",
    "먼저 선언해야 한다."
   ]
  },
  {
   "cell_type": "markdown",
   "metadata": {
    "slideshow": {
     "slide_type": "subslide"
    }
   },
   "source": [
    "**def ok(x, y, z=1):** (<font color='blue'>**O**</font>)\n",
    "\n",
    "**def bad(x, y=1, z):** (<font color='red'>**X**</font>)"
   ]
  },
  {
   "cell_type": "code",
   "execution_count": null,
   "metadata": {
    "slideshow": {
     "slide_type": "subslide"
    }
   },
   "outputs": [],
   "source": [
    "def ok_function(x, y, z=1):\n",
    "    print(x, y, z)"
   ]
  },
  {
   "cell_type": "code",
   "execution_count": null,
   "metadata": {
    "slideshow": {
     "slide_type": "fragment"
    }
   },
   "outputs": [],
   "source": [
    "ok_function(1, 2)"
   ]
  },
  {
   "cell_type": "code",
   "execution_count": null,
   "metadata": {},
   "outputs": [],
   "source": [
    "ok_function(4, 5, 6)"
   ]
  },
  {
   "cell_type": "code",
   "execution_count": null,
   "metadata": {},
   "outputs": [],
   "source": [
    "ok_function(4, 5, z=7)"
   ]
  },
  {
   "cell_type": "code",
   "execution_count": null,
   "metadata": {},
   "outputs": [],
   "source": [
    "ok_function(4, y=6, z=9)"
   ]
  },
  {
   "cell_type": "code",
   "execution_count": null,
   "metadata": {},
   "outputs": [],
   "source": [
    "ok_function(y=9, x=7, z=10)"
   ]
  },
  {
   "cell_type": "code",
   "execution_count": null,
   "metadata": {
    "slideshow": {
     "slide_type": "subslide"
    }
   },
   "outputs": [],
   "source": [
    "def bad_function(x, y=1, z):\n",
    "    print(x, y, z)"
   ]
  },
  {
   "cell_type": "markdown",
   "metadata": {
    "slideshow": {
     "slide_type": "slide"
    }
   },
   "source": [
    "## 필수 매개변수와 선택 매개변수"
   ]
  },
  {
   "cell_type": "markdown",
   "metadata": {
    "slideshow": {
     "slide_type": "subslide"
    }
   },
   "source": [
    "**필수 매개변수**\n",
    "\n",
    "- 기본값이 설정되지 않은 매개변수다.\n",
    "- 예) **myfunction(*length, weight*)**"
   ]
  },
  {
   "cell_type": "markdown",
   "metadata": {
    "slideshow": {
     "slide_type": "subslide"
    }
   },
   "source": [
    "기본값이 미리 설정되어 있지 않기 때문에 \n",
    "\n",
    "함수를 호출할 때 \n",
    "\n",
    "반드시 전달인자를 지정해야 하며, \n",
    "\n",
    "지정하지 않으면 오류가 발생한다."
   ]
  },
  {
   "cell_type": "markdown",
   "metadata": {
    "slideshow": {
     "slide_type": "subslide"
    }
   },
   "source": [
    "**선택 매개변수**\n",
    "\n",
    "- 기본값이 미리 설정되어 있는 매개변수다.\n",
    "- 예) **myfunction(*copies=1, color=None*)**"
   ]
  },
  {
   "cell_type": "markdown",
   "metadata": {
    "slideshow": {
     "slide_type": "subslide"
    }
   },
   "source": [
    "기본값이 미리 설정되어 있기 때문에 \n",
    "\n",
    "전달인자를 지정하지 않으면 \n",
    "\n",
    "해당 함수가 기본 값으로 명령문을 실행한다. "
   ]
  },
  {
   "cell_type": "markdown",
   "metadata": {
    "slideshow": {
     "slide_type": "subslide"
    }
   },
   "source": [
    "기본값이 아닌 다른 값을 사용하고자 할 때만 지정하면 된다."
   ]
  },
  {
   "cell_type": "markdown",
   "metadata": {
    "slideshow": {
     "slide_type": "slide"
    }
   },
   "source": [
    "## 따라해보기"
   ]
  },
  {
   "cell_type": "code",
   "execution_count": null,
   "metadata": {
    "slideshow": {
     "slide_type": "subslide"
    }
   },
   "outputs": [],
   "source": [
    "def string_format(text, length=10, fills=' '):\n",
    "  if len(text) < length:\n",
    "    text = text + fills * (length - len(text))\n",
    "  return text"
   ]
  },
  {
   "cell_type": "code",
   "execution_count": null,
   "metadata": {
    "slideshow": {
     "slide_type": "subslide"
    }
   },
   "outputs": [],
   "source": [
    "# s의 길이는 12\n",
    "s = '파이썬과 빅데이터 분석'            "
   ]
  },
  {
   "cell_type": "code",
   "execution_count": null,
   "metadata": {
    "slideshow": {
     "slide_type": "subslide"
    }
   },
   "outputs": [],
   "source": [
    "# > s = '파이썬과 빅데이터 분석'/len(s) = 12\n",
    "\n",
    "# 필수 전달인자만 사용한다.\n",
    "string_format(s)                  "
   ]
  },
  {
   "cell_type": "code",
   "execution_count": null,
   "metadata": {
    "slideshow": {
     "slide_type": "subslide"
    }
   },
   "outputs": [],
   "source": [
    "# > s = '파이썬과 빅데이터 분석'/len(s) = 12\n",
    "\n",
    "# 위치 전달인자로 length에 15를 전달한다.\n",
    "string_format(s, 15)              "
   ]
  },
  {
   "cell_type": "code",
   "execution_count": null,
   "metadata": {
    "slideshow": {
     "slide_type": "subslide"
    }
   },
   "outputs": [],
   "source": [
    "# > s = '파이썬과 빅데이터 분석'/len(s) = 12\n",
    "\n",
    "# 위치 전달인자로 length에 5, fills에 '*'를 전달한다.\n",
    "# s보다 length가 짧다.\n",
    "string_format(s, 5, '*')        "
   ]
  },
  {
   "cell_type": "code",
   "execution_count": null,
   "metadata": {
    "slideshow": {
     "slide_type": "subslide"
    }
   },
   "outputs": [],
   "source": [
    "# > s = '파이썬과 빅데이터 분석'/len(s) = 12\n",
    "\n",
    "# 위치 전달인자로 length에 15, fills에 '!'를 전달한다.\n",
    "string_format(s, 15, '!')         "
   ]
  },
  {
   "cell_type": "code",
   "execution_count": null,
   "metadata": {
    "slideshow": {
     "slide_type": "subslide"
    }
   },
   "outputs": [],
   "source": [
    "# > s = '파이썬과 빅데이터 분석'/len(s) = 12\n",
    "\n",
    "# 위치 전달인자로 length에 25, fills에 '~'를 전달한다.\n",
    "string_format(s, 25, '~')         "
   ]
  },
  {
   "cell_type": "code",
   "execution_count": null,
   "metadata": {
    "slideshow": {
     "slide_type": "subslide"
    }
   },
   "outputs": [],
   "source": [
    "# > s = '파이썬과 빅데이터 분석'/len(s) = 12\n",
    "\n",
    "# 두 번째 위치 전달인자로 문자열이 왔다.\n",
    "string_format(s, fills='~')               "
   ]
  },
  {
   "cell_type": "code",
   "execution_count": null,
   "metadata": {
    "slideshow": {
     "slide_type": "subslide"
    }
   },
   "outputs": [],
   "source": [
    "# > s = '파이썬과 빅데이터 분석'/len(s) = 12\n",
    "\n",
    "# 키워드 전달인자가 위치 전달인자 앞에 있다.\n",
    "string_format(s, length=25, '~')    "
   ]
  },
  {
   "cell_type": "code",
   "execution_count": null,
   "metadata": {
    "slideshow": {
     "slide_type": "subslide"
    }
   },
   "outputs": [],
   "source": [
    "# > s = '파이썬과 빅데이터 분석'/len(s) = 12\n",
    "\n",
    "# 키워드 전달인자를 사용한다. \n",
    "# 키워드 전달인자를 사용하면 순서는 중요하지 않다.\n",
    "# fills와 length의 순서를 바꿔 값을 전달한다.\n",
    "string_format(s, fills='$', length=15)    "
   ]
  },
  {
   "cell_type": "code",
   "execution_count": null,
   "metadata": {
    "slideshow": {
     "slide_type": "subslide"
    }
   },
   "outputs": [],
   "source": [
    "# > s = '파이썬과 빅데이터 분석'/len(s) = 12\n",
    "\n",
    "# 키워드 전달인자를 필수 매개변수에도 사용할 수 있다.\n",
    "# 나머지 전달인자는 기본값을 사용한다. \n",
    "# length가 s보다 짧기 때문에 fills는 무시한다.\n",
    "string_format(text=s)"
   ]
  },
  {
   "cell_type": "code",
   "execution_count": null,
   "metadata": {
    "slideshow": {
     "slide_type": "subslide"
    }
   },
   "outputs": [],
   "source": [
    "# > s = '파이썬과 빅데이터 분석'/len(s) = 12\n",
    "\n",
    "# length는 기본값인 10을 사용한다. 따라서 fills는 무시한다.\n",
    "string_format(fills='@', text=s)              "
   ]
  },
  {
   "cell_type": "code",
   "execution_count": null,
   "metadata": {
    "slideshow": {
     "slide_type": "subslide"
    }
   },
   "outputs": [],
   "source": [
    "# > s = '파이썬과 빅데이터 분석'/len(s) = 12\n",
    "\n",
    "# fills는 기본값인 ' '를 사용한다. \n",
    "# length가 s보다 짧기 때문에 fills는 무시한다.\n",
    "string_format(length=1, text=s)               "
   ]
  },
  {
   "cell_type": "code",
   "execution_count": null,
   "metadata": {
    "slideshow": {
     "slide_type": "subslide"
    }
   },
   "outputs": [],
   "source": [
    "# > s = '파이썬과 빅데이터 분석'/len(s) = 12\n",
    "\n",
    "# 모든 값에 키워드 전달인자를 사용한다.\n",
    "string_format(fills='%!', text=s, length=20)  "
   ]
  },
  {
   "cell_type": "code",
   "execution_count": null,
   "metadata": {
    "slideshow": {
     "slide_type": "subslide"
    }
   },
   "outputs": [],
   "source": [
    "# > s = '파이썬과 빅데이터 분석'/len(s) = 12\n",
    "\n",
    "# 키워드 전달인자가 위치 전달인자 앞에 있다.\n",
    "string_format(s, length=15, '$')          "
   ]
  },
  {
   "cell_type": "code",
   "execution_count": null,
   "metadata": {
    "slideshow": {
     "slide_type": "subslide"
    }
   },
   "outputs": [],
   "source": [
    "# > s = '파이썬과 빅데이터 분석'/len(s) = 12\n",
    "\n",
    "# 이제는 오류 없이 실행된다.\n",
    "string_format(s, length=15, fills='$')    "
   ]
  },
  {
   "cell_type": "code",
   "execution_count": null,
   "metadata": {
    "slideshow": {
     "slide_type": "subslide"
    }
   },
   "outputs": [],
   "source": [
    "# > s = '파이썬과 빅데이터 분석'/len(s) = 12\n",
    "\n",
    "# 키워드 전달인자가 위치 전달인자 앞에 있다.\n",
    "string_format(text=s, 15, '$') "
   ]
  },
  {
   "cell_type": "markdown",
   "metadata": {
    "slideshow": {
     "slide_type": "slide"
    }
   },
   "source": [
    "# __*__ 연산자와 전달인자의 위치"
   ]
  },
  {
   "cell_type": "markdown",
   "metadata": {
    "slideshow": {
     "slide_type": "subslide"
    }
   },
   "source": [
    "함수 정의 부분에 __*__를 선언하면 \n",
    "\n",
    "전달인자들의 위치를 지정하는 역할을 한다. "
   ]
  },
  {
   "cell_type": "markdown",
   "metadata": {
    "slideshow": {
     "slide_type": "subslide"
    }
   },
   "source": [
    "__*__ 뒤에는 \n",
    "\n",
    "위치 전달인자가 올 수 없고 \n",
    "\n",
    "키워드 전달인자만 올 수 있다."
   ]
  },
  {
   "cell_type": "markdown",
   "metadata": {
    "slideshow": {
     "slide_type": "slide"
    }
   },
   "source": [
    "자주 사용하는 **sorted()** 함수를 살펴보자."
   ]
  },
  {
   "cell_type": "markdown",
   "metadata": {
    "slideshow": {
     "slide_type": "subslide"
    }
   },
   "source": [
    "[**sorted**(*iterable, *, key=None, reverse=False*)](https://docs.python.org/3/library/functions.html?highlight=float#sorted)"
   ]
  },
  {
   "cell_type": "code",
   "execution_count": null,
   "metadata": {
    "slideshow": {
     "slide_type": "subslide"
    }
   },
   "outputs": [],
   "source": [
    "L = ['a', 'd', 'C', 'E', 'b']"
   ]
  },
  {
   "cell_type": "code",
   "execution_count": null,
   "metadata": {
    "slideshow": {
     "slide_type": "fragment"
    }
   },
   "outputs": [],
   "source": [
    "# 유니코드에서 영어 대문자가 소문자보다 먼저 온다.\n",
    "sorted(L)  "
   ]
  },
  {
   "cell_type": "code",
   "execution_count": null,
   "metadata": {
    "slideshow": {
     "slide_type": "subslide"
    }
   },
   "outputs": [],
   "source": [
    "# > L = ['a', 'd', 'C', 'E', 'b']\n",
    "\n",
    "# 키워드 전달인자로 기본값을 전달한다.\n",
    "sorted(L, key=None, reverse=False)"
   ]
  },
  {
   "cell_type": "code",
   "execution_count": null,
   "metadata": {
    "slideshow": {
     "slide_type": "subslide"
    }
   },
   "outputs": [],
   "source": [
    "# > L = ['a', 'd', 'C', 'E', 'b']\n",
    "\n",
    "# 위치 전달인자로 기본값을 전달한다.\n",
    "sorted(L, key=None, reverse=False)"
   ]
  },
  {
   "cell_type": "markdown",
   "metadata": {
    "slideshow": {
     "slide_type": "slide"
    }
   },
   "source": [
    "## 따라해보기"
   ]
  },
  {
   "cell_type": "code",
   "execution_count": null,
   "metadata": {
    "slideshow": {
     "slide_type": "subslide"
    }
   },
   "outputs": [],
   "source": [
    "def product_in_units(i, j, k, *, units='square meters'):\n",
    "    return f'{i * j * k} {units}'"
   ]
  },
  {
   "cell_type": "code",
   "execution_count": null,
   "metadata": {
    "slideshow": {
     "slide_type": "subslide"
    }
   },
   "outputs": [],
   "source": [
    "# > def product_in_units(i, j, k, *, units='square meters'):\n",
    "\n",
    "# 첫 세 개 위치 전달인자만 사용한다.\n",
    "product_in_units(2, 3, 4)"
   ]
  },
  {
   "cell_type": "code",
   "execution_count": null,
   "metadata": {
    "slideshow": {
     "slide_type": "subslide"
    }
   },
   "outputs": [],
   "source": [
    "# > def product_in_units(i, j, k, *, units='square meters'):\n",
    "\n",
    "# 마지막 선택 매개변수에 키워드 전달인자 값으로 함수를 호출한다.\n",
    "product_in_units(2, 3, 4, units='square inches')"
   ]
  },
  {
   "cell_type": "code",
   "execution_count": null,
   "metadata": {
    "slideshow": {
     "slide_type": "subslide"
    }
   },
   "outputs": [],
   "source": [
    "# > def product_in_units(i, j, k, *, units='square meters'):\n",
    "\n",
    "# 마지막 선택 매개변수에 위치 전달인자 값으로 함수를 호출한다.\n",
    "product_in_units(2, 3, k=4, units='square inches')"
   ]
  },
  {
   "cell_type": "markdown",
   "metadata": {
    "slideshow": {
     "slide_type": "slide"
    }
   },
   "source": [
    "****가 매개변수 처음에 위치한다면 어떻게 될까?***"
   ]
  },
  {
   "cell_type": "markdown",
   "metadata": {
    "slideshow": {
     "slide_type": "subslide"
    }
   },
   "source": [
    "함수의 매개변수로 \n",
    "\n",
    "위치 전달인자를 사용할 수 없고, \n",
    "\n",
    "키워드 전달인자만 사용할 수 있다. "
   ]
  },
  {
   "cell_type": "code",
   "execution_count": null,
   "metadata": {
    "slideshow": {
     "slide_type": "subslide"
    }
   },
   "outputs": [],
   "source": [
    "# --- *를 매개변수 맨 앞에 선언한다.\n",
    "def print_setup(*, paper='A4', copies=1, color=False):\n",
    "  print(f\"프린터 셋팅: paper='{paper}', \"\n",
    "        f\"copies={copies}, color={color}\")"
   ]
  },
  {
   "cell_type": "code",
   "execution_count": null,
   "metadata": {
    "slideshow": {
     "slide_type": "subslide"
    }
   },
   "outputs": [],
   "source": [
    "# > def print_setup(*, paper='A4', copies=1, color=False):\n",
    "\n",
    "# 전달인자 없이 모두 선택 매개변수의 기본값을 사용한다.\n",
    "print_setup()"
   ]
  },
  {
   "cell_type": "code",
   "execution_count": null,
   "metadata": {
    "slideshow": {
     "slide_type": "subslide"
    }
   },
   "outputs": [],
   "source": [
    "# > def print_setup(*, paper='A4', copies=1, color=False):\n",
    "\n",
    "# 키워드 전달인자를 사용하여 기본값 중 일부를 변경한다.\n",
    "print_setup(paper='Letter', color=True) "
   ]
  },
  {
   "cell_type": "code",
   "execution_count": null,
   "metadata": {
    "slideshow": {
     "slide_type": "subslide"
    }
   },
   "outputs": [],
   "source": [
    "# > def print_setup(*, paper='A4', copies=1, color=False):\n",
    "\n",
    "# 키워드 전달인자를 사용하여 기본값 모두 변경하고 순서도 섞어 호출한다.\n",
    "print_setup(copies=5, paper='Letter', color=True)"
   ]
  },
  {
   "cell_type": "code",
   "execution_count": null,
   "metadata": {
    "slideshow": {
     "slide_type": "subslide"
    }
   },
   "outputs": [],
   "source": [
    "# > def print_setup(*, paper='A4', copies=1, color=False):\n",
    "\n",
    "# 위치 전달인자를 사용하여 기본값 모두 변경한다.\n",
    "print_setup('Letter', 5, True)                   "
   ]
  },
  {
   "cell_type": "code",
   "execution_count": null,
   "metadata": {
    "slideshow": {
     "slide_type": "subslide"
    }
   },
   "outputs": [],
   "source": [
    "# > def print_setup(*, paper='A4', copies=1, color=False):\n",
    "\n",
    "# 위치 전달인자를 사용하여 기본값 중 첫 번째 매개변수의 값을 변경한다.\n",
    "print_setup('Letter')"
   ]
  },
  {
   "cell_type": "markdown",
   "metadata": {
    "slideshow": {
     "slide_type": "slide"
    }
   },
   "source": [
    "지금까지의 예는 \n",
    "\n",
    "함수를 호출할 때 전달인자의 개수가 정해져 있었다. \n",
    "\n",
    "그런데 우리가 잘 알고 있는 **print()** 함수는 \n",
    "\n",
    "**불특정 다수의 전달인자**를 입력해도 처리가 가능하다."
   ]
  },
  {
   "cell_type": "code",
   "execution_count": null,
   "metadata": {
    "slideshow": {
     "slide_type": "subslide"
    }
   },
   "outputs": [],
   "source": [
    "# 전달인자가 없다.\n",
    "print()"
   ]
  },
  {
   "cell_type": "code",
   "execution_count": null,
   "metadata": {
    "slideshow": {
     "slide_type": "subslide"
    }
   },
   "outputs": [],
   "source": [
    "# 전달인자가 한 개다.\n",
    "print(1)"
   ]
  },
  {
   "cell_type": "code",
   "execution_count": null,
   "metadata": {
    "slideshow": {
     "slide_type": "subslide"
    }
   },
   "outputs": [],
   "source": [
    "# 전달인자가 세 개다.\n",
    "print('a', 'b', 'c')"
   ]
  },
  {
   "cell_type": "code",
   "execution_count": null,
   "metadata": {
    "slideshow": {
     "slide_type": "subslide"
    }
   },
   "outputs": [],
   "source": [
    "# 전달인자가 다섯 개다.\n",
    "print(1, 2, 3, 'a', '가')"
   ]
  },
  {
   "cell_type": "markdown",
   "metadata": {
    "slideshow": {
     "slide_type": "slide"
    }
   },
   "source": [
    "***__print()__ 함수처럼***\n",
    "\n",
    "***임의의 전달인자를 처리할 수 있는 함수는***\n",
    "\n",
    "***어떻게 만들 수 있을까?***"
   ]
  },
  {
   "cell_type": "markdown",
   "metadata": {
    "slideshow": {
     "slide_type": "subslide"
    }
   },
   "source": [
    "__*__ 연산자를 사용하면 된다."
   ]
  },
  {
   "cell_type": "markdown",
   "metadata": {
    "slideshow": {
     "slide_type": "slide"
    }
   },
   "source": [
    "# 시퀀스형 패킹 및 언패킹 연산자 __*__"
   ]
  },
  {
   "cell_type": "markdown",
   "metadata": {
    "slideshow": {
     "slide_type": "subslide"
    }
   },
   "source": [
    "먼저 **print()** 함수의 정의를 살펴보자."
   ]
  },
  {
   "cell_type": "markdown",
   "metadata": {
    "slideshow": {
     "slide_type": "subslide"
    }
   },
   "source": [
    "[**print**(*objects, sep=' ', end='\\n', file=sys.stdout, flush=False)](https://docs.python.org/3/library/functions.html#print)"
   ]
  },
  {
   "cell_type": "markdown",
   "metadata": {
    "slideshow": {
     "slide_type": "subslide"
    }
   },
   "source": [
    "이 함수 정의에서 \n",
    "\n",
    "첫 번째 매개변수를 보면 \n",
    "\n",
    "***objects*** 앞에 __*__ 연산자가 있음을 알 수 있다. "
   ]
  },
  {
   "cell_type": "markdown",
   "metadata": {
    "slideshow": {
     "slide_type": "slide"
    }
   },
   "source": [
    "## 시퀀스형 패킹"
   ]
  },
  {
   "cell_type": "markdown",
   "metadata": {
    "slideshow": {
     "slide_type": "subslide"
    }
   },
   "source": [
    "__*__ 연산자를 변수 이름 바로 앞에 붙여 사용하면 \n",
    "\n",
    "시퀀스형 객체의 패킹 연산자라고 \n",
    "\n",
    "이미 **6**장(튜플)에서 다루었다."
   ]
  },
  {
   "cell_type": "markdown",
   "metadata": {
    "slideshow": {
     "slide_type": "subslide"
    }
   },
   "source": [
    "함수를 정의할 때 \n",
    "\n",
    "__*__ 연산자를 매개변수 앞에 두면, \n",
    "\n",
    "**시퀀스형 패킹 연산자**다. "
   ]
  },
  {
   "cell_type": "markdown",
   "metadata": {
    "slideshow": {
     "slide_type": "subslide"
    }
   },
   "source": [
    "이 연산자를 사용하면 \n",
    "\n",
    "콤마로 구분되는 튜플 형태인 \n",
    "\n",
    "불특정 다수의 위치 전달인자를 \n",
    "\n",
    "하나의 필수 매개변수로 패킹해서 받아 처리하는 \n",
    "\n",
    "함수를 만들 수 있다."
   ]
  },
  {
   "cell_type": "markdown",
   "metadata": {
    "slideshow": {
     "slide_type": "subslide"
    }
   },
   "source": [
    "따라서, 시퀀스형 패킹 연산자 __*__는 \n",
    "\n",
    "몇 개의 위치 전달인자를 넘겨 받을지 모르는 \n",
    "\n",
    "함수를 정의할 때 유용하다."
   ]
  },
  {
   "cell_type": "markdown",
   "metadata": {
    "slideshow": {
     "slide_type": "slide"
    }
   },
   "source": [
    "### 따라해보기"
   ]
  },
  {
   "cell_type": "markdown",
   "metadata": {
    "slideshow": {
     "slide_type": "subslide"
    }
   },
   "source": [
    "임의의 숫자를 전달받은 후 \n",
    "\n",
    "모두 곱한 결괏값을 반환하는 함수를 \n",
    "\n",
    "만들어보자."
   ]
  },
  {
   "cell_type": "code",
   "execution_count": null,
   "metadata": {
    "slideshow": {
     "slide_type": "subslide"
    }
   },
   "outputs": [],
   "source": [
    "def product(*args):\n",
    "    print(type(args))\n",
    "    print(args)\n",
    "    result = 1\n",
    "    for arg in args:\n",
    "        result *= arg\n",
    "    return result"
   ]
  },
  {
   "cell_type": "code",
   "execution_count": null,
   "metadata": {
    "slideshow": {
     "slide_type": "subslide"
    }
   },
   "outputs": [],
   "source": [
    "# > def product(*args):\n",
    "\n",
    "# 전달인자가 한 개다.\n",
    "x = product(15)\n",
    "print(x)"
   ]
  },
  {
   "cell_type": "code",
   "execution_count": null,
   "metadata": {
    "slideshow": {
     "slide_type": "subslide"
    }
   },
   "outputs": [],
   "source": [
    "# > def product(*args):\n",
    "\n",
    "# 전달인자가 세 개다.\n",
    "x = product(2, 3, 4)\n",
    "print(x)"
   ]
  },
  {
   "cell_type": "code",
   "execution_count": null,
   "metadata": {
    "slideshow": {
     "slide_type": "subslide"
    }
   },
   "outputs": [],
   "source": [
    "# > def product(*args):\n",
    "\n",
    "# 전달인자가 네 개다.\n",
    "x = product(5, 6, 7, 8)\n",
    "print(x)"
   ]
  },
  {
   "cell_type": "markdown",
   "metadata": {
    "slideshow": {
     "slide_type": "slide"
    }
   },
   "source": [
    "임의의 숫자를 전달받은 후 \n",
    "\n",
    "그 숫자를 지정한 수의 거듭제곱으로 계산한 값들을 \n",
    "\n",
    "모두 합해서 반환하는 함수를 만들어보자."
   ]
  },
  {
   "cell_type": "code",
   "execution_count": null,
   "metadata": {
    "slideshow": {
     "slide_type": "subslide"
    }
   },
   "outputs": [],
   "source": [
    "def sum_of_powers(*args, power=1):\n",
    "    print('args: ', args)\n",
    "    print('power: ', power)\n",
    "    result = 0\n",
    "    for arg in args:\n",
    "        result += arg ** power\n",
    "    return result"
   ]
  },
  {
   "cell_type": "code",
   "execution_count": null,
   "metadata": {
    "slideshow": {
     "slide_type": "subslide"
    }
   },
   "outputs": [],
   "source": [
    "# > def sum_of_powers(*args, power=1):\n",
    "\n",
    "# 위치 전달인자는 세 개와 선택 매개변수의 기본값을 사용해서 함수를 호출한다.\n",
    "x = sum_of_powers(1, 3, 5)\n",
    "print(x)"
   ]
  },
  {
   "cell_type": "code",
   "execution_count": null,
   "metadata": {
    "slideshow": {
     "slide_type": "subslide"
    }
   },
   "outputs": [],
   "source": [
    "# > def sum_of_powers(*args, power=1):\n",
    "\n",
    "# 위치 전달인자는 두 개와 선택매개 변수에 \n",
    "# 키워드 전달인자 값을 2로 해서 함수를 호출한다.\n",
    "x = sum_of_powers(2, 3, power=2)\n",
    "print(x)"
   ]
  },
  {
   "cell_type": "code",
   "execution_count": null,
   "metadata": {
    "slideshow": {
     "slide_type": "subslide"
    }
   },
   "outputs": [],
   "source": [
    "# > def sum_of_powers(*args, power=1):\n",
    "\n",
    "# 위치 전달인자는 네 개와 \n",
    "# 선택매개 변수에 키워드 전달인자 값을 3으로 해서 \n",
    "# 함수를 호출한다.\n",
    "x = sum_of_powers(1, 3, 5, 7, power=3)\n",
    "print(x)"
   ]
  },
  {
   "cell_type": "markdown",
   "metadata": {
    "slideshow": {
     "slide_type": "slide"
    }
   },
   "source": [
    "## <font color='blue'>시퀀스형 언패킹</font>\n",
    "\n",
    "강의노트와 책을 참고해서 **반드시** 따라해보세요. \n",
    "\n",
    "시험 범위에 포함됩니다."
   ]
  },
  {
   "cell_type": "markdown",
   "metadata": {
    "slideshow": {
     "slide_type": "slide"
    }
   },
   "source": [
    "## Lab: 점수를 정렬하는 함수"
   ]
  },
  {
   "cell_type": "markdown",
   "metadata": {
    "slideshow": {
     "slide_type": "subslide"
    }
   },
   "source": [
    "한 개 이상의 점수(**0**점 이상 **100**점 이하)를 받아 \n",
    "\n",
    "가장 높은 점수부터 가장 낮은 점수까지 \n",
    "\n",
    "차례대로 출력하는 함수 **sort_scores()**를 구현해보자."
   ]
  },
  {
   "cell_type": "markdown",
   "metadata": {
    "slideshow": {
     "slide_type": "subslide"
    }
   },
   "source": [
    "### 실행 예"
   ]
  },
  {
   "cell_type": "markdown",
   "metadata": {
    "slideshow": {
     "slide_type": "subslide"
    }
   },
   "source": [
    "<font style='font-family: courier'>>>>> sort_scores(100, 27, 65, 88, 46, 97, 75, 53)<br/>\n",
    "100\n",
    "97\n",
    "88\n",
    "75\n",
    "65\n",
    "53\n",
    "46\n",
    "27</font>"
   ]
  },
  {
   "cell_type": "markdown",
   "metadata": {
    "slideshow": {
     "slide_type": "subslide"
    }
   },
   "source": [
    "### 답"
   ]
  },
  {
   "cell_type": "code",
   "execution_count": null,
   "metadata": {
    "slideshow": {
     "slide_type": "subslide"
    }
   },
   "outputs": [],
   "source": [
    "# --- 점수를 정렬하는 함수 구현하기(sort_scores.py)\n",
    "def sort_scores(*scores):\n",
    "    # tuple은 sort() 메소드가 없기 때문에 리스트로 형변환\n",
    "    score_list = list(scores)\n",
    "    score_list.sort(reverse=True)\n",
    "    for s in score_list:\n",
    "        print(s)"
   ]
  },
  {
   "cell_type": "markdown",
   "metadata": {
    "slideshow": {
     "slide_type": "subslide"
    }
   },
   "source": [
    "**테스트**"
   ]
  },
  {
   "cell_type": "code",
   "execution_count": null,
   "metadata": {
    "scrolled": true,
    "slideshow": {
     "slide_type": "subslide"
    }
   },
   "outputs": [],
   "source": [
    "sort_scores(100, 27, 65, 88, 46, 97, 75, 53)"
   ]
  },
  {
   "cell_type": "markdown",
   "metadata": {
    "slideshow": {
     "slide_type": "slide"
    }
   },
   "source": [
    "## <font color='blue'>Lab: 정수의 합과 평균을 동시에 계산하는 함수</font>\n",
    "\n",
    "<font color='red'>(자율 실습 문제)</font> 집에서 스스로 풀어보세요."
   ]
  },
  {
   "cell_type": "markdown",
   "metadata": {
    "slideshow": {
     "slide_type": "slide"
    }
   },
   "source": [
    "## Lab: 기술통계 함수"
   ]
  },
  {
   "cell_type": "markdown",
   "metadata": {
    "slideshow": {
     "slide_type": "subslide"
    }
   },
   "source": [
    "한 개 이상의 임의의 정수나 실수를 전달받아 \n",
    "\n",
    "이들 숫자의 총 개수, 합, 평균, 최댓값, 최솟값을 \n",
    "\n",
    "튜플로 반환하는 함수 **stat_summary()**를 구현해보자. \n",
    "\n",
    "이 때, 정수나 실수가 아닌 다른 형태의 자료형을 전달받으면, \n",
    "\n",
    "'잘못된 자료형입니다.'를 출력하면서 **None**을 반환하도록 한다. "
   ]
  },
  {
   "cell_type": "markdown",
   "metadata": {
    "slideshow": {
     "slide_type": "subslide"
    }
   },
   "source": [
    "### 실행 예\n",
    "\n",
    "<font style='font-family: courier'>>>> result = stat_summary(1, 3, 5.5, 7, 9, -2)</font>\n",
    "\n",
    "<font style='font-family: courier'>>>> result\n",
    "(6, 23.5, 3.9166666666666665, 9, -2)</font>"
   ]
  },
  {
   "cell_type": "markdown",
   "metadata": {
    "slideshow": {
     "slide_type": "subslide"
    }
   },
   "source": [
    "<font style='font-family: courier'>>>> result = stat_summary(1.1, '3', 12, -100)<br/>\n",
    "잘못된 자료형입니다.</font>\n",
    "\n",
    "<font style='font-family: courier'>>>> result</font>"
   ]
  },
  {
   "cell_type": "markdown",
   "metadata": {
    "slideshow": {
     "slide_type": "subslide"
    }
   },
   "source": [
    "<font style='font-family: courier'>>>> result = stat_summary(1, 2, 3, 4, 5, 'a')<br/>\n",
    "잘못된 자료형입니다.</font>\n",
    "\n",
    "<font style='font-family: courier'>>>> print(result)<br/>\n",
    "None</font>"
   ]
  },
  {
   "cell_type": "markdown",
   "metadata": {
    "slideshow": {
     "slide_type": "subslide"
    }
   },
   "source": [
    "### 답"
   ]
  },
  {
   "cell_type": "code",
   "execution_count": null,
   "metadata": {
    "slideshow": {
     "slide_type": "subslide"
    }
   },
   "outputs": [],
   "source": [
    "# --- 기술통계 함수 구현하기(stat_summary.py)\n",
    "def stat_summary(*num):\n",
    "  total = 0\n",
    "  for i in num:\n",
    "    if type(i) == int or type(i) == float:\n",
    "    # 위와 같은 결과가 나오는 유사 코드\n",
    "    # if isinstance(i, int) or isinstance(i, float):\n",
    "      total += i\n",
    "    else:\n",
    "      print('잘못된 자료형입니다.')\n",
    "      return None\n",
    "\n",
    "  return len(num), total, total/len(num), max(num), min(num)"
   ]
  },
  {
   "cell_type": "markdown",
   "metadata": {
    "slideshow": {
     "slide_type": "subslide"
    }
   },
   "source": [
    "**테스트**"
   ]
  },
  {
   "cell_type": "code",
   "execution_count": null,
   "metadata": {
    "slideshow": {
     "slide_type": "subslide"
    }
   },
   "outputs": [],
   "source": [
    "result = stat_summary(1, 3, 5.5, 7, 9, -2)\n",
    "result"
   ]
  },
  {
   "cell_type": "code",
   "execution_count": null,
   "metadata": {
    "slideshow": {
     "slide_type": "subslide"
    }
   },
   "outputs": [],
   "source": [
    "result = stat_summary(1.1, '3', 12, -100)\n",
    "result"
   ]
  },
  {
   "cell_type": "code",
   "execution_count": null,
   "metadata": {
    "slideshow": {
     "slide_type": "subslide"
    }
   },
   "outputs": [],
   "source": [
    "result = stat_summary(1, 2, 3, 4, 5, 'a')\n",
    "print(result)"
   ]
  },
  {
   "cell_type": "markdown",
   "metadata": {
    "slideshow": {
     "slide_type": "slide"
    }
   },
   "source": [
    "## Lab:  선택적으로 문자열 뒤집어 출력하는 함수"
   ]
  },
  {
   "cell_type": "markdown",
   "metadata": {
    "slideshow": {
     "slide_type": "subslide"
    }
   },
   "source": [
    "임의의 단어(또는 문장)을 전달받아 \n",
    "\n",
    "만약 해당 단어(또는 문장)의 길이가 홀수면 \n",
    "\n",
    "거꾸로 뒤집어 출력하는 함수 **reverse_text()**를 구현해보자. \n",
    "\n",
    "이때 문자열의 길이가 짝수이면 그대로 출력한다. \n",
    "\n",
    "그리고 전달받은 모든 단어(또는 문장)을 출력한 후, \n",
    "\n",
    "거꾸로 뒤집은 횟수(즉, 홀수 길이 문자열의 개수)를 반환한다."
   ]
  },
  {
   "cell_type": "markdown",
   "metadata": {
    "slideshow": {
     "slide_type": "subslide"
    }
   },
   "source": [
    "### 실행 예\n",
    "\n",
    "<pre>>>> odd_count = reverse_odd_text()</pre>\n",
    "\n",
    "<pre>>>> odd_count\n",
    "0</pre>"
   ]
  },
  {
   "cell_type": "markdown",
   "metadata": {
    "slideshow": {
     "slide_type": "subslide"
    }
   },
   "source": [
    "<pre>>>> odd_count = reverse_odd_text('red', \n",
    "'blue', 'green', 'yellow', 'purple', \n",
    "'black', 'white')\n",
    "der\n",
    "blue\n",
    "neerg\n",
    "yellow\n",
    "purple\n",
    "kcalb\n",
    "etihw</pre>\n",
    "<pre>>>> odd_count\n",
    "4</pre>"
   ]
  },
  {
   "cell_type": "markdown",
   "metadata": {
    "slideshow": {
     "slide_type": "subslide"
    }
   },
   "source": [
    "<pre>>>> odd_count = reverse_odd_text(\n",
    "'나는 드러머입니다', '베이스', '기타', \n",
    "'키보드', '보컬')\n",
    "다니입머러드 는나\n",
    "스이베\n",
    "기타\n",
    "드보키\n",
    "보컬</pre>\n",
    "<pre>>>> odd_count\n",
    "3</pre>"
   ]
  },
  {
   "cell_type": "markdown",
   "metadata": {
    "slideshow": {
     "slide_type": "subslide"
    }
   },
   "source": [
    "### 답"
   ]
  },
  {
   "cell_type": "code",
   "execution_count": null,
   "metadata": {
    "slideshow": {
     "slide_type": "subslide"
    }
   },
   "outputs": [],
   "source": [
    "# --- 선택적으로 문자열 뒤집어 출력하는 함수 구현하기(reverse_odd_text.py)\n",
    "def reverse_odd_text(*texts):\n",
    "    count = 0    \n",
    "    for s in texts:\n",
    "        if len(s) % 2 == 1:\n",
    "            print(s[::-1])\n",
    "            count += 1\n",
    "        else:\n",
    "            print(s)    \n",
    "    return count"
   ]
  },
  {
   "cell_type": "markdown",
   "metadata": {
    "slideshow": {
     "slide_type": "subslide"
    }
   },
   "source": [
    "**테스트**"
   ]
  },
  {
   "cell_type": "code",
   "execution_count": null,
   "metadata": {
    "slideshow": {
     "slide_type": "subslide"
    }
   },
   "outputs": [],
   "source": [
    "odd_count = reverse_odd_text()"
   ]
  },
  {
   "cell_type": "code",
   "execution_count": null,
   "metadata": {
    "slideshow": {
     "slide_type": "fragment"
    }
   },
   "outputs": [],
   "source": [
    "print(odd_count)"
   ]
  },
  {
   "cell_type": "code",
   "execution_count": null,
   "metadata": {
    "slideshow": {
     "slide_type": "subslide"
    }
   },
   "outputs": [],
   "source": [
    "odd_count = reverse_odd_text(\n",
    "    'red', 'blue', 'green', 'yellow', \n",
    "    'purple', 'black', 'white')"
   ]
  },
  {
   "cell_type": "code",
   "execution_count": null,
   "metadata": {
    "slideshow": {
     "slide_type": "fragment"
    }
   },
   "outputs": [],
   "source": [
    "print(odd_count)"
   ]
  },
  {
   "cell_type": "code",
   "execution_count": null,
   "metadata": {
    "slideshow": {
     "slide_type": "subslide"
    }
   },
   "outputs": [],
   "source": [
    "odd_count = reverse_odd_text(\n",
    "    '나는 드러머입니다', '베이스', \n",
    "    '기타', '키보드', '보컬')"
   ]
  },
  {
   "cell_type": "code",
   "execution_count": null,
   "metadata": {
    "slideshow": {
     "slide_type": "fragment"
    }
   },
   "outputs": [],
   "source": [
    "print(odd_count)"
   ]
  },
  {
   "cell_type": "markdown",
   "metadata": {
    "slideshow": {
     "slide_type": "slide"
    }
   },
   "source": [
    "# <font color='blue'>매핑형 패킹/언패킹 연산자 __**__</font>\n",
    "\n",
    "강의노트와 책을 참고해서 **반드시** 따라해보세요. \n",
    "\n",
    "시험 범위에 포함됩니다."
   ]
  },
  {
   "cell_type": "markdown",
   "metadata": {
    "slideshow": {
     "slide_type": "slide"
    }
   },
   "source": [
    "# <font color='blue'>패킹 연산자로 함수 정의</font>\n",
    "\n",
    "강의노트와 책을 참고해서 **반드시** 따라해보세요. \n",
    "\n",
    "시험 범위에 포함됩니다."
   ]
  },
  {
   "cell_type": "markdown",
   "metadata": {
    "slideshow": {
     "slide_type": "slide"
    }
   },
   "source": [
    "- - -\n",
    "<span style='color: red; font-weight: bold;'>THE END</span>\n",
    "<!--\n",
    "**<font size=5, color='red'>THE END</font>**\n",
    "<div class='alert alert-group alert-danger' align=center style='font-size: x-large'>THE END</div>\n",
    "<span style='font-size:x-large; font-weight: bold; background-color: tomato;'>THE END</span>\n",
    "-->"
   ]
  }
 ],
 "metadata": {
  "celltoolbar": "Slideshow",
  "hide_input": false,
  "kernelspec": {
   "display_name": "Python 3",
   "language": "python",
   "name": "python3"
  },
  "language_info": {
   "codemirror_mode": {
    "name": "ipython",
    "version": 3
   },
   "file_extension": ".py",
   "mimetype": "text/x-python",
   "name": "python",
   "nbconvert_exporter": "python",
   "pygments_lexer": "ipython3",
   "version": "3.7.8"
  },
  "latex_envs": {
   "LaTeX_envs_menu_present": true,
   "autoclose": false,
   "autocomplete": true,
   "bibliofile": "biblio.bib",
   "cite_by": "apalike",
   "current_citInitial": 1,
   "eqLabelWithNumbers": true,
   "eqNumInitial": 1,
   "hotkeys": {
    "equation": "Ctrl-E",
    "itemize": "Ctrl-I"
   },
   "labels_anchors": false,
   "latex_user_defs": false,
   "report_style_numbering": false,
   "user_envs_cfg": false
  },
  "toc": {
   "base_numbering": 1,
   "nav_menu": {},
   "number_sections": false,
   "sideBar": true,
   "skip_h1_title": false,
   "title_cell": "Table of Contents",
   "title_sidebar": "Contents",
   "toc_cell": true,
   "toc_position": {
    "height": "1154px",
    "left": "0px",
    "right": "1141px",
    "top": "111px",
    "width": "212px"
   },
   "toc_section_display": "block",
   "toc_window_display": false
  },
  "varInspector": {
   "cols": {
    "lenName": 16,
    "lenType": 16,
    "lenVar": 40
   },
   "kernels_config": {
    "python": {
     "delete_cmd_postfix": "",
     "delete_cmd_prefix": "del ",
     "library": "var_list.py",
     "varRefreshCmd": "print(var_dic_list())"
    },
    "r": {
     "delete_cmd_postfix": ") ",
     "delete_cmd_prefix": "rm(",
     "library": "var_list.r",
     "varRefreshCmd": "cat(var_dic_list()) "
    }
   },
   "types_to_exclude": [
    "module",
    "function",
    "builtin_function_or_method",
    "instance",
    "_Feature"
   ],
   "window_display": false
  }
 },
 "nbformat": 4,
 "nbformat_minor": 4
}
