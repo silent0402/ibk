{
 "cells": [
  {
   "cell_type": "markdown",
   "metadata": {
    "slideshow": {
     "slide_type": "slide"
    }
   },
   "source": [
    "# 무한 루프"
   ]
  },
  {
   "cell_type": "markdown",
   "metadata": {
    "slideshow": {
     "slide_type": "slide"
    }
   },
   "source": [
    "**무한 루프**(infinite loop)란? \n",
    "- 순환 작업을 끝없이 반복하는 것을 말한다. "
   ]
  },
  {
   "cell_type": "markdown",
   "metadata": {
    "slideshow": {
     "slide_type": "subslide"
    }
   },
   "source": [
    "일반적인 무한 루프란 \n",
    "\n",
    "컴퓨터에서 프로그램이 끝없이 동작하는 것으로, \n",
    "\n",
    "주로 순환문의 논리적 오류로 종료 조건을 충족할 수 없거나 \n",
    "\n",
    "종료 조건이 없는 경우에 발생한다. "
   ]
  },
  {
   "cell_type": "markdown",
   "metadata": {
    "slideshow": {
     "slide_type": "slide"
    }
   },
   "source": [
    "**while**문 무한 루프를 실행해보자.  \n",
    "\n",
    "무한 루프를 빠져나오려면 **Ctrl + C** 를 눌러야 한다."
   ]
  },
  {
   "cell_type": "code",
   "execution_count": null,
   "metadata": {
    "slideshow": {
     "slide_type": "subslide"
    }
   },
   "outputs": [],
   "source": [
    "# --- 쥬피터에서는 실행하지 말 것\n",
    "while True:\n",
    "    print('안녕 파이썬')"
   ]
  },
  {
   "cell_type": "markdown",
   "metadata": {
    "slideshow": {
     "slide_type": "slide"
    }
   },
   "source": [
    "# **break**와 **continue** 명령어"
   ]
  },
  {
   "cell_type": "markdown",
   "metadata": {
    "slideshow": {
     "slide_type": "slide"
    }
   },
   "source": [
    "**break**와 **continue**는 순환문의 흐름을 제어하는데 사용한다."
   ]
  },
  {
   "cell_type": "markdown",
   "metadata": {
    "slideshow": {
     "slide_type": "slide"
    }
   },
   "source": [
    "## **break**"
   ]
  },
  {
   "cell_type": "markdown",
   "metadata": {
    "slideshow": {
     "slide_type": "slide"
    }
   },
   "source": [
    "**break**문을 만나면 \n",
    "\n",
    "이후의 모든 코드를 건너뛰고 \n",
    "\n",
    "현재 **break**문이 속한 순환문을 종료하고 빠져나간다."
   ]
  },
  {
   "cell_type": "markdown",
   "metadata": {
    "slideshow": {
     "slide_type": "slide"
    }
   },
   "source": [
    "**break**문이 \n",
    "\n",
    "중첩 순환문(순환문 안의 또 다른 순환문) 안에 있으면 \n",
    "\n",
    "**break**문이 속한 **가장 안쪽 순환문**을 종료하고 빠져나와서 \n",
    "\n",
    "통제권을 상위 순환문으로 넘긴다."
   ]
  },
  {
   "cell_type": "markdown",
   "metadata": {
    "slideshow": {
     "slide_type": "subslide"
    }
   },
   "source": [
    "<!-- ![break](img/ch08-break.png) -->\n",
    "<img alt='break' src='img/ch08-break.png' width=300 />"
   ]
  },
  {
   "cell_type": "markdown",
   "metadata": {
    "slideshow": {
     "slide_type": "slide"
    }
   },
   "source": [
    "### 따라해보기"
   ]
  },
  {
   "cell_type": "markdown",
   "metadata": {
    "slideshow": {
     "slide_type": "slide"
    }
   },
   "source": [
    "**break**문을 이용해서 **while**문을 빠져나가보자."
   ]
  },
  {
   "cell_type": "code",
   "execution_count": null,
   "metadata": {
    "slideshow": {
     "slide_type": "subslide"
    }
   },
   "outputs": [],
   "source": [
    "L = list(range(10))\n",
    "print(L)\n",
    "\n",
    "i = 0\n",
    "while True:\n",
    "    print(L[i])\n",
    "    i += 1\n",
    "    if i == 5:    # i가 5면 while 순환문을 빠져나간다\n",
    "        break\n",
    "else:\n",
    "    print('종료')  # 절대로 실행되지 않는다."
   ]
  },
  {
   "cell_type": "code",
   "execution_count": null,
   "metadata": {
    "slideshow": {
     "slide_type": "subslide"
    }
   },
   "outputs": [],
   "source": [
    "# --- 특정 값을 입력하면 무한 루프를 빠져나간다.\n",
    "while True:\n",
    "    answer = input(\"아무거나 입력하시오(마치려면 -1을 입력): \")\n",
    "    if answer == '-1':    # answwer 가 '-1'이면 while문을 빠져나간다.\n",
    "        print('종료합니다...')\n",
    "        break\n",
    "    print(answer)"
   ]
  },
  {
   "cell_type": "code",
   "execution_count": null,
   "metadata": {
    "slideshow": {
     "slide_type": "subslide"
    }
   },
   "outputs": [],
   "source": [
    "# --- 그냥 <enter> 키를 누르면 종료한다.\n",
    "while True:\n",
    "    answer = input('무언가를 입력하세요(마치려면 <ENTER> 키를 누르세요): ')\n",
    "    if not answer:\n",
    "        print('종료합니다...')\n",
    "        break\n",
    "    print(answer)"
   ]
  },
  {
   "cell_type": "markdown",
   "metadata": {
    "colab_type": "text",
    "id": "HxaDBoeGI0ab",
    "slideshow": {
     "slide_type": "slide"
    }
   },
   "source": [
    "**break** 명령어를 사용하여 무한 루프에 빠지지 않고 \n",
    "\n",
    "정상적으로 작동할 수 있도록 **while**문 흐름 제어해보자. "
   ]
  },
  {
   "cell_type": "markdown",
   "metadata": {
    "colab_type": "text",
    "id": "HxaDBoeGI0ab",
    "slideshow": {
     "slide_type": "slide"
    }
   },
   "source": [
    "다음 예는 **0~10** 사이의 정수를 무작위로 생성한 후 정수가 **9** 이하면 **while**문을 계속해서 순환하고, **9**보다 크면 **while**문을 빠져나간다."
   ]
  },
  {
   "cell_type": "code",
   "execution_count": null,
   "metadata": {
    "colab": {
     "base_uri": "https://localhost:8080/",
     "height": 238
    },
    "colab_type": "code",
    "id": "IoOCW6OUy_bS",
    "outputId": "d7fbe0ff-f552-4af9-ac07-dd28262f7c2a",
    "slideshow": {
     "slide_type": "subslide"
    }
   },
   "outputs": [],
   "source": [
    "# --- while문 흐름 제어(while_break_continue.py)\n",
    "import random\n",
    "i = 0\n",
    "while True:\n",
    "    i = random.randint(0, 10)\n",
    "    if i > 9:\n",
    "        print('{}: 무한 루프를 빠져나갑니다.'.format(i))\n",
    "        break     # 여기 break 명령어가 없으면 무한루프가 된다.\n",
    "    else:\n",
    "        print('{}: 무한 루프에 빠져있습니다.'.format(i))"
   ]
  },
  {
   "cell_type": "markdown",
   "metadata": {
    "slideshow": {
     "slide_type": "slide"
    }
   },
   "source": [
    "## **continue**"
   ]
  },
  {
   "cell_type": "markdown",
   "metadata": {
    "slideshow": {
     "slide_type": "slide"
    }
   },
   "source": [
    "**continue**문을 만나면 \n",
    "\n",
    "**continue** 이후의 모든 코드를 건너뛰고 \n",
    "\n",
    "순환문의 첫 명령문으로 되돌아가 다음 반복 처리를 실행한다."
   ]
  },
  {
   "cell_type": "markdown",
   "metadata": {
    "slideshow": {
     "slide_type": "slide"
    }
   },
   "source": [
    "<!-- ![continue](img/ch08-continue.png) -->\n",
    "<img alt='break' src='img/ch08-continue.png' width=300 />"
   ]
  },
  {
   "cell_type": "markdown",
   "metadata": {
    "slideshow": {
     "slide_type": "slide"
    }
   },
   "source": [
    "### 따라해보기"
   ]
  },
  {
   "cell_type": "markdown",
   "metadata": {
    "slideshow": {
     "slide_type": "slide"
    }
   },
   "source": [
    "**continue**문을 이용해서 **1~100** 사이 정수 중 홀수만 더해보자."
   ]
  },
  {
   "cell_type": "code",
   "execution_count": null,
   "metadata": {
    "slideshow": {
     "slide_type": "subslide"
    }
   },
   "outputs": [],
   "source": [
    "total = 0\n",
    "for i in range(1, 101):\n",
    "    if i % 2 == 0:  # 짝수면 건너뛴다.\n",
    "        continue\n",
    "    total += i\n",
    "else:\n",
    "    print(total)"
   ]
  },
  {
   "cell_type": "code",
   "execution_count": null,
   "metadata": {
    "scrolled": true,
    "slideshow": {
     "slide_type": "subslide"
    }
   },
   "outputs": [],
   "source": [
    "# --- 홀수만 더해서 합하고, 짝수면 건너뛰고, 음수면 즉시 for문을 종료한다.\n",
    "data = [1, 4, 7, 3, 8, 6, 9, 5, 0, 2, 7, -1, 22, 31]\n",
    "total = 0\n",
    "for i in data:\n",
    "    if i < 0:\n",
    "        print('음수(i = {})라 break문을 실행합니다.'.format(i))\n",
    "        break\n",
    "    elif i % 2 == 0:\n",
    "        print('짝수(i = {})라 continue문을 실행합니다.'.format(i))\n",
    "        continue\n",
    "    else:\n",
    "        print(i)\n",
    "        total += i\n",
    "print('-' * 35)\n",
    "print('홀수의 합:', total)"
   ]
  },
  {
   "cell_type": "markdown",
   "metadata": {
    "colab_type": "text",
    "id": "pjIgVxG0ED33",
    "slideshow": {
     "slide_type": "slide"
    }
   },
   "source": [
    "# Lab: 15. **for**문 흐름 제어"
   ]
  },
  {
   "cell_type": "markdown",
   "metadata": {
    "colab_type": "text",
    "id": "pjIgVxG0ED33",
    "slideshow": {
     "slide_type": "slide"
    }
   },
   "source": [
    "임의의 정수로 구성된 튜플(또는 리스트)을 만들어 변수 ***data***에 할당한 후 ***data***를 출력한다.\n",
    "- 예) **1, 4, 7, 3, 4, 6, 0, 1, 4, 11, 10, 5, ...**\n",
    "\n",
    "**for**문을 활용하여 ***data***의 값을 순서대로 출력한다. 이때, 숫자가 **5** 이상이면 출력을 하고, 그렇지 않으면 출력하지 않는다. 그런데 숫자가 **0**이면, 즉시 **for**문을 종료한다.\n",
    "\n",
    "반드시 **break**와 **continue** 명령어 둘 다를 사용해야 한다."
   ]
  },
  {
   "cell_type": "markdown",
   "metadata": {
    "colab_type": "text",
    "id": "pjIgVxG0ED33",
    "slideshow": {
     "slide_type": "slide"
    }
   },
   "source": [
    "## 실행 예\n",
    "\n",
    "<b><pre>\n",
    "[1, 4, 7, 3, 4, 6, 0, 1, 4, 11, 10, 5]</pre></b>\n",
    "\n",
    "<b><pre>7\n",
    "6\n",
    "0 : for문을 빠져나갑니다.</pre></b>"
   ]
  }
 ],
 "metadata": {
  "celltoolbar": "Slideshow",
  "kernelspec": {
   "display_name": "Python 3",
   "language": "python",
   "name": "python3"
  },
  "language_info": {
   "codemirror_mode": {
    "name": "ipython",
    "version": 3
   },
   "file_extension": ".py",
   "mimetype": "text/x-python",
   "name": "python",
   "nbconvert_exporter": "python",
   "pygments_lexer": "ipython3",
   "version": "3.7.8"
  }
 },
 "nbformat": 4,
 "nbformat_minor": 2
}
