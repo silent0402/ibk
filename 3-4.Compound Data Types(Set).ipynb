{
 "cells": [
  {
   "cell_type": "markdown",
   "metadata": {
    "slideshow": {
     "slide_type": "slide"
    }
   },
   "source": [
    "# 집합 자료형\n",
    "\n",
    "- **순서 없이**(unordered) 0개 이상의 객체를 참조하는 자료형을 말한다.  \n",
    "- 순회할 경우 집합형은 **임의의 순서**대로 객체를 꺼내온다.\n",
    "    - 집합형은 매핑형처럼 키:매핑값의 자료구조가 아닌 단순히 키(key)만 있는 자료구조라고 생각하면 이해가 쉬울 것이다.\n",
    "- 순서가 없이 참조하기 때문에 **중복을 허락하지 않는다**. \n",
    "    - 집합형에 속한 자료형은 고유한 객체 값만 담는다. "
   ]
  },
  {
   "cell_type": "markdown",
   "metadata": {
    "slideshow": {
     "slide_type": "subslide"
    }
   },
   "source": [
    "- 순회할 경우 집합형은 **임의의 순서**대로 객체를 꺼내온다.\n",
    "    - 집합형은 매핑형처럼 키:매핑값의 자료구조가 아닌 단순히 키(key)만 있는 자료구조라고 생각하면 이해가 쉬울 것이다.\n",
    "- 순서가 없이 참조하기 때문에 **중복을 허락하지 않는다**. \n",
    "    - 집합형에 속한 자료형은 고유한 객체 값만 담는다. "
   ]
  },
  {
   "cell_type": "markdown",
   "metadata": {
    "slideshow": {
     "slide_type": "subslide"
    }
   },
   "source": [
    "- 따라서, 해시가능한 객체만 담을 수 있다.\n",
    "- 해시가능한(hashable) 객체란?\n",
    "    - 그 값이 불변성(immutable)인 자료형으로 **int**, **float**, **str**, **tuple**, **frosenset** 등이 있다.\n",
    "- 해시가능하지 않는 자료형은 집합형에 담을 수 없는데 **list**, **dict**, **set**이 여기에 속한다."
   ]
  },
  {
   "cell_type": "markdown",
   "metadata": {
    "slideshow": {
     "slide_type": "slide"
    }
   },
   "source": [
    "# 세트(set)\n",
    "\n",
    "- **가변자료형**(mutable)이다. \n",
    "    - 생성한 후 내용의 변경이 가능하다. 즉, 담고 있는 객체를 삭제, 변경, 삽입하는 것이 가능하다.\n",
    "- **순서 없이**(unordered) 0개 이상의 해시가능한 객체를 참조하는 **집합형**이다.\n",
    "- 각 객체는 쉼표(,)로 구분한다."
   ]
  },
  {
   "cell_type": "markdown",
   "metadata": {
    "slideshow": {
     "slide_type": "subslide"
    }
   },
   "source": [
    "- 순서가 없이 참조하기 때문에 중복을 허락하지 않는다.\n",
    "- 해시가능한 객체(불변자료형)만 담을 수 있다.\n",
    "- 인덱스의 개념이 없기 때문에 분할(슬라이싱)하거나 구간 이동을 할 수 없다.\n",
    "- 출력 형식\n",
    "    - 세트는 항상 중괄호(**{ }**) 형태로 출력한다."
   ]
  },
  {
   "cell_type": "markdown",
   "metadata": {
    "slideshow": {
     "slide_type": "slide"
    }
   },
   "source": [
    "![Set Type](img/ch06-set-type.png)"
   ]
  },
  {
   "cell_type": "markdown",
   "metadata": {
    "slideshow": {
     "slide_type": "slide"
    }
   },
   "source": [
    "# 세트 생성"
   ]
  },
  {
   "cell_type": "markdown",
   "metadata": {
    "slideshow": {
     "slide_type": "subslide"
    }
   },
   "source": [
    "세트를 만드는 방법으로는 다음 세 가지가 있다.\n",
    "\n",
    "- **{ }**(중괄호)\n",
    "    - 단, 빈 세트는 중괄호(**{ }**)로 생성할 수 없다. \n",
    "    - 빈 중괄호(**{ }**)는 빈 딕셔너리를 생성할 때 사용하기 때문이다.\n",
    "- **set()** 생성자(클래스)\n",
    "    - 빈 세트는 **set()** 생성자로만 만들 수 있다.\n",
    "- 세트 축약(set comprehension)"
   ]
  },
  {
   "cell_type": "markdown",
   "metadata": {
    "slideshow": {
     "slide_type": "slide"
    }
   },
   "source": [
    "중괄호 **{ }**를 사용한 세트 생성\n",
    "\n",
    "\n",
    "- 각 객체는 쉼표(,)로 구분한다."
   ]
  },
  {
   "cell_type": "code",
   "execution_count": null,
   "metadata": {
    "slideshow": {
     "slide_type": "subslide"
    }
   },
   "outputs": [],
   "source": [
    "set1 = {'a', 'b', 3}\n",
    "print(set1)"
   ]
  },
  {
   "cell_type": "markdown",
   "metadata": {
    "slideshow": {
     "slide_type": "slide"
    }
   },
   "source": [
    "순서가 없이 참조하기 때문에 중복을 허락하지 않는다."
   ]
  },
  {
   "cell_type": "code",
   "execution_count": null,
   "metadata": {
    "slideshow": {
     "slide_type": "subslide"
    }
   },
   "outputs": [],
   "source": [
    "set2 = {'a', 'b', 3, 'a', 3}\n",
    "print(set2)"
   ]
  },
  {
   "cell_type": "code",
   "execution_count": null,
   "metadata": {
    "slideshow": {
     "slide_type": "-"
    }
   },
   "outputs": [],
   "source": [
    "set7 = set('abcde')\n",
    "print(set7)"
   ]
  },
  {
   "cell_type": "code",
   "execution_count": null,
   "metadata": {
    "slideshow": {
     "slide_type": "-"
    }
   },
   "outputs": [],
   "source": [
    "set8 = set('바나나')\n",
    "print(set8)"
   ]
  },
  {
   "cell_type": "markdown",
   "metadata": {
    "slideshow": {
     "slide_type": "subslide"
    }
   },
   "source": [
    "**set comprehension** 을 사용한 세트 생성."
   ]
  },
  {
   "cell_type": "code",
   "execution_count": null,
   "metadata": {
    "slideshow": {
     "slide_type": "-"
    }
   },
   "outputs": [],
   "source": [
    "list1 = [1, 2, 3, 4, 5]\n",
    "set9 = {x**2 for x in list1}\n",
    "print(set9)"
   ]
  },
  {
   "cell_type": "markdown",
   "metadata": {
    "slideshow": {
     "slide_type": "slide"
    }
   },
   "source": [
    "# 세트 관련 연산자"
   ]
  },
  {
   "cell_type": "markdown",
   "metadata": {
    "slideshow": {
     "slide_type": "subslide"
    }
   },
   "source": [
    "멤버십 연산자 : **in**/**not in**   \n",
    "\n",
    "진부분집합인지 확인하는 비교 연산자 : **<**, **>**  \n",
    "\n",
    "부분집합인지 확인하는 비교 연산자 : **<=**, **>=**   "
   ]
  },
  {
   "cell_type": "markdown",
   "metadata": {
    "slideshow": {
     "slide_type": "subslide"
    }
   },
   "source": [
    "세트 결합(합집합) 연산자 : **┃**  \n",
    "\n",
    "세트 교차(교집합) 연산자 : **&**     \n",
    "\n",
    "세트 빼기(차집합) 연산자 : **-**  \n",
    "\n",
    "세트 대칭차(대칭차집합) 연산자 : **^** "
   ]
  },
  {
   "cell_type": "code",
   "execution_count": null,
   "metadata": {
    "slideshow": {
     "slide_type": "subslide"
    }
   },
   "outputs": [],
   "source": [
    "x = {1, 2, 3, 4, 5}\n",
    "y = {3, 4, 5, 6, 7}\n",
    "z = {4, 5}"
   ]
  },
  {
   "cell_type": "markdown",
   "metadata": {
    "slideshow": {
     "slide_type": "slide"
    }
   },
   "source": [
    "### 멤버십 연산자, 비교 연산자\n"
   ]
  },
  {
   "cell_type": "code",
   "execution_count": null,
   "metadata": {},
   "outputs": [],
   "source": [
    "print(4 in x)\n",
    "print(7 in x)\n",
    "print(x < x)\n",
    "print(x <= x)\n",
    "print(z < x)"
   ]
  },
  {
   "cell_type": "markdown",
   "metadata": {
    "slideshow": {
     "slide_type": "slide"
    }
   },
   "source": [
    "### 세트 연산 관련 연산자"
   ]
  },
  {
   "cell_type": "markdown",
   "metadata": {
    "slideshow": {
     "slide_type": "subslide"
    }
   },
   "source": [
    "세트 결합 연산자 **|** 는 수학의 합집합(union)과 같다. 따라서 두 세트의 객체를 모두 합한 세트를 반환한다."
   ]
  },
  {
   "cell_type": "code",
   "execution_count": null,
   "metadata": {
    "slideshow": {
     "slide_type": "-"
    }
   },
   "outputs": [],
   "source": [
    "# --- x = {1, 2, 3, 4, 5}\n",
    "# --- y = {3, 4, 5, 6, 7}\n",
    "# 세트 결합 : 합집합(union)\n",
    "x | y               "
   ]
  },
  {
   "cell_type": "markdown",
   "metadata": {
    "slideshow": {
     "slide_type": "subslide"
    }
   },
   "source": [
    "세트 교차 연산자 **&** 는 수학의 교집합(intersection)과 같기 때문에 두 세트에 동시에 속하는 객체로 구성한 세트를 반환된다."
   ]
  },
  {
   "cell_type": "code",
   "execution_count": null,
   "metadata": {
    "slideshow": {
     "slide_type": "-"
    }
   },
   "outputs": [],
   "source": [
    "# --- x = {1, 2, 3, 4, 5}\n",
    "# --- y = {3, 4, 5, 6, 7}\n",
    "# 세트 교차 : 교집합(intersection)\n",
    "x & y               "
   ]
  },
  {
   "cell_type": "markdown",
   "metadata": {
    "slideshow": {
     "slide_type": "subslide"
    }
   },
   "source": [
    "세트 빼기 연산자 **-** 는 수학의 차집합(difference)과 같다. "
   ]
  },
  {
   "cell_type": "markdown",
   "metadata": {
    "slideshow": {
     "slide_type": "-"
    }
   },
   "source": [
    "차집합 *X* - *Y*는 \n",
    "- *X*에는 속하지만, \n",
    "- *Y*에는 속하지 않는 객체로 구성된 집합이며, \n",
    "- 이를 *X*에 대한 *Y*의 차집합이라고 한다."
   ]
  },
  {
   "cell_type": "code",
   "execution_count": null,
   "metadata": {
    "slideshow": {
     "slide_type": "subslide"
    }
   },
   "outputs": [],
   "source": [
    "# --- x = {1, 2, 3, 4, 5}\n",
    "# --- y = {3, 4, 5, 6, 7}\n",
    "# x에 대한 y의 차집합\n",
    "x - y               "
   ]
  },
  {
   "cell_type": "markdown",
   "metadata": {
    "slideshow": {
     "slide_type": "subslide"
    }
   },
   "source": [
    "*X*와 *Y*의 위치가 바뀌면 다른 결과를 가져올 수 있다."
   ]
  },
  {
   "cell_type": "code",
   "execution_count": null,
   "metadata": {
    "slideshow": {
     "slide_type": "-"
    }
   },
   "outputs": [],
   "source": [
    "# --- x = {1, 2, 3, 4, 5}\n",
    "# --- y = {3, 4, 5, 6, 7}\n",
    "# y에 대한 x의 차집합\n",
    "y - x               "
   ]
  },
  {
   "cell_type": "markdown",
   "metadata": {
    "slideshow": {
     "slide_type": "subslide"
    }
   },
   "source": [
    "세트 대칭차 연산자 **^** 를 수학에서는 대칭차집합(symmetric difference)이라고 한다. "
   ]
  },
  {
   "cell_type": "markdown",
   "metadata": {
    "slideshow": {
     "slide_type": "-"
    }
   },
   "source": [
    "이는 두 집합의 상대 여집합의 합을 말한다. "
   ]
  },
  {
   "cell_type": "markdown",
   "metadata": {
    "slideshow": {
     "slide_type": "subslide"
    }
   },
   "source": [
    "다시 말해 *X*와 *Y* 두 집합이 있을 때 \n",
    "- 두 집합 모두의 차집합인 \n",
    "- *X* - *Y*와 \n",
    "- *Y* - *X*의 \n",
    "- 합집합을 반환한다. "
   ]
  },
  {
   "cell_type": "code",
   "execution_count": null,
   "metadata": {
    "slideshow": {
     "slide_type": "-"
    }
   },
   "outputs": [],
   "source": [
    "# --- x = {1, 2, 3, 4, 5}\n",
    "# --- y = {3, 4, 5, 6, 7}\n",
    "# 세트 대칭차 : 대칭차집합은 두 집합의 상대 여집합의 합(symmetric difference)이다.\n",
    "x ^ y               "
   ]
  },
  {
   "cell_type": "markdown",
   "metadata": {
    "slideshow": {
     "slide_type": "subslide"
    }
   },
   "source": [
    "*X*와 *Y*의 순서와 관계없이 결괏값은 같다."
   ]
  },
  {
   "cell_type": "code",
   "execution_count": null,
   "metadata": {
    "slideshow": {
     "slide_type": "-"
    }
   },
   "outputs": [],
   "source": [
    "# --- x = {1, 2, 3, 4, 5}\n",
    "# --- y = {3, 4, 5, 6, 7}\n",
    "# 세트 대칭차 : 대칭차집합은 두 집합의 상대 여집합의 합(symmetric difference)이다.\n",
    "y ^ x               "
   ]
  },
  {
   "cell_type": "markdown",
   "metadata": {
    "slideshow": {
     "slide_type": "slide"
    }
   },
   "source": [
    "# 세트 관련 메소드"
   ]
  },
  {
   "cell_type": "markdown",
   "metadata": {
    "slideshow": {
     "slide_type": "subslide"
    }
   },
   "source": [
    "복사 메소드 : **copy()**  \n",
    "\n",
    "질의 메소드 : **issubset()**, **issuperset()**, **isdisjoint()**  "
   ]
  },
  {
   "cell_type": "markdown",
   "metadata": {
    "slideshow": {
     "slide_type": "subslide"
    }
   },
   "source": [
    "세트 연산 메소드: \n",
    "- **union()**, \n",
    "- **intersection()**, **intersection_update()**, \n",
    "- **difference()**, **difference_update()**, \n",
    "- **symmetric_difference()**, **symmetric_difference_update()**  "
   ]
  },
  {
   "cell_type": "markdown",
   "metadata": {
    "slideshow": {
     "slide_type": "subslide"
    }
   },
   "source": [
    "추가 메소드 : **add()**  \n",
    "\n",
    "삭제 메소드 : **pop()**, **remove()**, **discard()**, **clear()**   "
   ]
  },
  {
   "cell_type": "markdown",
   "metadata": {
    "slideshow": {
     "slide_type": "slide"
    }
   },
   "source": [
    "### 추가 메소드"
   ]
  },
  {
   "cell_type": "code",
   "execution_count": null,
   "metadata": {
    "slideshow": {
     "slide_type": "-"
    }
   },
   "outputs": [],
   "source": [
    "x = {1, 2, 3, 4, 5}"
   ]
  },
  {
   "cell_type": "markdown",
   "metadata": {
    "slideshow": {
     "slide_type": "slide"
    }
   },
   "source": [
    "*s*.**add**(***x***) \n",
    "- 객체 ***x***가 세트 *s*에 없다면 ***x***를 세트 *s*에 추가한다."
   ]
  },
  {
   "cell_type": "code",
   "execution_count": null,
   "metadata": {
    "slideshow": {
     "slide_type": "subslide"
    }
   },
   "outputs": [],
   "source": [
    "# --- x = {1, 2, 3, 4, 5}\n",
    "# 같은 객체가 있으면 추가 하지 않는다.\n",
    "x.add(5)\n",
    "print(x)"
   ]
  },
  {
   "cell_type": "code",
   "execution_count": null,
   "metadata": {
    "slideshow": {
     "slide_type": "subslide"
    }
   },
   "outputs": [],
   "source": [
    "# --- x = {1, 2, 3, 4, 5}\n",
    "# 'a'를 추가한다.\n",
    "x.add('a')\n",
    "print(x)"
   ]
  },
  {
   "cell_type": "markdown",
   "metadata": {
    "slideshow": {
     "slide_type": "slide"
    }
   },
   "source": [
    "### 삭제 메소드"
   ]
  },
  {
   "cell_type": "markdown",
   "metadata": {
    "slideshow": {
     "slide_type": "slide"
    }
   },
   "source": [
    "*s*.**pop()**\n",
    "- 세트 *s*에서 임의(random) 객체를 반환하고 해당 객체를 세트 *s*에서 삭제한다. \n",
    "- 세트 *s*가 비어 있으면 **KeyError**가 발생한다."
   ]
  },
  {
   "cell_type": "code",
   "execution_count": null,
   "metadata": {
    "slideshow": {
     "slide_type": "subslide"
    }
   },
   "outputs": [],
   "source": [
    "# --- {1, 2, 3, 4, 5, 'a'}\n",
    "# 임의(random) 객체를 반환하고 해당 객체를 세트에서 삭제한다.\n",
    "x.pop()\n",
    "print(x)"
   ]
  },
  {
   "cell_type": "markdown",
   "metadata": {
    "slideshow": {
     "slide_type": "slide"
    }
   },
   "source": [
    "*s*.**remove**(***x***)\n",
    "- 객체 ***x***를 세트 *s*에서 삭제한다. \n",
    "- 객체 ***x***가 세트 *s* 안에 없으면 **KeyError**가 발생한다. \n",
    "    - **discard()** 참고."
   ]
  },
  {
   "cell_type": "code",
   "execution_count": null,
   "metadata": {
    "slideshow": {
     "slide_type": "subslide"
    }
   },
   "outputs": [],
   "source": [
    "# 4를 삭제한다.\n",
    "x.remove(4)"
   ]
  },
  {
   "cell_type": "code",
   "execution_count": null,
   "metadata": {
    "slideshow": {
     "slide_type": "subslide"
    }
   },
   "outputs": [],
   "source": [
    "# 4가 삭제되었다.\n",
    "print(x)                 "
   ]
  },
  {
   "cell_type": "markdown",
   "metadata": {
    "slideshow": {
     "slide_type": "slide"
    }
   },
   "source": [
    "*s*.**discard**(***x***)\n",
    "- 객체 ***x***를 세트 *s*에서 삭제한다. \n",
    "- 객체 ***x***가 세트 *s* 안에 없어도 오류 메시지를 출력하지 않는다. \n",
    "    - **remove()** 참고. "
   ]
  },
  {
   "cell_type": "code",
   "execution_count": null,
   "metadata": {
    "slideshow": {
     "slide_type": "subslide"
    }
   },
   "outputs": [],
   "source": [
    "# 'a'를 삭제한다.\n",
    "x.discard('a')"
   ]
  },
  {
   "cell_type": "code",
   "execution_count": null,
   "metadata": {
    "slideshow": {
     "slide_type": "-"
    }
   },
   "outputs": [],
   "source": [
    "# 'a'가 삭제되었다.\n",
    "print(x)"
   ]
  },
  {
   "cell_type": "code",
   "execution_count": null,
   "metadata": {
    "slideshow": {
     "slide_type": "-"
    }
   },
   "outputs": [],
   "source": [
    "# 방금 삭제한 'a'를 다시 삭제한다. 오류가 발생하지 않는다.\n",
    "x.discard('a')    "
   ]
  },
  {
   "cell_type": "code",
   "execution_count": null,
   "metadata": {
    "slideshow": {
     "slide_type": "-"
    }
   },
   "outputs": [],
   "source": [
    "# 방금 제거한 'a'를 다시 삭제한다. 오류가 발생한다.\n",
    "x.remove('a')     "
   ]
  },
  {
   "cell_type": "markdown",
   "metadata": {
    "slideshow": {
     "slide_type": "slide"
    }
   },
   "source": [
    "*s*.**clear()**\n",
    "- 세트 *s*의 모든 객체를 삭제한다."
   ]
  },
  {
   "cell_type": "code",
   "execution_count": null,
   "metadata": {
    "slideshow": {
     "slide_type": "-"
    }
   },
   "outputs": [],
   "source": [
    "# 세트의 내용을 확인한다.\n",
    "print(x)\n",
    "\n",
    "# 세트의 모든 객체를 삭제한다.\n",
    "x.clear()\n",
    "\n",
    "# 세트의 내용을 확인한다.\n",
    "print(x)"
   ]
  }
 ],
 "metadata": {
  "celltoolbar": "Slideshow",
  "kernelspec": {
   "display_name": "Python 3",
   "language": "python",
   "name": "python3"
  },
  "language_info": {
   "codemirror_mode": {
    "name": "ipython",
    "version": 3
   },
   "file_extension": ".py",
   "mimetype": "text/x-python",
   "name": "python",
   "nbconvert_exporter": "python",
   "pygments_lexer": "ipython3",
   "version": "3.7.8"
  }
 },
 "nbformat": 4,
 "nbformat_minor": 2
}
