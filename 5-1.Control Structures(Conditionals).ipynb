{
 "cells": [
  {
   "cell_type": "markdown",
   "metadata": {
    "slideshow": {
     "slide_type": "slide"
    }
   },
   "source": [
    "# 조건문\n",
    "- 조건문은 어떤 조건에 따라 프로그램의 논리가 특정한 방향으로 진행되어야 하는 경우에 사용한다.\n",
    "- 주로 두 개 또는 그 이상의 대안이 주어지고 컴퓨터는 조건문의 결과에 따라 이 중 한 개의 명령문을 선택하여 실행한다.\n",
    "- 파이썬에서 사용하는 조건문 형태는 **if**문 한 종류뿐이다.\n"
   ]
  },
  {
   "cell_type": "markdown",
   "metadata": {
    "slideshow": {
     "slide_type": "slide"
    }
   },
   "source": [
    "# 조건문 형식"
   ]
  },
  {
   "cell_type": "markdown",
   "metadata": {
    "slideshow": {
     "slide_type": "slide"
    }
   },
   "source": [
    "**if**문의 일반 형식은 다음과 같다.  "
   ]
  },
  {
   "cell_type": "markdown",
   "metadata": {
    "slideshow": {
     "slide_type": "slide"
    }
   },
   "source": [
    "<b><pre>if 불린-표현식-1: \n",
    "    명령문-1\n",
    "elif 불린-표현식-2: \n",
    "    명령문-2\n",
    "...\n",
    "elif 불린-표현식-N:\n",
    "    명령문-N\n",
    "else:\n",
    "    else-명령문</pre></b>"
   ]
  },
  {
   "cell_type": "markdown",
   "metadata": {
    "slideshow": {
     "slide_type": "skip"
    }
   },
   "source": [
    "다음과 같은 특징이 있다.\n",
    " "
   ]
  },
  {
   "cell_type": "markdown",
   "metadata": {
    "slideshow": {
     "slide_type": "subslide"
    }
   },
   "source": [
    "**if**문은 반드시 있어야 하지만, \n",
    "\n",
    "**elif**문과 **else**문 모두 선택 사항이라 생략할 수 있다."
   ]
  },
  {
   "cell_type": "markdown",
   "metadata": {
    "slideshow": {
     "slide_type": "subslide"
    }
   },
   "source": [
    "**elif**문의 개수는 제한이 없기 때문에 여러 개 작성할 수 있다."
   ]
  },
  {
   "cell_type": "markdown",
   "metadata": {
    "slideshow": {
     "slide_type": "subslide"
    }
   },
   "source": [
    "**else**문은 하나만 올 수 있고 항상 마지막에 와야 한다. "
   ]
  },
  {
   "cell_type": "markdown",
   "metadata": {
    "slideshow": {
     "slide_type": "subslide"
    }
   },
   "source": [
    "**if**문, **elif**문, **else**문의 마지막에는 항상 쌍점(**:**)이 온다. "
   ]
  },
  {
   "cell_type": "markdown",
   "metadata": {
    "slideshow": {
     "slide_type": "subslide"
    }
   },
   "source": [
    "**불린-표현식**인 ***불린-표현식-1***, ..., ***불린-표현식-N***의 값은 \n",
    "- '참(**True**)'과 \n",
    "- '거짓(**False**)' \n",
    "\n",
    "둘 중 하나만 갖는다. "
   ]
  },
  {
   "cell_type": "markdown",
   "metadata": {
    "slideshow": {
     "slide_type": "subslide"
    }
   },
   "source": [
    "조건문은 위에서부터 아래로 순서로 실행되면서 **불린-표현식**의 값을 평가한다. \n",
    "- **불린-표현식**의 값이 '참'이면 해당 명령문(***명령문-1***, ..., ***명령문-N***)을 실행한다. \n",
    "- **불린-표현식** 모두가 '거짓'이면 마지막에 있는 **else**-명령문을 실행한다."
   ]
  },
  {
   "cell_type": "markdown",
   "metadata": {
    "slideshow": {
     "slide_type": "slide"
    }
   },
   "source": [
    "# 단순 **if**문"
   ]
  },
  {
   "cell_type": "markdown",
   "metadata": {
    "slideshow": {
     "slide_type": "subslide"
    }
   },
   "source": [
    "**if**문만 있고 **elif**문과 **else**문이 없는 조건문을 작성해보자."
   ]
  },
  {
   "cell_type": "code",
   "execution_count": null,
   "metadata": {
    "slideshow": {
     "slide_type": "subslide"
    }
   },
   "outputs": [],
   "source": [
    "if True:\n",
    "    print('참')"
   ]
  },
  {
   "cell_type": "code",
   "execution_count": null,
   "metadata": {
    "slideshow": {
     "slide_type": "subslide"
    }
   },
   "outputs": [],
   "source": [
    "if False:\n",
    "    print('거짓')"
   ]
  },
  {
   "cell_type": "code",
   "execution_count": null,
   "metadata": {
    "slideshow": {
     "slide_type": "subslide"
    }
   },
   "outputs": [],
   "source": [
    "i = input('숫자(정수)를 입력하세요: ')\n",
    "if int(i) > 0:\n",
    "    print('입력한 숫자는 양의 정수입니다.')"
   ]
  },
  {
   "cell_type": "markdown",
   "metadata": {
    "slideshow": {
     "slide_type": "slide"
    }
   },
   "source": [
    "# **if-else**문"
   ]
  },
  {
   "cell_type": "markdown",
   "metadata": {
    "slideshow": {
     "slide_type": "subslide"
    }
   },
   "source": [
    "다음 코드는 **if-else**문을 사용한 예다."
   ]
  },
  {
   "cell_type": "code",
   "execution_count": null,
   "metadata": {
    "slideshow": {
     "slide_type": "subslide"
    }
   },
   "outputs": [],
   "source": [
    "i = int(input('숫자(정수)를 입력하세요: '))\n",
    "if i > 0:\n",
    "    print('입력한 숫자는 양의 정수입니다.')\n",
    "else:\n",
    "    print('입력한 숫자는 양의 정수가 아닙니다.')"
   ]
  },
  {
   "cell_type": "markdown",
   "metadata": {
    "slideshow": {
     "slide_type": "slide"
    }
   },
   "source": [
    "# **if-elif-else**문"
   ]
  },
  {
   "cell_type": "markdown",
   "metadata": {
    "slideshow": {
     "slide_type": "subslide"
    }
   },
   "source": [
    "이번에는 **if-elif-else**문을 작성해보자."
   ]
  },
  {
   "cell_type": "code",
   "execution_count": null,
   "metadata": {
    "slideshow": {
     "slide_type": "subslide"
    }
   },
   "outputs": [],
   "source": [
    "prompt = '정수를 입력하세요: '\n",
    "result = '둘 중 더 큰 수는 {}입니다.'\n",
    "\n",
    "x = input(prompt)\n",
    "y = input(prompt)\n",
    "\n",
    "if int(x) > int(y):\n",
    "    print(result.format(x))\n",
    "elif int(x) < int(y):\n",
    "    print(result.format(y))\n",
    "else:\n",
    "    print('같은 숫자군요.')"
   ]
  },
  {
   "cell_type": "markdown",
   "metadata": {
    "slideshow": {
     "slide_type": "slide"
    }
   },
   "source": [
    "## Lab: 7. 두 정수 비교"
   ]
  },
  {
   "cell_type": "markdown",
   "metadata": {
    "slideshow": {
     "slide_type": "slide"
    }
   },
   "source": [
    "**input()** 함수를 사용해 사용자로부터 두 정수 값을 입력받아 변수 ***x***와 ***y***에 할당한다.\n",
    "\n",
    "입력받은 두 변수의 값을 비교하여 그 결과를 다음과 같이 출력한다.\n",
    "- 만약 ***x***가 ***y***보다 크면 'x가 y보다 큽니다.'를 출력한다.\n",
    "- 만약 ***x***가 ***y***보다 작다면 'x가 y보다 작습니다.'를 출력한다.\n",
    "- 만약 ***x***와 ***y***가 같다면 'x와 y가 같습니다'를 출력한다.    "
   ]
  },
  {
   "cell_type": "markdown",
   "metadata": {
    "colab_type": "text",
    "id": "o_ZAl0WP_yt5",
    "slideshow": {
     "slide_type": "slide"
    }
   },
   "source": [
    "### 실행 예\n",
    "\n",
    "<b><pre>\n",
    "x를 입력하세요:  7\n",
    "y를 입력하세요:  5\n",
    "x가 y보다 큽니다.</pre></b>"
   ]
  },
  {
   "cell_type": "markdown",
   "metadata": {
    "colab_type": "text",
    "id": "o_ZAl0WP_yt5",
    "slideshow": {
     "slide_type": "subslide"
    }
   },
   "source": [
    "<b><pre>\n",
    "x를 입력하세요:  -11\n",
    "y를 입력하세요:  2\n",
    "x가 y보다 작습니다.</pre></b>\n",
    "\n",
    "<b><pre>\n",
    "x를 입력하세요:  9\n",
    "y를 입력하세요:  9\n",
    "x와 y가 같습니다.</pre></b>"
   ]
  },
  {
   "cell_type": "markdown",
   "metadata": {
    "colab_type": "text",
    "id": "fJVb16FA_yt_",
    "slideshow": {
     "slide_type": "slide"
    }
   },
   "source": [
    "# Lab: 8. 많이 쓰는 여러 가지 조건식 작성"
   ]
  },
  {
   "cell_type": "markdown",
   "metadata": {
    "colab_type": "text",
    "id": "fJVb16FA_yt_",
    "slideshow": {
     "slide_type": "-"
    }
   },
   "source": [
    "임의의 **lectures = ['math', 'sports', 'english', 'science', 'economics', ... ]**를 만든 후 변수 ***lectures***를 출력한다."
   ]
  },
  {
   "cell_type": "markdown",
   "metadata": {
    "colab_type": "text",
    "id": "fJVb16FA_yt_",
    "slideshow": {
     "slide_type": "-"
    }
   },
   "source": [
    "그리고 다음 조건을 만족하는 코드를 작성하고 결과를 출력한다.\n",
    "- (조건 1) 배우는 과목의 숫자가 4개 이하일 경우 'fail', 5개일 경우 'pass', 그리고 5개 이상일 경우 'liar'를 출력한다.\n",
    "- (조건 2) science와 math가 모두 ***lectures***에 존재하면 '이과', 그렇지 않으면 '문과'를 출력한다.\n",
    "- (조건 3) sports 또는 music 중 하나 이상이 ***lectures***에 존재하면 '예체능', 그렇지 않으면 '일반'을 출력한다."
   ]
  },
  {
   "cell_type": "markdown",
   "metadata": {
    "colab_type": "text",
    "id": "UP9_Q4Br_yuA",
    "slideshow": {
     "slide_type": "-"
    }
   },
   "source": [
    "**Note: 조건식 표현법**\n",
    "- ***a***와 ***b***가 같다 :  *a* **==** *b*   \n",
    "- ***a***가 ***b***보다 크거나(작거나) 같다 : *a* **>=**(**<=**) *b*   \n",
    "- ***x***가 ***a***에 포함된다 : *x* **in** *a*  \n",
    "- ***a*** 또는 ***b*** :  *a* **or** *b*   \n",
    "- ***a*** 그리고 ***b*** : *a* **and** *b*  "
   ]
  },
  {
   "cell_type": "markdown",
   "metadata": {
    "colab_type": "text",
    "id": "RvKtq_jC_yuB",
    "slideshow": {
     "slide_type": "subslide"
    }
   },
   "source": [
    "## 실행 예\n",
    "\n",
    "<b><pre>\n",
    "['math', 'sports', 'english', 'science', 'economics']\n",
    "pass\n",
    "이과\n",
    "예체능</pre></b>"
   ]
  }
 ],
 "metadata": {
  "celltoolbar": "Slideshow",
  "kernelspec": {
   "display_name": "Python 3",
   "language": "python",
   "name": "python3"
  },
  "language_info": {
   "codemirror_mode": {
    "name": "ipython",
    "version": 3
   },
   "file_extension": ".py",
   "mimetype": "text/x-python",
   "name": "python",
   "nbconvert_exporter": "python",
   "pygments_lexer": "ipython3",
   "version": "3.7.8"
  }
 },
 "nbformat": 4,
 "nbformat_minor": 2
}
