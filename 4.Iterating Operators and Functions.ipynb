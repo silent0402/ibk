{
 "cells": [
  {
   "cell_type": "markdown",
   "metadata": {
    "slideshow": {
     "slide_type": "slide"
    }
   },
   "source": [
    "# 순회형 자료형\n",
    "- 기본 자료형\n",
    "    - 문자열\n",
    "- 복합 자료형\n",
    "    - 리스트\n",
    "    - 튜플\n",
    "    - 딕셔너리\n",
    "    - 세트"
   ]
  },
  {
   "cell_type": "markdown",
   "metadata": {
    "slideshow": {
     "slide_type": "slide"
    }
   },
   "source": [
    "# 순회형 연산자"
   ]
  },
  {
   "cell_type": "markdown",
   "metadata": {
    "slideshow": {
     "slide_type": "subslide"
    }
   },
   "source": [
    "결합 연산자 **+**\n",
    "- ***s*** **+** ***t*** : 시퀀스형 ***s***와 ***t***를 합친 시퀀스형 자료를 반환한다."
   ]
  },
  {
   "cell_type": "code",
   "execution_count": null,
   "metadata": {
    "slideshow": {
     "slide_type": "-"
    }
   },
   "outputs": [],
   "source": [
    "# 리스트와 리스트 더한 결과를 반환한다.\n",
    "[1, 2, 3] + ['a', 'b', 'c']"
   ]
  },
  {
   "cell_type": "markdown",
   "metadata": {
    "slideshow": {
     "slide_type": "subslide"
    }
   },
   "source": [
    "반복 결합 연산자 __*__\n",
    "- ***s*** __*__ ***n*** : 시퀀스형 ***s***를 ***n*** 횟수만큼 반복한 시퀀스형 자료를 반환한다."
   ]
  },
  {
   "cell_type": "code",
   "execution_count": null,
   "metadata": {
    "scrolled": true,
    "slideshow": {
     "slide_type": "-"
    }
   },
   "outputs": [],
   "source": [
    "# 튜플을 5번 반복한 새로운 튜플을 반환한다.\n",
    "(1, 2, 3) * 5"
   ]
  },
  {
   "cell_type": "markdown",
   "metadata": {
    "slideshow": {
     "slide_type": "subslide"
    }
   },
   "source": [
    "멤버십 연산자 **in**/**not in**\n",
    "- ***x*** **in** ***i*** : 객체 ***x***가 순회형 ***i***에 있으면 참(**True**)을 반환한다. \n",
    "- **not in**은 객체 ***x***가 순회형 ***i***에 없으면 참(**True**)을 반환한다."
   ]
  },
  {
   "cell_type": "code",
   "execution_count": null,
   "metadata": {
    "slideshow": {
     "slide_type": "-"
    }
   },
   "outputs": [],
   "source": [
    "# 집합 안에 'a'가 있는지 확인한다.\n",
    "'a' in {'a', 'b', 'c'}"
   ]
  },
  {
   "cell_type": "code",
   "execution_count": null,
   "metadata": {
    "slideshow": {
     "slide_type": "-"
    }
   },
   "outputs": [],
   "source": [
    "# 집합 안에 'x'가 없는지 확인한다.\n",
    "'x' not in {'a', 'b', 'c'}"
   ]
  },
  {
   "cell_type": "markdown",
   "metadata": {
    "slideshow": {
     "slide_type": "slide"
    }
   },
   "source": [
    "# 순회형 함수\n",
    "\n",
    "질의 함수 : **len()**, **all()**, **any()**  \n",
    "연산 함수 : **min()**, **max()**, **sum()**  \n",
    "정렬 함수 : **reversed()**, **sorted()**  \n",
    "순환문과 함께 사용하는 유용한 함수 : **range()**, **enumerater()**, **zip()**"
   ]
  },
  {
   "cell_type": "markdown",
   "metadata": {
    "slideshow": {
     "slide_type": "slide"
    }
   },
   "source": [
    "### 질의 함수"
   ]
  },
  {
   "cell_type": "markdown",
   "metadata": {
    "slideshow": {
     "slide_type": "subslide"
    }
   },
   "source": [
    "**len**(***x***)\n",
    "- ***x***의 길이를 반환한다.\n",
    "- ***x***가 복합자료형이면 객체의 총 개수를 반환한다.\n",
    "- ***x***가 문자열이면 문자의 개수를 반환한다."
   ]
  },
  {
   "cell_type": "code",
   "execution_count": null,
   "metadata": {
    "scrolled": true,
    "slideshow": {
     "slide_type": "-"
    }
   },
   "outputs": [],
   "source": [
    "# 리스트의 길이(즉, 담고 있는 객체의 수)를 반환한다.\n",
    "len([1, 2, 3])                  "
   ]
  },
  {
   "cell_type": "code",
   "execution_count": null,
   "metadata": {
    "scrolled": true,
    "slideshow": {
     "slide_type": "-"
    }
   },
   "outputs": [],
   "source": [
    "# 문자열의 길이(즉, 문자의 개수)를 반환한다.\n",
    "len('Python')                  "
   ]
  },
  {
   "cell_type": "markdown",
   "metadata": {
    "slideshow": {
     "slide_type": "slide"
    }
   },
   "source": [
    "### 연산 함수"
   ]
  },
  {
   "cell_type": "markdown",
   "metadata": {
    "slideshow": {
     "slide_type": "subslide"
    }
   },
   "source": [
    "**min()**과 **max()**는 순회형의 값 중 최솟값과 최댓값을 반환하는 함수다."
   ]
  },
  {
   "cell_type": "markdown",
   "metadata": {
    "slideshow": {
     "slide_type": "subslide"
    }
   },
   "source": [
    "**min**(***i***, ***key***)\n",
    "\n",
    "- 순회형 ***i***의 객체 중 가장 작은 값을 가진 객체를 반환한다.\n",
    "- ***key*** 전달인자가 주어질 경우 전달인자 함수로 처리한 결괏값 중 가장 작은 값을 가진 객체를 반환한다."
   ]
  },
  {
   "cell_type": "code",
   "execution_count": null,
   "metadata": {
    "slideshow": {
     "slide_type": "-"
    }
   },
   "outputs": [],
   "source": [
    "x = [7, -5, 8, 3, 9]\n",
    "# x 중 최댓값을 찾아서 반환한다.\n",
    "max(x)                         "
   ]
  },
  {
   "cell_type": "markdown",
   "metadata": {
    "slideshow": {
     "slide_type": "subslide"
    }
   },
   "source": [
    "**max**(***i***, ***key***)\n",
    "\n",
    "- 순회형 ***i***의 객체 중 가장 큰 값을 가진 객체를 반환한다.\n",
    "- ***key*** 전달인자가 주어질 경우 전달인자 함수로 처리한 결괏값 중 가장 큰 값을 가진 객체를 반환한다."
   ]
  },
  {
   "cell_type": "code",
   "execution_count": null,
   "metadata": {
    "slideshow": {
     "slide_type": "-"
    }
   },
   "outputs": [],
   "source": [
    "# --- x = [7, -5, 8, 3, 9]\n",
    "# x 중 최솟값을 찾아서 반환한다.\n",
    "min(x)                         "
   ]
  },
  {
   "cell_type": "markdown",
   "metadata": {
    "slideshow": {
     "slide_type": "subslide"
    }
   },
   "source": [
    "**min()**과 **max()** 함수는 ***key***의 전달인자로 함수를 사용할 수 있다. \n",
    "\n",
    "이때 함수 이름만 사용하며, 함수 뒤에 붙는 괄호는 생략한다."
   ]
  },
  {
   "cell_type": "markdown",
   "metadata": {
    "slideshow": {
     "slide_type": "-"
    }
   },
   "source": [
    "다음 코드는 ***key***로 전달하는 함수로 **abs()**를 사용한다."
   ]
  },
  {
   "cell_type": "code",
   "execution_count": null,
   "metadata": {
    "slideshow": {
     "slide_type": "-"
    }
   },
   "outputs": [],
   "source": [
    "# --- x = [7, -5, 8, 3, 9]\n",
    "# x의 절대 값 중에 최솟값을 찾아서 반환한다.\n",
    "min(x, key=abs)"
   ]
  },
  {
   "cell_type": "markdown",
   "metadata": {
    "slideshow": {
     "slide_type": "subslide"
    }
   },
   "source": [
    "**min()**과 **max()** 함수에 숫자가 아닌 문자도 올 수 있다."
   ]
  },
  {
   "cell_type": "code",
   "execution_count": null,
   "metadata": {
    "slideshow": {
     "slide_type": "-"
    }
   },
   "outputs": [],
   "source": [
    "s = ['a', 'B', 'c', 'd', 'E']\n",
    "# s 중 최댓값을 찾아서 반환한다.\n",
    "max(s)   "
   ]
  },
  {
   "cell_type": "markdown",
   "metadata": {
    "slideshow": {
     "slide_type": "subslide"
    }
   },
   "source": [
    "대소문자를 구분하지 않고 최댓값을 구하려면 다음처럼 문자열 클래스의 **lower()** 메소드를 불러 모두 소문자로 처리한 후 비교해서 최댓값 알파벳 문자를 찾는다."
   ]
  },
  {
   "cell_type": "code",
   "execution_count": null,
   "metadata": {
    "slideshow": {
     "slide_type": "-"
    }
   },
   "outputs": [],
   "source": [
    "# --- s = ['a', 'B', 'c', 'd', 'E']\n",
    "# s 중 대소문자 구분하지 않고 최댓값을 찾아서 반환한다.\n",
    "max(s, key=str.lower)          "
   ]
  },
  {
   "cell_type": "markdown",
   "metadata": {
    "slideshow": {
     "slide_type": "subslide"
    }
   },
   "source": [
    "**sum**(***i***[, ***start***])\n",
    "\n",
    "- 순회형 ***i***의 모든 객체를 더한 값을 반환한다.\n",
    "- ***start*** 전달인자가 주어지지 않으면 기본값은 **0**이다.\n",
    "- ***start*** 전달인자가 주어지면 ***start*** 전달인자와 순회형 ***i***의 객체들의 전체 합을 반환한다,\n",
    "- ***i***에 문자열이 포함되어 있을 경우 **TypeError** 예외가 발생한다."
   ]
  },
  {
   "cell_type": "code",
   "execution_count": null,
   "metadata": {
    "slideshow": {
     "slide_type": "subslide"
    }
   },
   "outputs": [],
   "source": [
    "x = [7, -5, 8, 3, 9]\n",
    "# x의 모든 값을 더한 값을 반환한다.\n",
    "sum(x)                         "
   ]
  },
  {
   "cell_type": "code",
   "execution_count": null,
   "metadata": {
    "slideshow": {
     "slide_type": "-"
    }
   },
   "outputs": [],
   "source": [
    "# 9와 x의 모든 값을 더한 값을 반환한다.\n",
    "sum(x, 9)                      "
   ]
  },
  {
   "cell_type": "markdown",
   "metadata": {
    "slideshow": {
     "slide_type": "slide"
    }
   },
   "source": [
    "### 정렬 함수"
   ]
  },
  {
   "cell_type": "markdown",
   "metadata": {
    "slideshow": {
     "slide_type": "subslide"
    }
   },
   "source": [
    "**sorted**(***i, key=None, reverse=False***)\n",
    "- 순회형 ***i***의 객체를 정렬하는 방식의 순서로 바꾼 후 **리스트**로 반환한다.\n",
    "- ***key*** 전달인자를 사용하면 DSU(Decorate, Sort, Undecorated) 정렬이 가능하다.\n",
    "- ***reverse*** 전달인자가 참(**True**)이면 정렬이 역순으로 이루어진다."
   ]
  },
  {
   "cell_type": "markdown",
   "metadata": {
    "slideshow": {
     "slide_type": "-"
    }
   },
   "source": [
    "**sorted()** 함수의 기본 정렬 방식은 오름차순이다."
   ]
  },
  {
   "cell_type": "code",
   "execution_count": null,
   "metadata": {
    "slideshow": {
     "slide_type": "subslide"
    }
   },
   "outputs": [],
   "source": [
    "L = [7, -5, 8, 3, 9]"
   ]
  },
  {
   "cell_type": "code",
   "execution_count": null,
   "metadata": {
    "slideshow": {
     "slide_type": "-"
    }
   },
   "outputs": [],
   "source": [
    "# 오름차순으로 정렬한다.\n",
    "sorted(L)"
   ]
  },
  {
   "cell_type": "code",
   "execution_count": null,
   "metadata": {
    "slideshow": {
     "slide_type": "-"
    }
   },
   "outputs": [],
   "source": [
    "# --- [7, -5, 8, 3, 9]\n",
    "# 내림차순으로 정렬한다.\n",
    "sorted(L, reverse=True) "
   ]
  },
  {
   "cell_type": "code",
   "execution_count": null,
   "metadata": {
    "slideshow": {
     "slide_type": "-"
    }
   },
   "outputs": [],
   "source": [
    "# --- [7, -5, 8, 3, 9]\n",
    "# 절댓값으로 해서 오름차순으로 정렬한다.\n",
    "sorted(L, key=abs)                "
   ]
  },
  {
   "cell_type": "code",
   "execution_count": null,
   "metadata": {
    "slideshow": {
     "slide_type": "-"
    }
   },
   "outputs": [],
   "source": [
    "# --- [7, -5, 8, 3, 9]\n",
    "# 절댓값으로 해서 내림차순으로 정렬한다.\n",
    "sorted(L, key=abs, reverse=True)"
   ]
  },
  {
   "cell_type": "markdown",
   "metadata": {
    "slideshow": {
     "slide_type": "slide"
    }
   },
   "source": [
    "### 순환문과 함께 사용하는 유용한 함수"
   ]
  },
  {
   "cell_type": "markdown",
   "metadata": {
    "slideshow": {
     "slide_type": "subslide"
    }
   },
   "source": [
    "**range**(***start, stop, step***)\n",
    "- 정수 순회자를 반환한다.\n",
    "- 한 개의 전달인자(***stop***)가 주어지면 순회자는 0부터 ***stop*** **- 1**까지의 정수를 반환한다.\n",
    "- 두 개의 전달인자(***start, stop***)가 주어지면 순회자는 ***start***부터 ***stop*** **- 1**까지의 정수를 반환한다.\n",
    "- 세 개의 전달인자(***start, stop, step***)가 주어지면 순회자는 ***start***부터 ***step***만큼의 간격을 두고  ***stop*** **- 1**까지의 정수를 반환한다."
   ]
  },
  {
   "cell_type": "code",
   "execution_count": null,
   "metadata": {
    "slideshow": {
     "slide_type": "subslide"
    }
   },
   "outputs": [],
   "source": [
    "list1 = [x for x in range(10)]\n",
    "list2 = [x for x in range(3, 10)]\n",
    "list3 = [x for x in range(3, 10, 2)]\n",
    "\n",
    "print(list1)\n",
    "print(list2)\n",
    "print(list3)"
   ]
  },
  {
   "cell_type": "markdown",
   "metadata": {
    "slideshow": {
     "slide_type": "subslide"
    }
   },
   "source": [
    "**enumerate**(***i, start=0***)\n",
    "- 보통 **for ... in** 순환문과 함께 사용하며 **(인덱스, 객체)**의 튜플 쌍으로 순회할 수 있는 열거형(enumerate) 객체를 반환한다.\n",
    "- ***start*** 전달인자가 주어지지 않으면 기본 값은 **0**이다.\n",
    "- ***start*** 전달인자가 주어지면 ***start*** 전달인자부터 인덱스가 시작된다."
   ]
  },
  {
   "cell_type": "code",
   "execution_count": null,
   "metadata": {
    "slideshow": {
     "slide_type": "subslide"
    }
   },
   "outputs": [],
   "source": [
    "fruits = ['사과', '바나나', '수박', '오렌지']\n",
    "\n",
    "for i in fruits:\n",
    "    print(i)"
   ]
  },
  {
   "cell_type": "code",
   "execution_count": null,
   "metadata": {
    "slideshow": {
     "slide_type": "subslide"
    }
   },
   "outputs": [],
   "source": [
    "for i in enumerate(fruits):\n",
    "    print(i)"
   ]
  },
  {
   "cell_type": "code",
   "execution_count": null,
   "metadata": {
    "slideshow": {
     "slide_type": "-"
    }
   },
   "outputs": [],
   "source": [
    "for i, v in enumerate(fruits, 1):\n",
    "    print(f'{i}번째 과일은 {v}입니다.')"
   ]
  },
  {
   "cell_type": "markdown",
   "metadata": {
    "slideshow": {
     "slide_type": "subslide"
    }
   },
   "source": [
    "**zip**(***i1, ..., iN***)\n",
    "- 순회자 ***i1, ... , iN***을 사용하여 튜플 순회자를 반환한다."
   ]
  },
  {
   "cell_type": "code",
   "execution_count": null,
   "metadata": {
    "slideshow": {
     "slide_type": "-"
    }
   },
   "outputs": [],
   "source": [
    "fruits = ['사과', '바나나', '수박', '오렌지']\n",
    "stock = [10, 30, 20, 40]\n",
    "\n",
    "for i in zip(fruits, stock):\n",
    "    print(i)"
   ]
  },
  {
   "cell_type": "code",
   "execution_count": null,
   "metadata": {},
   "outputs": [],
   "source": [
    "for f, n in zip(fruits, stock):\n",
    "    print(f'{f}는 {n}개 남았습니다')"
   ]
  },
  {
   "cell_type": "code",
   "execution_count": null,
   "metadata": {},
   "outputs": [],
   "source": []
  }
 ],
 "metadata": {
  "celltoolbar": "Slideshow",
  "kernelspec": {
   "display_name": "Python 3",
   "language": "python",
   "name": "python3"
  },
  "language_info": {
   "codemirror_mode": {
    "name": "ipython",
    "version": 3
   },
   "file_extension": ".py",
   "mimetype": "text/x-python",
   "name": "python",
   "nbconvert_exporter": "python",
   "pygments_lexer": "ipython3",
   "version": "3.7.8"
  }
 },
 "nbformat": 4,
 "nbformat_minor": 2
}
