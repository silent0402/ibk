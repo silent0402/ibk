{
 "cells": [
  {
   "cell_type": "markdown",
   "metadata": {
    "slideshow": {
     "slide_type": "slide"
    }
   },
   "source": [
    "<img src='img/ch05-data-types.png' alt='Data Types' width='350' />"
   ]
  },
  {
   "cell_type": "markdown",
   "metadata": {
    "slideshow": {
     "slide_type": "slide"
    }
   },
   "source": [
    "# 시퀀스 자료형\n",
    "- 0개 이상의 객체를 배열 형태로 참조하는 자료형을 말한다.\n",
    "- 따라서 담고 있는 각 객체는 순서를 가지고 있다.\n",
    "\n",
    "가장 많이 사용하는 시퀀스형\n",
    "- 문자열(**str**)\n",
    "- 리스트(**list**)\n",
    "- 튜플(**tuple**)"
   ]
  },
  {
   "cell_type": "markdown",
   "metadata": {
    "slideshow": {
     "slide_type": "slide"
    }
   },
   "source": [
    "# 리스트(**list**)\n",
    "\n",
    "- **가변자료형**(mutable)이다.\n",
    "    - 생성한 후 내용의 변경이 가능하다. 즉, 담고 있는 객체를 삭제, 변경, 삽입하는 것이 가능하다.\n",
    "- **순서를 가지는** 0개 이상의 객체를 참조하는 **시퀀스형**이다.\n",
    "    - 각 객체는 쉼표(,)로 구분한다.\n",
    "- 리스트 자신을 포함해 어떠한 자료형도 담을 수 있다.\n",
    "- 유연성 높아 파이썬에서 가장 흔히 사용되는 자료형이다.\n",
    "- 출력 형식\n",
    "    - 리스트는 항상 **[ ]**(대괄호) 형태로 출력한다."
   ]
  },
  {
   "cell_type": "markdown",
   "metadata": {
    "slideshow": {
     "slide_type": "slide"
    }
   },
   "source": [
    "![List Type](img/ch06-list-type.png)\n",
    "\n",
    "<!--\n",
    "<img alt='List Type' src='img/ch06-list-type.png' width=500 />\n",
    "-->"
   ]
  },
  {
   "cell_type": "markdown",
   "metadata": {
    "slideshow": {
     "slide_type": "slide"
    }
   },
   "source": [
    "# 리스트 생성\n",
    "\n",
    "리스트를 만드는 방법으로는 다음 세 가지가 있다.\n",
    "- **[ ]**(대괄호)\n",
    "- **list()** 생성자(클래스)\n",
    "- 리스트 축약(list comprehension)"
   ]
  },
  {
   "cell_type": "markdown",
   "metadata": {
    "slideshow": {
     "slide_type": "slide"
    }
   },
   "source": [
    "## 따라해보기"
   ]
  },
  {
   "cell_type": "markdown",
   "metadata": {
    "slideshow": {
     "slide_type": "subslide"
    }
   },
   "source": [
    "대괄호 **[ ]**를 사용하여 리스트 생성\n",
    "- 각 객체는 쉼표(,)로 구분한다."
   ]
  },
  {
   "cell_type": "code",
   "execution_count": null,
   "metadata": {
    "slideshow": {
     "slide_type": "-"
    }
   },
   "outputs": [],
   "source": [
    "number_list = [1, 0, -5, -1.23, 27]"
   ]
  },
  {
   "cell_type": "code",
   "execution_count": null,
   "metadata": {
    "slideshow": {
     "slide_type": "-"
    }
   },
   "outputs": [],
   "source": [
    "print(number_list)"
   ]
  },
  {
   "cell_type": "markdown",
   "metadata": {
    "slideshow": {
     "slide_type": "subslide"
    }
   },
   "source": [
    "**list()** 생성자를 사용하여 리스트 생성\n",
    "- **list()**의 전달인자로 **순회형**만 올 수 있다. \n",
    "- 순회형(iterable)이란 담고 있는 객체들에 하나씩 순서대로 접근할 수 있는 자료형으로 문자열, 리스트, 튜플, 딕셔너리, 세트가 있다. "
   ]
  },
  {
   "cell_type": "code",
   "execution_count": null,
   "metadata": {
    "slideshow": {
     "slide_type": "-"
    }
   },
   "outputs": [],
   "source": [
    "string_list= list('가나다라마바사')"
   ]
  },
  {
   "cell_type": "code",
   "execution_count": null,
   "metadata": {
    "slideshow": {
     "slide_type": "-"
    }
   },
   "outputs": [],
   "source": [
    "print(string_list)"
   ]
  },
  {
   "cell_type": "markdown",
   "metadata": {
    "slideshow": {
     "slide_type": "subslide"
    }
   },
   "source": [
    "**list comprehension**을 사용하여 리스트 생성\n",
    "\n",
    "- [ **x** for **x** in *__iterabale__*]"
   ]
  },
  {
   "cell_type": "code",
   "execution_count": null,
   "metadata": {},
   "outputs": [],
   "source": [
    "s = '가나다라마'\n",
    "[x for x in s]"
   ]
  },
  {
   "cell_type": "markdown",
   "metadata": {
    "slideshow": {
     "slide_type": "subslide"
    }
   },
   "source": [
    "모든 복합자료형은 어떠한 자료형도 담을 수 있다.\n",
    "- 따라서 리스트는 리스트 자신을 포함해 어떠한 자료형도 담을 수 있다."
   ]
  },
  {
   "cell_type": "code",
   "execution_count": null,
   "metadata": {
    "slideshow": {
     "slide_type": "-"
    }
   },
   "outputs": [],
   "source": [
    "complex_list = [list(), number_list, ['x', 3, string_list], True, None]"
   ]
  },
  {
   "cell_type": "code",
   "execution_count": null,
   "metadata": {
    "slideshow": {
     "slide_type": "-"
    }
   },
   "outputs": [],
   "source": [
    "print(complex_list)"
   ]
  },
  {
   "cell_type": "markdown",
   "metadata": {
    "slideshow": {
     "slide_type": "subslide"
    }
   },
   "source": [
    "앞서 만든 리스트의 길이, 즉 각 리스트가 담고 있는 객체의 개수를 확인해보자.\n",
    "- **len()** 함수는 순회형(**str**, **list**, **tuple**, **dict**, **set**) 객체의 길이(담고 있는 객체의 수)를 반환한다.\n",
    "\n",
    "\n",
    "\n"
   ]
  },
  {
   "cell_type": "code",
   "execution_count": null,
   "metadata": {
    "slideshow": {
     "slide_type": "-"
    }
   },
   "outputs": [],
   "source": [
    "# list('가나다라마바사')\n",
    "len(string_list)"
   ]
  },
  {
   "cell_type": "markdown",
   "metadata": {
    "slideshow": {
     "slide_type": "subslide"
    }
   },
   "source": [
    "문자열은 불변자료형이라 생성한 후 내용의 변경이 불가능하다."
   ]
  },
  {
   "cell_type": "code",
   "execution_count": null,
   "metadata": {
    "slideshow": {
     "slide_type": "-"
    }
   },
   "outputs": [],
   "source": [
    "s = 'abcde'\n",
    "s[0] = 'A'  # a를 A로 바꾼다."
   ]
  },
  {
   "cell_type": "markdown",
   "metadata": {
    "slideshow": {
     "slide_type": "subslide"
    }
   },
   "source": [
    "리스트는 가변자료형이라 생성한 후 내용의 변경이 가능하다."
   ]
  },
  {
   "cell_type": "code",
   "execution_count": null,
   "metadata": {
    "slideshow": {
     "slide_type": "-"
    }
   },
   "outputs": [],
   "source": [
    "L = ['a', 'b', 'c', 'd', 'e']\n",
    "L[0] = 'A'  # 'a'를 'A'로 바꾼다.\n",
    "\n",
    "print(L)"
   ]
  },
  {
   "cell_type": "markdown",
   "metadata": {
    "slideshow": {
     "slide_type": "slide"
    }
   },
   "source": [
    "# 리스트 인덱스\n",
    "\n",
    "문자열 인덱스와 같은 원리로 작동한다."
   ]
  },
  {
   "cell_type": "code",
   "execution_count": null,
   "metadata": {
    "slideshow": {
     "slide_type": "-"
    }
   },
   "outputs": [],
   "source": [
    "band = ['보컬', ['기타1', '기타2', '베이스'], '드럼', '키보드']"
   ]
  },
  {
   "cell_type": "code",
   "execution_count": null,
   "metadata": {
    "slideshow": {
     "slide_type": "-"
    }
   },
   "outputs": [],
   "source": [
    "# 첫 번째 객체를 추출한다.\n",
    "band[0]           "
   ]
  },
  {
   "cell_type": "code",
   "execution_count": null,
   "metadata": {
    "slideshow": {
     "slide_type": "subslide"
    }
   },
   "outputs": [],
   "source": [
    "# --- ['보컬', ['기타1', '기타2', '베이스'], '드럼', '키보드']\n",
    "# 마지막 객체를 추출한다.\n",
    "band[-1]          "
   ]
  },
  {
   "cell_type": "code",
   "execution_count": null,
   "metadata": {
    "slideshow": {
     "slide_type": "-"
    }
   },
   "outputs": [],
   "source": [
    "# --- ['보컬', ['기타1', '기타2', '베이스'], '드럼', '키보드']\n",
    "# 두 번째 객체를 추출한다. \n",
    "band[1]"
   ]
  },
  {
   "cell_type": "code",
   "execution_count": null,
   "metadata": {
    "slideshow": {
     "slide_type": "-"
    }
   },
   "outputs": [],
   "source": [
    "# --- ['보컬', ['기타1', '기타2', '베이스'], '드럼', '키보드']\n",
    "# 두 번째 객체의 두 번째 객체를 추출한다.\n",
    "band[1][1]"
   ]
  },
  {
   "cell_type": "markdown",
   "metadata": {
    "slideshow": {
     "slide_type": "subslide"
    }
   },
   "source": [
    "기존 객체를 새로운 객체로 바꿀 수도 있는데 교체하고자 하는 자리의 인덱스 번호를 지정한 후 새로운 객체를 할당하면 된다. \n",
    "\n",
    "교체하는 형식은 다음과 같다.\n",
    "\n",
    "**리스트[인덱스번호] = 새로운-객체**"
   ]
  },
  {
   "cell_type": "code",
   "execution_count": null,
   "metadata": {
    "slideshow": {
     "slide_type": "-"
    }
   },
   "outputs": [],
   "source": [
    "# --- ['보컬', ['기타1', '기타2', '베이스'], '드럼', '키보드']\n",
    "# 리스트의 세 번째 객체를 교체한다. \n",
    "band[2] = '카혼'\n",
    "\n",
    "print(band)"
   ]
  },
  {
   "cell_type": "markdown",
   "metadata": {
    "slideshow": {
     "slide_type": "subslide"
    }
   },
   "source": [
    "리스트 안의 리스트에 있는 객체도 바꿀 수 있다."
   ]
  },
  {
   "cell_type": "code",
   "execution_count": null,
   "metadata": {},
   "outputs": [],
   "source": [
    "matrix = [\n",
    "    [10, 45, 21, 7],\n",
    "    [21, 94, 43, 82],\n",
    "    [43, 98, 53, 61]\n",
    "]\n",
    "\n",
    "matrix[0]\n",
    "matrix[1][2]\n",
    "matrix[2][3]"
   ]
  },
  {
   "cell_type": "markdown",
   "metadata": {
    "slideshow": {
     "slide_type": "slide"
    }
   },
   "source": [
    "# 리스트 관련 연산자\n",
    "\n",
    "리스트와 관련된 연산자로는 다음과 같은 것이 있다."
   ]
  },
  {
   "cell_type": "markdown",
   "metadata": {
    "slideshow": {
     "slide_type": "subslide"
    }
   },
   "source": [
    "결합 연산자 : **+**   \n",
    "반복 결합 연산자 : __*__   \n",
    "확장 연산자 : **+=**   "
   ]
  },
  {
   "cell_type": "markdown",
   "metadata": {
    "slideshow": {
     "slide_type": "subslide"
    }
   },
   "source": [
    "분할 연산자 : **[:]**  \n",
    "삭제 연산자 : **del**    \n",
    "멤버십 연산자 : **in**/**not in**  "
   ]
  },
  {
   "cell_type": "markdown",
   "metadata": {
    "slideshow": {
     "slide_type": "subslide"
    }
   },
   "source": [
    "### 결합 연산자"
   ]
  },
  {
   "cell_type": "code",
   "execution_count": null,
   "metadata": {
    "slideshow": {
     "slide_type": "-"
    }
   },
   "outputs": [],
   "source": [
    "[1, 2, 3] + [4, 5, 6]"
   ]
  },
  {
   "cell_type": "code",
   "execution_count": null,
   "metadata": {
    "slideshow": {
     "slide_type": "-"
    }
   },
   "outputs": [],
   "source": [
    "['a', 'b'] + ['c', 'd']"
   ]
  },
  {
   "cell_type": "markdown",
   "metadata": {
    "slideshow": {
     "slide_type": "subslide"
    }
   },
   "source": [
    "### 반복 연산자"
   ]
  },
  {
   "cell_type": "code",
   "execution_count": null,
   "metadata": {
    "slideshow": {
     "slide_type": "-"
    }
   },
   "outputs": [],
   "source": [
    "[0] * 5"
   ]
  },
  {
   "cell_type": "code",
   "execution_count": null,
   "metadata": {
    "slideshow": {
     "slide_type": "-"
    }
   },
   "outputs": [],
   "source": [
    "[1, 2, 3] * 3"
   ]
  },
  {
   "cell_type": "markdown",
   "metadata": {
    "slideshow": {
     "slide_type": "slide"
    }
   },
   "source": [
    "### 분할 연산자\n",
    "\n",
    "분할 연산자 **[ : ]**와 **[ : : ]**는 리스트 분할을 통해 리스트의 객체를 추출한다. \n",
    "- 앞서 배운 문자열 분할 연산자와 같은 기능을 한다."
   ]
  },
  {
   "cell_type": "code",
   "execution_count": null,
   "metadata": {
    "slideshow": {
     "slide_type": "subslide"
    }
   },
   "outputs": [],
   "source": [
    "s = ['a', 'b', 'c', 'd', ['x', 'y', 'z'], 'e', 'f']"
   ]
  },
  {
   "cell_type": "code",
   "execution_count": null,
   "metadata": {
    "slideshow": {
     "slide_type": "fragment"
    }
   },
   "outputs": [],
   "source": [
    "# --- ['a', 'b', 'c', 'd', ['x', 'y', 'z'], 'e', 'f']\n",
    "# 처음 3개를 추출한다.\n",
    "s[:3]  "
   ]
  },
  {
   "cell_type": "code",
   "execution_count": null,
   "metadata": {
    "slideshow": {
     "slide_type": "fragment"
    }
   },
   "outputs": [],
   "source": [
    "# --- ['a', 'b', 'c', 'd', ['x', 'y', 'z'], 'e', 'f']\n",
    "# 마지막 3개를 추출한다.\n",
    "s[-3:] "
   ]
  },
  {
   "cell_type": "markdown",
   "metadata": {
    "slideshow": {
     "slide_type": "slide"
    }
   },
   "source": [
    "### 삭제 연산자\n",
    "\n",
    "**del**은 객체의 참조를 삭제하는 연산자다. \n",
    "- 따라서 리스트 객체뿐만 아니라 파이썬에서 사용하는 모든 자료형에서 객체 참조를 삭제하는 데 사용할 수 있다. \n",
    "\n",
    "형식은 다음과 같다.\n",
    "\n",
    "- **del** ***객체***"
   ]
  },
  {
   "cell_type": "code",
   "execution_count": null,
   "metadata": {
    "slideshow": {
     "slide_type": "subslide"
    }
   },
   "outputs": [],
   "source": [
    "L = ['a', 'b', 'c', 'd', ['x', 'y', 'z'], 'e', 'f']"
   ]
  },
  {
   "cell_type": "code",
   "execution_count": null,
   "metadata": {
    "slideshow": {
     "slide_type": "-"
    }
   },
   "outputs": [],
   "source": [
    "# 다섯 번째 객체의 마지막 객체를 삭제한다.\n",
    "del L[4][-1]\n",
    "print(L)"
   ]
  },
  {
   "cell_type": "code",
   "execution_count": null,
   "metadata": {
    "slideshow": {
     "slide_type": "-"
    }
   },
   "outputs": [],
   "source": [
    "# --- ['a', 'b', 'c', 'd', ['x', 'y'], 'e', 'f']\n",
    "# 다섯 번째 객체를 삭제한다.\n",
    "del L[4]\n",
    "print(L)"
   ]
  },
  {
   "cell_type": "code",
   "execution_count": null,
   "metadata": {},
   "outputs": [],
   "source": [
    "# --- ['a', 'b', 'c', 'd', 'e', 'f']\n",
    "# 네 번째부터 마지막 객체를 삭제한다.\n",
    "del L[3:]\n",
    "print(L)"
   ]
  },
  {
   "cell_type": "markdown",
   "metadata": {
    "slideshow": {
     "slide_type": "slide"
    }
   },
   "source": [
    "### 멤버십 연산자\n",
    "멤버십 연산은 순회형 값 안에 객체가 존재하는지 여부를 '참(**True**)' 또는 '거짓(**False**)'으로 알려준다.\n",
    "\n",
    "형식은 다음과 같다.\n",
    "\n",
    "- ***객체*** **in** ***순회형***\n",
    "- ***객체*** **not in** ***순회형***"
   ]
  },
  {
   "cell_type": "code",
   "execution_count": null,
   "metadata": {
    "slideshow": {
     "slide_type": "subslide"
    }
   },
   "outputs": [],
   "source": [
    "L = ['a', 'b', ['c', 'd', 'e']]"
   ]
  },
  {
   "cell_type": "code",
   "execution_count": null,
   "metadata": {
    "slideshow": {
     "slide_type": "-"
    }
   },
   "outputs": [],
   "source": [
    "'a' in L"
   ]
  },
  {
   "cell_type": "code",
   "execution_count": null,
   "metadata": {
    "slideshow": {
     "slide_type": "-"
    }
   },
   "outputs": [],
   "source": [
    "# --- ['a', 'b', ['c', 'd', 'e']]\n",
    "'c' in L"
   ]
  },
  {
   "cell_type": "markdown",
   "metadata": {
    "slideshow": {
     "slide_type": "subslide"
    }
   },
   "source": [
    "참고로 멤버십 연산자는 모든 ***순회형***에 적용할 수 있기 때문에 문자열에 일부 문자가 포함되어 있는지 확인할 때도 사용할 수 있다. "
   ]
  },
  {
   "cell_type": "code",
   "execution_count": null,
   "metadata": {
    "slideshow": {
     "slide_type": "-"
    }
   },
   "outputs": [],
   "source": [
    "text = 'Don’t just play on your phone, program it'"
   ]
  },
  {
   "cell_type": "code",
   "execution_count": null,
   "metadata": {
    "slideshow": {
     "slide_type": "-"
    }
   },
   "outputs": [],
   "source": [
    "'j' in text"
   ]
  },
  {
   "cell_type": "code",
   "execution_count": null,
   "metadata": {
    "slideshow": {
     "slide_type": "-"
    }
   },
   "outputs": [],
   "source": [
    "# --- 'Don’t just play on your phone, program it'\n",
    "'d' in text"
   ]
  },
  {
   "cell_type": "code",
   "execution_count": null,
   "metadata": {
    "slideshow": {
     "slide_type": "-"
    }
   },
   "outputs": [],
   "source": [
    "# --- 'Don’t just play on your phone, program it'\n",
    "'program' in text"
   ]
  },
  {
   "cell_type": "markdown",
   "metadata": {
    "slideshow": {
     "slide_type": "slide"
    }
   },
   "source": [
    "# 리스트 관련 메소드\n",
    "\n",
    "추가 메소드 : **append()**, **extend()**, **insert()**   \n",
    "삭제 메소드 : **pop()**, **remove()**  \n",
    "질의 메소드 : **count()**, **index()**   \n",
    "정렬 메소드 : **reverse()**, **sort()**"
   ]
  },
  {
   "cell_type": "markdown",
   "metadata": {
    "slideshow": {
     "slide_type": "slide"
    }
   },
   "source": [
    "### 추가 메소드\n"
   ]
  },
  {
   "cell_type": "markdown",
   "metadata": {
    "slideshow": {
     "slide_type": "subslide"
    }
   },
   "source": [
    "*L*.**append**(***x***)\n",
    "- 리스트 *L*의 마지막에 객체 ***x***를 추가한다."
   ]
  },
  {
   "cell_type": "code",
   "execution_count": null,
   "metadata": {
    "slideshow": {
     "slide_type": "subslide"
    }
   },
   "outputs": [],
   "source": [
    "L = []           # 빈 리스트를 초기화 한다.\n",
    "L.append('a')    # 'a'를 리스트에 추가한다.\n",
    "L.append('b')    # 'b'를 리스트에 추가한다.\n",
    "print(L)"
   ]
  },
  {
   "cell_type": "code",
   "execution_count": null,
   "metadata": {
    "slideshow": {
     "slide_type": "subslide"
    }
   },
   "outputs": [],
   "source": [
    "# --- ['a', 'b']\n",
    "# ['d', 'e']를 리스트에 추가한다.\n",
    "print(L)\n",
    "L.append(['d', 'e'])\n",
    "print(L)"
   ]
  },
  {
   "cell_type": "markdown",
   "metadata": {
    "slideshow": {
     "slide_type": "subslide"
    }
   },
   "source": [
    "*L*.**insert**(***i***, ***x***)\n",
    "- 리스트 *L*의 인덱스 ***i***에 객체 ***x***를 삽입한다."
   ]
  },
  {
   "cell_type": "code",
   "execution_count": null,
   "metadata": {
    "slideshow": {
     "slide_type": "subslide"
    }
   },
   "outputs": [],
   "source": [
    "# --- ['a', 'b', ['d', 'e']]\n",
    "# 리스트의 첫번째 위치에 'b'를 추가한다.\n",
    "print(L)\n",
    "L.insert(0, 'b')\n",
    "print(L)"
   ]
  },
  {
   "cell_type": "markdown",
   "metadata": {
    "slideshow": {
     "slide_type": "slide"
    }
   },
   "source": [
    "### 삭제 메소드"
   ]
  },
  {
   "cell_type": "markdown",
   "metadata": {
    "slideshow": {
     "slide_type": "subslide"
    }
   },
   "source": [
    "*L*.**pop()** : 리스트 *L*의 가장 오른쪽에 있는 객체(마지막 객체)를 반환한 후 삭제한다. "
   ]
  },
  {
   "cell_type": "code",
   "execution_count": null,
   "metadata": {
    "slideshow": {
     "slide_type": "subslide"
    }
   },
   "outputs": [],
   "source": [
    "# --- ['b', 'a', 'b', ['d', 'e']]\n",
    "# 리스트의 가장 오른쪽에 있는 마지막 객체를 반환한 후 삭제한다.\n",
    "print(L)\n",
    "L.pop()\n",
    "print(L)"
   ]
  },
  {
   "cell_type": "markdown",
   "metadata": {
    "slideshow": {
     "slide_type": "subslide"
    }
   },
   "source": [
    "*L*.**pop**(***i***) : 리스트 *L*의 인덱스 ***i***에 있는 객체를 반환한 후 삭제한다.\n",
    "- 빈 리스트거나 설정한 인덱스 번호가 리스트 범위 밖이면 **IndexError**가 발생한다."
   ]
  },
  {
   "cell_type": "code",
   "execution_count": null,
   "metadata": {
    "slideshow": {
     "slide_type": "subslide"
    }
   },
   "outputs": [],
   "source": [
    "# --- ['b', 'a', 'b']\n",
    "# 리스트의 세 번째 객체를 반환한 후 삭제한다.\n",
    "print(L)\n",
    "L.pop(2)\n",
    "print(L)"
   ]
  },
  {
   "cell_type": "code",
   "execution_count": null,
   "metadata": {
    "slideshow": {
     "slide_type": "subslide"
    }
   },
   "outputs": [],
   "source": [
    "# --- ['b', 'a']\n",
    "# 리스트의 다섯 번째 객체를 반환한 후 삭제한다. \n",
    "# 하지만 다섯 번째 객체는 존재하지 않기 때문에 오류가 난다.\n",
    "print(L)\n",
    "L.pop(4)"
   ]
  },
  {
   "cell_type": "markdown",
   "metadata": {
    "slideshow": {
     "slide_type": "slide"
    }
   },
   "source": [
    "### 질의 메소드"
   ]
  },
  {
   "cell_type": "markdown",
   "metadata": {
    "slideshow": {
     "slide_type": "subslide"
    }
   },
   "source": [
    "*L*.**count**(***x***)\n",
    "- 리스트 *L*에서 객체 ***x***의 개수를 반환한다."
   ]
  },
  {
   "cell_type": "code",
   "execution_count": null,
   "metadata": {
    "slideshow": {
     "slide_type": "-"
    }
   },
   "outputs": [],
   "source": [
    "L = ['a', 'b', ['c', 'd', 'e'], 'f', 'b', 'c', 'g']"
   ]
  },
  {
   "cell_type": "code",
   "execution_count": null,
   "metadata": {
    "slideshow": {
     "slide_type": "-"
    }
   },
   "outputs": [],
   "source": [
    "# 'b'가 리스트에 몇 개 들어 있는지 확인한다.\n",
    "L.count('b')"
   ]
  },
  {
   "cell_type": "code",
   "execution_count": null,
   "metadata": {
    "slideshow": {
     "slide_type": "-"
    }
   },
   "outputs": [],
   "source": [
    "# --- ['a', 'b', ['c', 'd', 'e'], 'f', 'b', 'c', 'g']\n",
    "# 'c'가 리스트에 몇 개 들어 있는지 확인한다.\n",
    "L.count('c')"
   ]
  },
  {
   "cell_type": "markdown",
   "metadata": {
    "slideshow": {
     "slide_type": "subslide"
    }
   },
   "source": [
    "*L*.**index**(***x, 시작번호, 끝번호***)\n",
    "- 리스트 *L*에 있는 객체 ***x*** 중 **가장 왼쪽**에 있는 객체 ***x***의 인덱스를 반환한다. \n",
    "\n",
    "- 리스트 *L*의 ***시작번호***와 ***끝번호*** 인덱스가 정해지면 인덱스 범위 안에 있는 객체 ***x*** 중 **가장 왼쪽**에 있는 객체 ***x***의 인덱스를 반환한다.\n",
    "- 분할 연산자처럼 ***시작번호***부터 ***끝번호*** **바로 앞**까지만 검색한다.\n",
    "\n",
    "- 객체 ***x***가 없으면 **ValueError**가 발생한다."
   ]
  },
  {
   "cell_type": "code",
   "execution_count": null,
   "metadata": {
    "slideshow": {
     "slide_type": "subslide"
    }
   },
   "outputs": [],
   "source": [
    "# --- ['a', 'b', ['c', 'd', 'e'], 'f', 'b', 'c', 'g']\n",
    "# 리스트에서 가장 먼저 나타나는 'b'의 인덱스 번호를 확인한다. \n",
    "print(L)\n",
    "L.index('b')"
   ]
  },
  {
   "cell_type": "code",
   "execution_count": null,
   "metadata": {
    "slideshow": {
     "slide_type": "subslide"
    }
   },
   "outputs": [],
   "source": [
    "# --- ['a', 'b', ['c', 'd', 'e'], 'f', 'b', 'c', 'g']\n",
    "# 리스트의 네 번째부터 검색해서 가장 먼저 나타나는 'b'의 인덱스 번호를 확인한다.\n",
    "print(L)\n",
    "L.index('b', 3)  "
   ]
  },
  {
   "cell_type": "code",
   "execution_count": null,
   "metadata": {
    "slideshow": {
     "slide_type": "subslide"
    }
   },
   "outputs": [],
   "source": [
    "# --- ['a', 'b', ['c', 'd', 'e'], 'f', 'b', 'c', 'g']\n",
    "# 리스트의 네 번째부터 여섯 번째 사이에서 가장 먼저 나타나는 'a'의 인덱스 번호를 확인한다.\n",
    "# 'a'가 리스트의 지정한 범위 안에는 없기 때문에 오류가 난다.\n",
    "print(L)\n",
    "L.index('a', 3, 6)  "
   ]
  },
  {
   "cell_type": "markdown",
   "metadata": {
    "slideshow": {
     "slide_type": "slide"
    }
   },
   "source": [
    "### 정렬 메소드"
   ]
  },
  {
   "cell_type": "markdown",
   "metadata": {
    "slideshow": {
     "slide_type": "subslide"
    }
   },
   "source": [
    "*L*.**reverse**()\n",
    "- 리스트 *L*에 있는 객체들의 순서를 거꾸로 뒤집는다."
   ]
  },
  {
   "cell_type": "code",
   "execution_count": null,
   "metadata": {
    "slideshow": {
     "slide_type": "-"
    }
   },
   "outputs": [],
   "source": [
    "# --- ['a', 'b', ['c', 'd', 'e'], 'f', 'b', 'c', 'g']\n",
    "# 리스트에 들어 있는 객체들의 순서를 거꾸로 정렬한다.\n",
    "print(L)\n",
    "L.reverse()\n",
    "print(L)"
   ]
  },
  {
   "cell_type": "markdown",
   "metadata": {
    "slideshow": {
     "slide_type": "subslide"
    }
   },
   "source": [
    "*L*.**sort**(***key=None, reverse=False***) \n",
    "- 리스트 *L*을 정렬한다.\n",
    "- 기본값으로 오름차순 정렬한다."
   ]
  },
  {
   "cell_type": "code",
   "execution_count": null,
   "metadata": {
    "slideshow": {
     "slide_type": "-"
    }
   },
   "outputs": [],
   "source": [
    "# --- ['g', 'c', 'b', 'f', ['c', 'd', 'e'], 'b', 'a']\n",
    "# 리스트에 들어 있는 객체들을 오름차순 정렬한다.\n",
    "print(L)\n",
    "L.sort()"
   ]
  },
  {
   "cell_type": "markdown",
   "metadata": {
    "slideshow": {
     "slide_type": "subslide"
    }
   },
   "source": [
    "***왜 오류가 날까?***"
   ]
  },
  {
   "cell_type": "markdown",
   "metadata": {
    "slideshow": {
     "slide_type": "-"
    }
   },
   "source": [
    "정렬하는 모든 객체를 비교할 수 있어야 한다. \n",
    "\n",
    "따라서, 만약 *L*이 담고 있는 객체 중 **비교가 불가능한 객체**가 있어 정렬을 할 수 없으면 **TypeError**가 발생한다."
   ]
  },
  {
   "cell_type": "code",
   "execution_count": null,
   "metadata": {
    "slideshow": {
     "slide_type": "subslide"
    }
   },
   "outputs": [],
   "source": [
    "# --- ['g', 'c', 'b', 'f', ['c', 'd', 'e'], 'b', 'a']\n",
    "# 정렬을 가능하게 하기 위해 다섯 번째 객체인 리스트를 삭제하여 문자열만 리스트에 포함되도록 한다.\n",
    "print(L)\n",
    "L.pop(4)\n",
    "print(L)"
   ]
  },
  {
   "cell_type": "markdown",
   "metadata": {
    "slideshow": {
     "slide_type": "-"
    }
   },
   "source": [
    "이제 리스트에는 비교가 가능한 객체들만 있기 때문에 정렬을 할 수 있다."
   ]
  },
  {
   "cell_type": "code",
   "execution_count": null,
   "metadata": {
    "slideshow": {
     "slide_type": "subslide"
    }
   },
   "outputs": [],
   "source": [
    "# --- ['b', 'c', 'f', 'g', 'b', 'a']\n",
    "# 리스트를 오름차순으로 정렬한다.\n",
    "print(L)\n",
    "L.sort()\n",
    "print(L)"
   ]
  },
  {
   "cell_type": "markdown",
   "metadata": {
    "slideshow": {
     "slide_type": "subslide"
    }
   },
   "source": [
    "***reverse***의 기본값은 '거짓(**False**)'이라 오름차순이 기본 정렬 방식이다.\n",
    "\n",
    "하지만 전달인자를 '참(**True**)'으로하면 정렬이 내림차순으로 이루어진다."
   ]
  },
  {
   "cell_type": "code",
   "execution_count": null,
   "metadata": {
    "slideshow": {
     "slide_type": "-"
    }
   },
   "outputs": [],
   "source": [
    "# --- ['a', 'b', 'b', 'c', 'f', 'g']\n",
    "L.sort(reverse=True)\n",
    "print(L)"
   ]
  },
  {
   "cell_type": "markdown",
   "metadata": {
    "slideshow": {
     "slide_type": "slide"
    }
   },
   "source": [
    "# 정렬 방법: **sort()** 메소드 vs. **sorted()** 함수\n",
    "\n",
    "리스트의 **sort()** 매소드는 리스트 자체를 정렬한다. \n",
    "\n",
    "따라서, 원본 리스트를 정렬하지 않으려면, **sorted()** 함수를 사용해서 새로운 리스트 객체를 생성하는 것이 좋다."
   ]
  },
  {
   "cell_type": "code",
   "execution_count": null,
   "metadata": {
    "slideshow": {
     "slide_type": "subslide"
    }
   },
   "outputs": [],
   "source": [
    "x = ['드럼', '기타', '키보드', '베이스']"
   ]
  },
  {
   "cell_type": "code",
   "execution_count": null,
   "metadata": {
    "slideshow": {
     "slide_type": "-"
    }
   },
   "outputs": [],
   "source": [
    "# 리스트 x를 오름차순으로 정렬해서 변수 y에 할당한다.\n",
    "y = sorted(x)\n",
    "print(y)"
   ]
  },
  {
   "cell_type": "code",
   "execution_count": null,
   "metadata": {
    "slideshow": {
     "slide_type": "-"
    }
   },
   "outputs": [],
   "source": [
    "# x는 바뀌지 않았다.\n",
    "print(x)  "
   ]
  },
  {
   "cell_type": "code",
   "execution_count": null,
   "metadata": {
    "slideshow": {
     "slide_type": "subslide"
    }
   },
   "outputs": [],
   "source": [
    "# --- x = ['드럼', '기타', '키보드', '베이스']\n",
    "# 리스트 x 자체를 오름차순으로 정렬한다.\n",
    "x.sort() "
   ]
  },
  {
   "cell_type": "code",
   "execution_count": null,
   "metadata": {
    "slideshow": {
     "slide_type": "-"
    }
   },
   "outputs": [],
   "source": [
    "# x 자체가 바뀌었다.\n",
    "print(x)  "
   ]
  },
  {
   "cell_type": "markdown",
   "metadata": {
    "slideshow": {
     "slide_type": "subslide"
    }
   },
   "source": [
    "기본적으로 **sort()** 메소드와 **sorted()** 함수는 값이 작은 것부터 큰 것으로, 즉 **오름차순**으로 담고 있는 객체를 정렬한다. \n",
    "\n",
    "만약 반대로 가장 값이 큰 것부터 작은 순, 즉 **내림차순**으로 정렬을 원하면, 매개변수 ***reverse***에 **True** 전달인자를 사용하면 된다. \n",
    "\n",
    "또한 기본 정렬 규칙으로 정렬하지 않고 다른 정렬 규칙으로 객체들을 정렬하고자 한다면 ***key*** 매개변수에 정렬 규칙을 구현한 함수(사용자 정의 함수 포함)를 전달인자로 사용하면 된다.\n",
    "- 사용자 정의 함수는 주로 람다 함수를 많이 사용한다. "
   ]
  },
  {
   "cell_type": "code",
   "execution_count": null,
   "metadata": {
    "slideshow": {
     "slide_type": "subslide"
    }
   },
   "outputs": [],
   "source": [
    "students = [\n",
    "    ['John', 'A', 15],\n",
    "    ['Jane', 'B', 17],\n",
    "    ['Dave', 'B', 16]\n",
    "]\n",
    "\n",
    "students.sort(key=lambda s: s[2])\n",
    "students"
   ]
  }
 ],
 "metadata": {
  "celltoolbar": "Slideshow",
  "kernelspec": {
   "display_name": "Python 3",
   "language": "python",
   "name": "python3"
  },
  "language_info": {
   "codemirror_mode": {
    "name": "ipython",
    "version": 3
   },
   "file_extension": ".py",
   "mimetype": "text/x-python",
   "name": "python",
   "nbconvert_exporter": "python",
   "pygments_lexer": "ipython3",
   "version": "3.7.8"
  }
 },
 "nbformat": 4,
 "nbformat_minor": 2
}
