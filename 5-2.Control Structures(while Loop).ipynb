{
 "cells": [
  {
   "cell_type": "markdown",
   "metadata": {
    "slideshow": {
     "slide_type": "slide"
    }
   },
   "source": [
    "# 순환문 개요"
   ]
  },
  {
   "cell_type": "markdown",
   "metadata": {
    "slideshow": {
     "slide_type": "slide"
    }
   },
   "source": [
    "**순환문**(loop)이란?\n",
    "\n",
    "- 특정 조건을 충족하는 동안 작업을 계속 반복 실행하는 일련의 명령이다. \n",
    "- '반복문' 이라고도 부른다."
   ]
  },
  {
   "cell_type": "markdown",
   "metadata": {
    "slideshow": {
     "slide_type": "slide"
    }
   },
   "source": [
    "일반적으로 순환문은 미리 정해 놓은 조건을 만족하면 일련의 명령문들을 실행한다. \n",
    "\n",
    "그리고 다시 돌아가서 조건을 만족하는지 검사한다. \n",
    "\n",
    "조건을 만족하면 다시 같은 작업을 반복 실행한다. \n",
    "\n",
    "만약 더 이상 조건을 만족하지 않으면 순환문을 빠져나가게 된다."
   ]
  },
  {
   "cell_type": "markdown",
   "metadata": {
    "slideshow": {
     "slide_type": "slide"
    }
   },
   "source": [
    "파이썬에서 사용하는 순환문 형태로는 두 가지가 있다."
   ]
  },
  {
   "cell_type": "markdown",
   "metadata": {
    "slideshow": {
     "slide_type": "subslide"
    }
   },
   "source": [
    "**while**문\n",
    "- 주어진 조건이 '참'인 동안 **while**문에 속한 명령문을 반복적으로 실행한다."
   ]
  },
  {
   "cell_type": "markdown",
   "metadata": {
    "slideshow": {
     "slide_type": "subslide"
    }
   },
   "source": [
    "**for**문\n",
    "- 주어진 조건이 '참'인 동안 **for**문에 속한 명령문을 반복적으로 실행한다."
   ]
  },
  {
   "cell_type": "markdown",
   "metadata": {
    "slideshow": {
     "slide_type": "slide"
    }
   },
   "source": [
    "# **while**문 형식"
   ]
  },
  {
   "cell_type": "markdown",
   "metadata": {
    "slideshow": {
     "slide_type": "slide"
    }
   },
   "source": [
    "**while**문의 일반 형식은 다음과 같다.\n",
    "\n",
    "<b><pre>while 불린-표현식: \n",
    "    while-명령문\n",
    "else:\n",
    "    else-명령문</pre></b>\n",
    "    "
   ]
  },
  {
   "cell_type": "markdown",
   "metadata": {
    "slideshow": {
     "slide_type": "skip"
    }
   },
   "source": [
    "다음과 같은 특징이 있다."
   ]
  },
  {
   "cell_type": "markdown",
   "metadata": {
    "slideshow": {
     "slide_type": "subslide"
    }
   },
   "source": [
    "**while**문에 있는 ***불린-표현식***이 '참(**True**)'이면, ***while-명령문***을 실행한다. \n",
    "\n",
    "- ***불린-표현식***이 '거짓(**False**)'일 때 까지 ***while-명령문***을 반복해서 실행한다."
   ]
  },
  {
   "cell_type": "markdown",
   "metadata": {
    "slideshow": {
     "slide_type": "subslide"
    }
   },
   "source": [
    "**while**문에 있는 ***불린-표현식***이 '거짓(**False**)'이면, **while**문을 종료하고 **else**문의 ***else-명령문***을 실행한다.\n",
    "\n",
    "- 즉, **while**문을 정상적으로 종료했다면 **else**문은 반드시 실행된다.   "
   ]
  },
  {
   "cell_type": "markdown",
   "metadata": {
    "slideshow": {
     "slide_type": "subslide"
    }
   },
   "source": [
    "***else-명령문***을 실행한 후, **while**문이 종료된다."
   ]
  },
  {
   "cell_type": "markdown",
   "metadata": {
    "slideshow": {
     "slide_type": "subslide"
    }
   },
   "source": [
    "다음 두 가지 경우에는 **else**문이 실행되지 않는다.\n",
    "\n",
    "- **while**문이 **break** 또는 **return**에 의해 종료된다.\n",
    "\n",
    "- **while**문 실행 중 **예외**(exception)가 발생한다."
   ]
  },
  {
   "cell_type": "markdown",
   "metadata": {
    "slideshow": {
     "slide_type": "subslide"
    }
   },
   "source": [
    "**else**문은 선택사항이다."
   ]
  },
  {
   "cell_type": "markdown",
   "metadata": {
    "slideshow": {
     "slide_type": "subslide"
    }
   },
   "source": [
    "**while**과 **else**의 마지막에는 쌍점(**:**)이 온다. "
   ]
  },
  {
   "cell_type": "markdown",
   "metadata": {
    "slideshow": {
     "slide_type": "slide"
    }
   },
   "source": [
    "# 단순 **while**문"
   ]
  },
  {
   "cell_type": "markdown",
   "metadata": {
    "slideshow": {
     "slide_type": "slide"
    }
   },
   "source": [
    "**while**문만 있고 **else**문이 없는 순환문을 작성해보자."
   ]
  },
  {
   "cell_type": "markdown",
   "metadata": {
    "slideshow": {
     "slide_type": "slide"
    }
   },
   "source": [
    "다음 예는 **while**문을 사용해 '안녕 파이썬'을 다섯 번 출력한다."
   ]
  },
  {
   "cell_type": "code",
   "execution_count": null,
   "metadata": {
    "slideshow": {
     "slide_type": "subslide"
    }
   },
   "outputs": [],
   "source": [
    "i = 0\n",
    "while i < 5:\n",
    "    print('안녕 파이썬')\n",
    "    i += 1"
   ]
  },
  {
   "cell_type": "markdown",
   "metadata": {
    "slideshow": {
     "slide_type": "slide"
    }
   },
   "source": [
    "**따라해보기** \n",
    "\n",
    "다음 예는 **while**문을 10번 반복해서 실행하면서 숫자를 출력한다."
   ]
  },
  {
   "cell_type": "code",
   "execution_count": null,
   "metadata": {
    "slideshow": {
     "slide_type": "subslide"
    }
   },
   "outputs": [],
   "source": [
    "i = 0          # 센티널 변수를 0으로 초기화한다.  \n",
    "while i < 10:\n",
    "    print(i)\n",
    "    i += 1     # 센티널 값을 1 증가시킨다."
   ]
  },
  {
   "cell_type": "markdown",
   "metadata": {
    "slideshow": {
     "slide_type": "slide"
    }
   },
   "source": [
    "**while**문을 이용해 시퀀스형이 담고 있는 객체들을 꺼집어 내어 처리할 수도 있다. "
   ]
  },
  {
   "cell_type": "markdown",
   "metadata": {
    "slideshow": {
     "slide_type": "slide"
    }
   },
   "source": [
    "**따라해보기** \n",
    "\n",
    "다음 예는 튜플을 순회하면서 객체를 하나씩 꺼내어 출력한다."
   ]
  },
  {
   "cell_type": "code",
   "execution_count": null,
   "metadata": {
    "slideshow": {
     "slide_type": "subslide"
    }
   },
   "outputs": [],
   "source": [
    "t = tuple('abcdefg')\n",
    "print(t)"
   ]
  },
  {
   "cell_type": "code",
   "execution_count": null,
   "metadata": {
    "slideshow": {
     "slide_type": "fragment"
    }
   },
   "outputs": [],
   "source": [
    "i = 0  # 센티널 변수로 리스트의 인덱스로 사용한다.\n",
    "while i < len(t):\n",
    "    print(t[i])\n",
    "    i += 1"
   ]
  },
  {
   "cell_type": "markdown",
   "metadata": {
    "slideshow": {
     "slide_type": "slide"
    }
   },
   "source": [
    "# **while-else**문"
   ]
  },
  {
   "cell_type": "markdown",
   "metadata": {
    "slideshow": {
     "slide_type": "subslide"
    }
   },
   "source": [
    "이번에는 **while-else**문을 작성해보자."
   ]
  },
  {
   "cell_type": "markdown",
   "metadata": {
    "slideshow": {
     "slide_type": "slide"
    }
   },
   "source": [
    "다음 예는 **while**문을 이용해 1부터 10까지 숫자를 더한 후 그 결과를 출력하는 코드다."
   ]
  },
  {
   "cell_type": "code",
   "execution_count": null,
   "metadata": {
    "slideshow": {
     "slide_type": "subslide"
    }
   },
   "outputs": [],
   "source": [
    "total = 0\n",
    "i = 0\n",
    "while i < 10:  # 명령문을 10회 반복해서 수행한 후 종료한다.\n",
    "    i += 1\n",
    "    total += i\n",
    "else:          # 결과를 출력한다.\n",
    "    print('1부터 10까지의 합은 {}입니다.'.format(total))"
   ]
  },
  {
   "cell_type": "markdown",
   "metadata": {
    "slideshow": {
     "slide_type": "slide"
    }
   },
   "source": [
    "다음 예는 튜플에 들어있는 정수들의 합을 구해 출력한다."
   ]
  },
  {
   "cell_type": "code",
   "execution_count": null,
   "metadata": {
    "slideshow": {
     "slide_type": "subslide"
    }
   },
   "outputs": [],
   "source": [
    "integers = 2, 8, 3, 5, 10, 27\n",
    "total = 0\n",
    "i = 0\n",
    "while i < len(integers):     # 리스트의 모든 항목을 처리한 후 종료한다.\n",
    "    total += integers[i]     # 리스트 인데스 0부터 len(integers) - 1, 즉 전체 객체의 합을 구한다.\n",
    "    i += 1                   # 리스트 인덱스 번호를 1 증가시킨다.\n",
    "else:                        # 결과를 출력한다.\n",
    "    print('튜플에 들어있는 숫자의 합은 {}입니다.'.format(total))"
   ]
  },
  {
   "cell_type": "markdown",
   "metadata": {
    "colab_type": "text",
    "id": "2-JpfJHPED1t",
    "slideshow": {
     "slide_type": "slide"
    }
   },
   "source": [
    "# Lab: 10. **while-else**문"
   ]
  },
  {
   "cell_type": "markdown",
   "metadata": {
    "colab_type": "text",
    "id": "2-JpfJHPED1t",
    "slideshow": {
     "slide_type": "slide"
    }
   },
   "source": [
    "변수 ***number***를 **0**으로 초기화한다.\n",
    "\n",
    "***number***가  **10**보다 작으면 '10보다 작습니다.'를 출력하면서, ***number***를 **1**씩 증가시킨다. \n",
    "\n",
    "***number***가 **10** 이상이 되면 '종료'를 출력하면서 **while**문을 빠져나간다. "
   ]
  },
  {
   "cell_type": "markdown",
   "metadata": {
    "colab_type": "text",
    "id": "S_Bxcdy2hQPf",
    "slideshow": {
     "slide_type": "slide"
    }
   },
   "source": [
    "## 실행 예\n",
    "\n",
    "<b><pre>\n",
    "10보다 작습니다.\n",
    "10보다 작습니다.\n",
    "10보다 작습니다.\n",
    "10보다 작습니다.\n",
    "10보다 작습니다.\n",
    "10보다 작습니다.\n",
    "10보다 작습니다.\n",
    "10보다 작습니다.\n",
    "10보다 작습니다.\n",
    "10보다 작습니다.\n",
    "종료</pre></b>"
   ]
  },
  {
   "cell_type": "markdown",
   "metadata": {
    "colab_type": "text",
    "id": "1CQYplhVED14",
    "slideshow": {
     "slide_type": "slide"
    }
   },
   "source": [
    "# Lab: 11. 최소공배수 구하는 **while-else**문"
   ]
  },
  {
   "cell_type": "markdown",
   "metadata": {
    "colab_type": "text",
    "id": "1CQYplhVED14",
    "slideshow": {
     "slide_type": "slide"
    }
   },
   "source": [
    "서로 다른 임의의 정수 3개를 입력 받는다."
   ]
  },
  {
   "cell_type": "markdown",
   "metadata": {
    "colab_type": "text",
    "id": "1CQYplhVED14",
    "slideshow": {
     "slide_type": "slide"
    }
   },
   "source": [
    "이 세 정수의 최소공배수를 찾아내고, '최소공배수는 ***X***입니다.'를 출력하면서 종료한다.\n",
    "- ***X***는 여기서 찾아낸 최소공배수를 의미한다."
   ]
  },
  {
   "cell_type": "markdown",
   "metadata": {
    "colab_type": "text",
    "id": "1CQYplhVED14",
    "slideshow": {
     "slide_type": "slide"
    }
   },
   "source": [
    "최소공배수(least common multiple)란 2개 이상의 수의 공배수 가운데서 최소인 것을 말한다.\n",
    "- 공배수란 두 개 이상의 자연수의 공통인 배수를 말한다.\n",
    "- 예) **2**, **3**, **9**의 최소공배수는 **18**이다. \n",
    "    "
   ]
  },
  {
   "cell_type": "markdown",
   "metadata": {
    "colab_type": "text",
    "id": "1CQYplhVED14",
    "slideshow": {
     "slide_type": "slide"
    }
   },
   "source": [
    "**힌트** \n",
    "- ***i***를 입력받은 세 수로 각각 나누어 나머지가 모두 **0**이 될 때까지 연산한다."
   ]
  },
  {
   "cell_type": "markdown",
   "metadata": {
    "colab_type": "text",
    "id": "LcYrQgp2h2pz",
    "slideshow": {
     "slide_type": "slide"
    }
   },
   "source": [
    "## 실행 예  \n",
    "\n",
    "<b><pre>\n",
    "첫번째 숫자를 입력하세요: 2\n",
    "두번째 숫자를 입력하세요: 3\n",
    "세번째 숫자를 입력하세요: 9\n",
    "최소공배수는 18입니다.</pre></b>"
   ]
  }
 ],
 "metadata": {
  "celltoolbar": "Slideshow",
  "kernelspec": {
   "display_name": "Python 3",
   "language": "python",
   "name": "python3"
  },
  "language_info": {
   "codemirror_mode": {
    "name": "ipython",
    "version": 3
   },
   "file_extension": ".py",
   "mimetype": "text/x-python",
   "name": "python",
   "nbconvert_exporter": "python",
   "pygments_lexer": "ipython3",
   "version": "3.7.8"
  }
 },
 "nbformat": 4,
 "nbformat_minor": 2
}
