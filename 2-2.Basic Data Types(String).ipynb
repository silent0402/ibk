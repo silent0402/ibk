{
 "cells": [
  {
   "cell_type": "markdown",
   "metadata": {
    "slideshow": {
     "slide_type": "slide"
    }
   },
   "source": [
    "# 문자열형(String Type)\n",
    "\n",
    "**불변자료형**(immutable)이다.\n",
    "- 따라서 내용을 변경할 수도 없고, 문자의 순서를 바꿀 수도 없다.\n",
    "\n",
    "시작과 끝을 따옴표로 묶어서 만든 순서가 있는 유니코드 글자(부호)의 배열이다."
   ]
  },
  {
   "cell_type": "markdown",
   "metadata": {},
   "source": [
    "<img src='img/ch05-data-types.png' alt='Data Types' width='350' />"
   ]
  },
  {
   "cell_type": "markdown",
   "metadata": {
    "slideshow": {
     "slide_type": "subslide"
    }
   },
   "source": [
    "- **시퀀스형**(sequence type) 자료 구조 중 하나다.\n",
    "- '순서형'이라고도 부른다.\n",
    "\n",
    "문자열을 생성하기 위해서는 작은 따옴표 (' … ') 또는 큰 따옴표 (\" … \")를 사용한다."
   ]
  },
  {
   "cell_type": "markdown",
   "metadata": {
    "slideshow": {
     "slide_type": "slide"
    }
   },
   "source": [
    "## 문자열 예시"
   ]
  },
  {
   "cell_type": "code",
   "execution_count": null,
   "metadata": {
    "slideshow": {
     "slide_type": "-"
    }
   },
   "outputs": [],
   "source": [
    "'안녕 파이썬'"
   ]
  },
  {
   "cell_type": "code",
   "execution_count": null,
   "metadata": {
    "slideshow": {
     "slide_type": "-"
    }
   },
   "outputs": [],
   "source": [
    "\"안녕 파이썬\""
   ]
  },
  {
   "cell_type": "code",
   "execution_count": null,
   "metadata": {
    "slideshow": {
     "slide_type": "subslide"
    }
   },
   "outputs": [],
   "source": [
    "'안녕 파이썬\""
   ]
  },
  {
   "cell_type": "markdown",
   "metadata": {
    "slideshow": {
     "slide_type": "-"
    }
   },
   "source": [
    "작은따옴표로 시작했으면 작은따옴표로 끝나야 하고, 큰따옴표로 시작했으면 큰따옴표로 끝나야 한다. \n",
    "\n",
    "만약 작은따옴표로 시작해서 큰따옴표로 끝나면(또는 그 반대) 오류가 난다."
   ]
  },
  {
   "cell_type": "markdown",
   "metadata": {
    "slideshow": {
     "slide_type": "slide"
    }
   },
   "source": [
    "# 중첩 따옴표\n",
    "\n",
    "**중첩 따옴표**란 따옴표 안에 따옴표를 표현하는 것이다."
   ]
  },
  {
   "cell_type": "code",
   "execution_count": null,
   "metadata": {
    "slideshow": {
     "slide_type": "subslide"
    }
   },
   "outputs": [],
   "source": [
    "print('문자열 안에 '작은 따옴표'를 사용하려면 어떻게 하나요?')"
   ]
  },
  {
   "cell_type": "markdown",
   "metadata": {
    "slideshow": {
     "slide_type": "subslide"
    }
   },
   "source": [
    "작은 따옴표가 들어 있는 경우는 큰 따옴표로 문자열을 생성하면 된다."
   ]
  },
  {
   "cell_type": "code",
   "execution_count": null,
   "metadata": {
    "slideshow": {
     "slide_type": "-"
    }
   },
   "outputs": [],
   "source": [
    "print(\"문자열 안에 '작은 따옴표'를 사용하려면 큰 따옴표로 묶는다.\")"
   ]
  },
  {
   "cell_type": "markdown",
   "metadata": {
    "slideshow": {
     "slide_type": "subslide"
    }
   },
   "source": [
    "큰 따옴표가 들어 있는 경우는 작은 따옴표로 문자열을 생성하면 된다."
   ]
  },
  {
   "cell_type": "code",
   "execution_count": null,
   "metadata": {
    "slideshow": {
     "slide_type": "-"
    }
   },
   "outputs": [],
   "source": [
    "print('문자열 안에 \"큰 따옴표\"를 사용하려면 작은 따옴표로 묶는다.')"
   ]
  },
  {
   "cell_type": "markdown",
   "metadata": {
    "slideshow": {
     "slide_type": "subslide"
    }
   },
   "source": [
    "이스케이프 문자인 역슬래시(\\\\)를 사용하면 따옴표를 문자열 리터럴을 생성하는 특수문자가 아닌 일반 문자열로 표현하는 것이 가능하다.\n",
    "\n",
    "**[참고]**  \n",
    "- 윈도우용 한글 키보드는 '₩'가 '\\\\'와 같은 기능을 한다."
   ]
  },
  {
   "cell_type": "code",
   "execution_count": null,
   "metadata": {
    "slideshow": {
     "slide_type": "-"
    }
   },
   "outputs": [],
   "source": [
    "print('문자열 안에 같은 \\'따옴표\\'를 사용하려면 이스케이프 문자를 사용한다.')"
   ]
  },
  {
   "cell_type": "code",
   "execution_count": null,
   "metadata": {
    "slideshow": {
     "slide_type": "-"
    }
   },
   "outputs": [],
   "source": [
    "print(\"문자열 안에 같은 \\\"따옴표\\\"를 사용하려면 이스케이프 문자를 사용한다.\")"
   ]
  },
  {
   "cell_type": "markdown",
   "metadata": {
    "slideshow": {
     "slide_type": "slide"
    }
   },
   "source": [
    "# 삼중 따옴표\n",
    "\n",
    "**삼중 따옴표**란 따옴표를 3개(triple quotes) 사용하는 것이다.\n",
    "- 작은 따옴표 3개(''' ... ''') 또는 큰 따옴표 3개(\"\"\" ... \"\"\")를 사용한다. "
   ]
  },
  {
   "cell_type": "markdown",
   "metadata": {
    "slideshow": {
     "slide_type": "subslide"
    }
   },
   "source": [
    "## 삼중 따옴표 예시"
   ]
  },
  {
   "cell_type": "code",
   "execution_count": null,
   "metadata": {
    "slideshow": {
     "slide_type": "-"
    }
   },
   "outputs": [],
   "source": [
    "'''안녕 파이썬'''"
   ]
  },
  {
   "cell_type": "code",
   "execution_count": null,
   "metadata": {
    "slideshow": {
     "slide_type": "-"
    }
   },
   "outputs": [],
   "source": [
    "\"\"\"안녕 파이썬\"\"\""
   ]
  },
  {
   "cell_type": "markdown",
   "metadata": {
    "slideshow": {
     "slide_type": "subslide"
    }
   },
   "source": [
    "따옴표 안에 따옴표를 넣을 때 일일이 역슬래시(\\\\)를 넣어주지 않아도 된다."
   ]
  },
  {
   "cell_type": "code",
   "execution_count": null,
   "metadata": {
    "slideshow": {
     "slide_type": "-"
    }
   },
   "outputs": [],
   "source": [
    "print('''문자열 안에 '작은 따옴표'나 \"큰 따옴표\"를 사용할 수 있다.''')"
   ]
  },
  {
   "cell_type": "markdown",
   "metadata": {
    "slideshow": {
     "slide_type": "-"
    }
   },
   "source": [
    "문자열 리터럴을 여러 줄에 나눠 입력할 때 편리하다."
   ]
  },
  {
   "cell_type": "code",
   "execution_count": null,
   "metadata": {
    "slideshow": {
     "slide_type": "-"
    }
   },
   "outputs": [],
   "source": [
    "print('''문자열 안에 '작은 따옴표'나 \n",
    "\"큰 따옴표\"를 사용할 수도 있고\n",
    "여러 줄을 사용할 때도 편리하다.''')"
   ]
  },
  {
   "cell_type": "markdown",
   "metadata": {
    "slideshow": {
     "slide_type": "slide"
    }
   },
   "source": [
    "# 이스케이프 문자\n",
    "\n",
    "- 탈출(escape) 문자라고도 하며 역슬래시(\\\\ 또는 ₩)로 시작한다.\n",
    "- 이스케이프 문자인 역슬래시(\\\\)는 역슬래시 바로 다음에 따라오는 문자를 원래 의미가 아닌 특별한 의미로 처리해야 할 때 사용하는 문자다."
   ]
  },
  {
   "cell_type": "markdown",
   "metadata": {
    "slideshow": {
     "slide_type": "subslide"
    }
   },
   "source": [
    "**\\\\n** : 문자 'n'으로 처리하지 않고 '새줄바꿈'(newline)으로 처리한다.\n",
    "- 새줄바꿈 문자 : 한 줄의 끝남을 표시하는 문자로 '개행 문자' 또는 'EOL(end-of-line)'과 같은 뜻이다."
   ]
  },
  {
   "cell_type": "code",
   "execution_count": null,
   "metadata": {
    "slideshow": {
     "slide_type": "-"
    }
   },
   "outputs": [],
   "source": [
    "print('첫 번째 줄\\n두 번째 줄\\n세 번째 줄')"
   ]
  },
  {
   "cell_type": "markdown",
   "metadata": {
    "slideshow": {
     "slide_type": "subslide"
    }
   },
   "source": [
    "**\\\\t** : 문자 't'로 처리하지 않고 '탭(tab)' 문자로 처리한다."
   ]
  },
  {
   "cell_type": "code",
   "execution_count": null,
   "metadata": {
    "slideshow": {
     "slide_type": "-"
    }
   },
   "outputs": [],
   "source": [
    "print('첫 번째 칸\\t두 번째 칸\\t세 번째 칸')"
   ]
  },
  {
   "cell_type": "markdown",
   "metadata": {
    "slideshow": {
     "slide_type": "subslide"
    }
   },
   "source": [
    "**\\\\'** : 작은 따옴표를 파이썬 문자열 리터럴을 생성하는 특수 문자로 사용하지 않고 일반적으로 알려진 작은 따옴표 문자로 처리한다."
   ]
  },
  {
   "cell_type": "code",
   "execution_count": null,
   "metadata": {
    "slideshow": {
     "slide_type": "-"
    }
   },
   "outputs": [],
   "source": [
    "print('작은 따옴표 안에 \\'작은 따옴표\\'를 사용할 수 있다.')"
   ]
  },
  {
   "cell_type": "markdown",
   "metadata": {
    "slideshow": {
     "slide_type": "subslide"
    }
   },
   "source": [
    "**\\\\\"** : 큰 따옴표를 파이썬 문자열 리터럴을 생성하는 특수 문자로 사용하지 않고 일반적으로 알려진 큰 따옴표 문자로 처리한다."
   ]
  },
  {
   "cell_type": "code",
   "execution_count": null,
   "metadata": {
    "slideshow": {
     "slide_type": "-"
    }
   },
   "outputs": [],
   "source": [
    "print(\"큰 따옴표 안에 \\\"큰 따옴표\\\"를 사용할 수 있다.\")"
   ]
  },
  {
   "cell_type": "markdown",
   "metadata": {
    "slideshow": {
     "slide_type": "slide"
    }
   },
   "source": [
    "# 문자열 인덱스"
   ]
  },
  {
   "cell_type": "markdown",
   "metadata": {
    "slideshow": {
     "slide_type": "-"
    }
   },
   "source": [
    "문자열은 **시퀀스형**(sequence) 자료 구조다."
   ]
  },
  {
   "cell_type": "markdown",
   "metadata": {
    "slideshow": {
     "slide_type": "-"
    }
   },
   "source": [
    "**문자열**은 각 **문자**의 위치가 정해져 있는 즉, 순서가 있는 문자의 배열이다.\n",
    "- 문자는 말 그대로 한 개의 문자를 뜻한다\n",
    "- 문자가 순서를 가지고 정해진 위치에 들어가게 되면 문자의 배열인 문자열을 생성하게 된다."
   ]
  },
  {
   "cell_type": "markdown",
   "metadata": {
    "slideshow": {
     "slide_type": "slide"
    }
   },
   "source": [
    "## 문자열 인덱스(index)란?"
   ]
  },
  {
   "cell_type": "markdown",
   "metadata": {
    "slideshow": {
     "slide_type": "-"
    }
   },
   "source": [
    "<img src='img/ch05-string-index-eng.png' alt='String Index (ENG)' width='500' />"
   ]
  },
  {
   "cell_type": "markdown",
   "metadata": {
    "slideshow": {
     "slide_type": "-"
    }
   },
   "source": [
    "<img src='img/ch05-string-index-kor.png' alt='String Index (ENG)' width='350' />"
   ]
  },
  {
   "cell_type": "markdown",
   "metadata": {
    "slideshow": {
     "slide_type": "subslide"
    }
   },
   "source": [
    "인덱스는 문자열 배열 안에서 각 값의 위치다.\n",
    "- 첫 문자의 인덱스 : **[0]**"
   ]
  },
  {
   "cell_type": "markdown",
   "metadata": {
    "slideshow": {
     "slide_type": "-"
    }
   },
   "source": [
    "- 마지막 문자의 인덱스 : **[n - 1]** 또는 **[-1]**\n",
    "    - ***n*** = 문자열의 전체 크기\n",
    "    - 인덱스 **[-1]**을 사용하면 항상 마지막 문자를 찾을 수 있으므로 매우 유용하다."
   ]
  },
  {
   "cell_type": "markdown",
   "metadata": {
    "slideshow": {
     "slide_type": "subslide"
    }
   },
   "source": [
    "IndexError 예외\n",
    "- 문자열 범위를 벗어난 인덱스나 빈 문자열에 접근하려고 하면 IndexError 예외가 발생한다."
   ]
  },
  {
   "cell_type": "markdown",
   "metadata": {
    "slideshow": {
     "slide_type": "subslide"
    }
   },
   "source": [
    "## 문자열 인덱스 예시"
   ]
  },
  {
   "cell_type": "code",
   "execution_count": null,
   "metadata": {
    "jupyter": {
     "outputs_hidden": true
    },
    "slideshow": {
     "slide_type": "-"
    }
   },
   "outputs": [],
   "source": [
    "s = '안녕 파이썬'"
   ]
  },
  {
   "cell_type": "code",
   "execution_count": null,
   "metadata": {
    "jupyter": {
     "outputs_hidden": true
    },
    "slideshow": {
     "slide_type": "-"
    }
   },
   "outputs": [],
   "source": [
    "s[0]   # '안녕 파이썬'"
   ]
  },
  {
   "cell_type": "code",
   "execution_count": null,
   "metadata": {
    "jupyter": {
     "outputs_hidden": true
    },
    "slideshow": {
     "slide_type": "subslide"
    }
   },
   "outputs": [],
   "source": [
    "s[2]   # '안녕 파이썬'"
   ]
  },
  {
   "cell_type": "code",
   "execution_count": null,
   "metadata": {
    "jupyter": {
     "outputs_hidden": true
    },
    "slideshow": {
     "slide_type": "-"
    }
   },
   "outputs": [],
   "source": [
    "s[6]   # '안녕 파이썬'"
   ]
  },
  {
   "cell_type": "code",
   "execution_count": null,
   "metadata": {
    "jupyter": {
     "outputs_hidden": true
    },
    "slideshow": {
     "slide_type": "-"
    }
   },
   "outputs": [],
   "source": [
    "s[-1]  # '안녕 파이썬'"
   ]
  },
  {
   "cell_type": "code",
   "execution_count": null,
   "metadata": {
    "jupyter": {
     "outputs_hidden": true
    },
    "slideshow": {
     "slide_type": "subslide"
    }
   },
   "outputs": [],
   "source": [
    "s[-3]  # '안녕 파이썬'"
   ]
  },
  {
   "cell_type": "code",
   "execution_count": null,
   "metadata": {
    "jupyter": {
     "outputs_hidden": true
    },
    "slideshow": {
     "slide_type": "-"
    }
   },
   "outputs": [],
   "source": [
    "s[-7]  # '안녕 파이썬'"
   ]
  },
  {
   "cell_type": "markdown",
   "metadata": {
    "slideshow": {
     "slide_type": "subslide"
    }
   },
   "source": [
    "***문자 한 개 이상 여러 개를 한꺼번에 가져올 수는 없을까?***\n",
    "\n",
    "***예를 들어, '안녕 파이썬'에서 '파이썬'을 한 번에 추출할 수는 없을까?***"
   ]
  },
  {
   "cell_type": "code",
   "execution_count": null,
   "metadata": {
    "slideshow": {
     "slide_type": "-"
    }
   },
   "outputs": [],
   "source": [
    "s[3:]  # '안녕 파이썬'"
   ]
  },
  {
   "cell_type": "markdown",
   "metadata": {
    "slideshow": {
     "slide_type": "-"
    }
   },
   "source": [
    "**인덱스**는 문자를 한 개씩만 가져올 수 있지만, \n",
    "\n",
    "문자열 **분할** 연산자를 사용하면 문자열의 일부 또는 전부를 추출할 수 있다."
   ]
  },
  {
   "cell_type": "markdown",
   "metadata": {
    "slideshow": {
     "slide_type": "slide"
    }
   },
   "source": [
    "# 문자열 분할"
   ]
  },
  {
   "cell_type": "markdown",
   "metadata": {
    "slideshow": {
     "slide_type": "slide"
    }
   },
   "source": [
    "## 문자열 분할(slicing)이란?"
   ]
  },
  {
   "cell_type": "markdown",
   "metadata": {
    "slideshow": {
     "slide_type": "subslide"
    }
   },
   "source": [
    "분할 연산자 **[ : ]** 또는 **[ : : ]**를 사용하여 문자열의 일부 또는 전부를 추출하는 것을 말한다."
   ]
  },
  {
   "cell_type": "markdown",
   "metadata": {
    "slideshow": {
     "slide_type": "slide"
    }
   },
   "source": [
    "**문자열[시작번호:끝번호]**\n",
    "\n",
    "***문자열***의 ***시작번호***부터 ***끝번호*** 바로 앞까지의 문자를 추출한다. \n",
    "- ***끝번호***에 해당하는 문자는 **포함하지 않는다**."
   ]
  },
  {
   "cell_type": "markdown",
   "metadata": {
    "slideshow": {
     "slide_type": "subslide"
    }
   },
   "source": [
    "***시작번호***와 ***끝번호***는 생략할 수 있다.\n",
    "- ***시작번호***를 생략하면 기본 값인 **0**에서 시작한다.\n",
    "- ***끝번호***를 생략하면 ***문자열***의 마지막 문자까지 추출한다.\n",
    "    - 즉, 기본 값인 **len(문자열)**까지 추출하는 것과 같은 결과다."
   ]
  },
  {
   "cell_type": "markdown",
   "metadata": {
    "slideshow": {
     "slide_type": "subslide"
    }
   },
   "source": [
    "따라서, ***시작번호***와 ***끝번호***를 모두 생략하면 대상 ***문자열*** 전체를 가져오게 된다.\n",
    "- **문자열[:]**은 **문자열[0:len(문자열)]**과 같다."
   ]
  },
  {
   "cell_type": "code",
   "execution_count": null,
   "metadata": {
    "jupyter": {
     "outputs_hidden": true
    },
    "slideshow": {
     "slide_type": "subslide"
    }
   },
   "outputs": [],
   "source": [
    "s = 'abcde 12345'  # len(s) = 11"
   ]
  },
  {
   "cell_type": "code",
   "execution_count": null,
   "metadata": {},
   "outputs": [],
   "source": [
    "len(s)"
   ]
  },
  {
   "cell_type": "code",
   "execution_count": null,
   "metadata": {
    "jupyter": {
     "outputs_hidden": true
    },
    "slideshow": {
     "slide_type": "-"
    }
   },
   "outputs": [],
   "source": [
    "s[0:11]        # 'abcde 12345'"
   ]
  },
  {
   "cell_type": "code",
   "execution_count": null,
   "metadata": {
    "jupyter": {
     "outputs_hidden": true
    },
    "slideshow": {
     "slide_type": "-"
    }
   },
   "outputs": [],
   "source": [
    "s[:]               # 'abcde 12345'"
   ]
  },
  {
   "cell_type": "code",
   "execution_count": null,
   "metadata": {
    "jupyter": {
     "outputs_hidden": true
    },
    "slideshow": {
     "slide_type": "subslide"
    }
   },
   "outputs": [],
   "source": [
    "s[2:-1]            # 'abcde 12345'"
   ]
  },
  {
   "cell_type": "code",
   "execution_count": null,
   "metadata": {
    "jupyter": {
     "outputs_hidden": true
    },
    "slideshow": {
     "slide_type": "-"
    }
   },
   "outputs": [],
   "source": [
    "s[2:]              # 'abcde 12345'"
   ]
  },
  {
   "cell_type": "code",
   "execution_count": null,
   "metadata": {
    "jupyter": {
     "outputs_hidden": true
    },
    "slideshow": {
     "slide_type": "-"
    }
   },
   "outputs": [],
   "source": [
    "s[-7:]             # 'abcde 12345'"
   ]
  },
  {
   "cell_type": "code",
   "execution_count": null,
   "metadata": {
    "jupyter": {
     "outputs_hidden": true
    },
    "slideshow": {
     "slide_type": "-"
    }
   },
   "outputs": [],
   "source": [
    "s[-1:]             # 'abcde 12345'  "
   ]
  },
  {
   "cell_type": "markdown",
   "metadata": {
    "slideshow": {
     "slide_type": "subslide"
    }
   },
   "source": [
    "**문자열[시작번호:끝번호:폭]**\n",
    "\n",
    "***폭***(step)은 설정한 숫자만큼씩 건너 뛰며 추출한다.\n",
    "\n",
    "***폭***의 기본값은 1이다. 따라서, ***폭***을 생략하면 1이기 때문에 문자열 시작부터 끝의 바로 앞에 있는 모든 문자를 추출한다."
   ]
  },
  {
   "cell_type": "code",
   "execution_count": null,
   "metadata": {
    "slideshow": {
     "slide_type": "-"
    }
   },
   "outputs": [],
   "source": [
    "s[::]            # 'abcde 12345'  "
   ]
  },
  {
   "cell_type": "code",
   "execution_count": null,
   "metadata": {
    "slideshow": {
     "slide_type": "-"
    }
   },
   "outputs": [],
   "source": [
    "s[::1]           # 'abcde 12345'  "
   ]
  },
  {
   "cell_type": "code",
   "execution_count": null,
   "metadata": {
    "jupyter": {
     "outputs_hidden": true
    },
    "slideshow": {
     "slide_type": "subslide"
    }
   },
   "outputs": [],
   "source": [
    "s[::2]      # 'abcde 12345'  "
   ]
  },
  {
   "cell_type": "markdown",
   "metadata": {
    "slideshow": {
     "slide_type": "subslide"
    }
   },
   "source": [
    "***만약 폭(step)이 음의 정수라면?***"
   ]
  },
  {
   "cell_type": "markdown",
   "metadata": {
    "slideshow": {
     "slide_type": "-"
    }
   },
   "source": [
    "***폭***이 음수라면 문자열의 시작과 끝이 바뀌어 뒤쪽 끝에서 출발해서 앞쪽으로 폭만큼 건너뛰면서 문자를 추출한다. "
   ]
  },
  {
   "cell_type": "code",
   "execution_count": null,
   "metadata": {
    "slideshow": {
     "slide_type": "-"
    }
   },
   "outputs": [],
   "source": [
    "s[::-1]           # 'abcde 12345'  "
   ]
  },
  {
   "cell_type": "code",
   "execution_count": null,
   "metadata": {
    "jupyter": {
     "outputs_hidden": true
    },
    "slideshow": {
     "slide_type": "-"
    }
   },
   "outputs": [],
   "source": [
    "s[::-2]     # 'abcde 12345'  "
   ]
  },
  {
   "cell_type": "code",
   "execution_count": null,
   "metadata": {},
   "outputs": [],
   "source": [
    "s[-1:2:-2]"
   ]
  },
  {
   "cell_type": "markdown",
   "metadata": {
    "slideshow": {
     "slide_type": "slide"
    }
   },
   "source": [
    "## Lab: 2. 암호 만들기\n",
    "\n",
    "\n",
    "앞서 배운 문자열 분할을 이용하여 “무궁화꽃이피었습니다”를 암호화 해보자.\n",
    "\n",
    "- 암호화 방법\n",
    "    1. 문자열의 짝수번째 문자들을 추출한다.\n",
    "    2. 문자열의 홀수번째 문자들을 추출한다.\n",
    "    3. 1.과2.의 결과를 결합한다.\n",
    "- 결과\n",
    "    - '궁꽃피습다무화이었니'"
   ]
  },
  {
   "cell_type": "markdown",
   "metadata": {
    "slideshow": {
     "slide_type": "subslide"
    }
   },
   "source": [
    "### 답"
   ]
  },
  {
   "cell_type": "code",
   "execution_count": null,
   "metadata": {
    "slideshow": {
     "slide_type": "fragment"
    }
   },
   "outputs": [],
   "source": [
    "text = '무궁화꽃이피었습니다'\n",
    "\n",
    "# TODO"
   ]
  },
  {
   "cell_type": "markdown",
   "metadata": {
    "slideshow": {
     "slide_type": "slide"
    }
   },
   "source": [
    "# 문자열 수정"
   ]
  },
  {
   "cell_type": "markdown",
   "metadata": {
    "slideshow": {
     "slide_type": "fragment"
    }
   },
   "source": [
    "문자열은 **불변자료형**이기 때문에 문자열의 일부를 교체/추가/삭제 할 수 없다.\n",
    "\n",
    "- 불변자료형(immutable) : 일단 값을 생성한 후에는 일부나 전부를 변경할 수 없는 자료형을 말한다. 따라서 수정이 불가능하다."
   ]
  },
  {
   "cell_type": "markdown",
   "metadata": {
    "slideshow": {
     "slide_type": "subslide"
    }
   },
   "source": [
    "문자열의 일부분을 다른 문자열로 교체하거나 문자를 추가 또는 삭제하면 예외가 발생한다."
   ]
  },
  {
   "cell_type": "code",
   "execution_count": null,
   "metadata": {
    "slideshow": {
     "slide_type": "-"
    }
   },
   "outputs": [],
   "source": [
    "s = 'Python'\n",
    "s[1] = 'i'  # Pithon으로 변경"
   ]
  },
  {
   "cell_type": "markdown",
   "metadata": {
    "slideshow": {
     "slide_type": "subslide"
    }
   },
   "source": [
    "그러나...\n",
    "\n",
    "앞서 실습에서 했듯이, 문자열 분할 연산자를 사용해서 필요한 문자만 추출한 후 **+** 연산자로 결합하면 된다."
   ]
  },
  {
   "cell_type": "markdown",
   "metadata": {
    "slideshow": {
     "slide_type": "-"
    }
   },
   "source": [
    "그리고 기존 변수에 새로 결합한 문자열을 재할당하면 \n",
    "\n",
    "마치 기존 문자열을 새로운 문자열로 바꾼 것과 같은 효과를 볼 수 있다."
   ]
  },
  {
   "cell_type": "markdown",
   "metadata": {
    "slideshow": {
     "slide_type": "slide"
    }
   },
   "source": [
    "## 따라해보기"
   ]
  },
  {
   "cell_type": "code",
   "execution_count": null,
   "metadata": {
    "slideshow": {
     "slide_type": "subslide"
    }
   },
   "outputs": [],
   "source": [
    "s = '초급자를 위한 파이썬'\n",
    "len(s)"
   ]
  },
  {
   "cell_type": "code",
   "execution_count": null,
   "metadata": {
    "slideshow": {
     "slide_type": "subslide"
    }
   },
   "outputs": [],
   "source": [
    "# '초급자를 위한 파이썬'\n",
    "s[0] = '중'  # 첫 문자를 '중'으로 대체한다. => 예외 발생!!!"
   ]
  },
  {
   "cell_type": "code",
   "execution_count": null,
   "metadata": {
    "slideshow": {
     "slide_type": "subslide"
    }
   },
   "outputs": [],
   "source": [
    "# '초급자를 위한 파이썬'\n",
    "s = '중' + s[1:]\n",
    "print(s)"
   ]
  },
  {
   "cell_type": "code",
   "execution_count": null,
   "metadata": {
    "slideshow": {
     "slide_type": "subslide"
    }
   },
   "outputs": [],
   "source": [
    "# '중급자를 위한 파이썬'\n",
    "s = s[:8] + '재미있는 ' + s[8:]\n",
    "print(s)"
   ]
  },
  {
   "cell_type": "markdown",
   "metadata": {
    "slideshow": {
     "slide_type": "slide"
    }
   },
   "source": [
    "# 자주 사용하는 문자열 메소드\n",
    "\n",
    "- 문자열 분할 메소드\n",
    "- 문자열 결합 메소드\n",
    "- 문자열 삭제 메소드\n",
    "- 문자열 교체 메소드"
   ]
  },
  {
   "cell_type": "markdown",
   "metadata": {
    "slideshow": {
     "slide_type": "slide"
    }
   },
   "source": [
    "## 문자열 분할 메소드"
   ]
  },
  {
   "cell_type": "markdown",
   "metadata": {
    "slideshow": {
     "slide_type": "-"
    }
   },
   "source": [
    "***문자열***.**split**(***sep=None, maxsplit=-1***)"
   ]
  },
  {
   "cell_type": "markdown",
   "metadata": {
    "slideshow": {
     "slide_type": "-"
    }
   },
   "source": [
    "문자열을 **리스트** 형태로 반환한다. "
   ]
  },
  {
   "cell_type": "markdown",
   "metadata": {
    "slideshow": {
     "slide_type": "subslide"
    }
   },
   "source": [
    "- ***sep***는 **구분자**로 문자열을 분할할 때의 기준이다. \n",
    "    - 구분자 ***sep***를 생략하면 기본값인 화이트스페이스 문자 기준으로 분할한다. \n",
    "    - 구분자 ***sep***는 반환하는 리스트에 포함되지 않는다.\n",
    "- ***maxsplit***는 최대 분할 값으로 이 값만큼만 구분자 ***sep***로 분할한다. \n",
    "    - 만약 문자열에서 구분자 ***sep***의 개수가 최대 분할 값 ***maxsplit***보다 작다면 구분자 ***sep***를 기준으로 모두 분할한다. \n",
    "    - 최대 분할 값 ***maxsplit***을 생략하거나 기본값인 **-1**이 주어지면 구 분자 ***sep***만큼 모두 분할한다."
   ]
  },
  {
   "cell_type": "code",
   "execution_count": null,
   "metadata": {
    "jupyter": {
     "outputs_hidden": true
    },
    "slideshow": {
     "slide_type": "subslide"
    }
   },
   "outputs": [],
   "source": [
    "kor = '파이썬을 배우면서 파이썬을 즐기자!!!'"
   ]
  },
  {
   "cell_type": "code",
   "execution_count": null,
   "metadata": {
    "jupyter": {
     "outputs_hidden": true
    },
    "slideshow": {
     "slide_type": "-"
    }
   },
   "outputs": [],
   "source": [
    "# 기본값은 화이트스페이스 문자 기준으로 모두 분할해서 리스트로 반환한다.\n",
    "kor.split()              "
   ]
  },
  {
   "cell_type": "code",
   "execution_count": null,
   "metadata": {
    "slideshow": {
     "slide_type": "-"
    }
   },
   "outputs": [],
   "source": [
    "# --- '파이썬을 배우면서 파이썬을 즐기자!!!'\n",
    "# '을' 기준으로 모두 분할한다.\n",
    "'파이썬을 배우면서 파이썬을 즐기자!!!'.split('을')  # split(sep='을')와 같다.        "
   ]
  },
  {
   "cell_type": "code",
   "execution_count": null,
   "metadata": {
    "slideshow": {
     "slide_type": "subslide"
    }
   },
   "outputs": [],
   "source": [
    "# --- '파이썬을 배우면서 파이썬을 즐기자!!!'\n",
    "# '을' 기준으로 오른쪽부터 한 번만 분할한다.\n",
    "kor.split('을', maxsplit=1)"
   ]
  },
  {
   "cell_type": "markdown",
   "metadata": {
    "slideshow": {
     "slide_type": "slide"
    }
   },
   "source": [
    "## 문자열 삭제 메소드"
   ]
  },
  {
   "cell_type": "markdown",
   "metadata": {
    "slideshow": {
     "slide_type": "subslide"
    }
   },
   "source": [
    "***문자열***.**strip**(___[삭제할-문자-세트]___)\n",
    "\n",
    "***문자열***에서 ***삭제할-문자-세트***를 제거한 문자열을 반환하는 함수다."
   ]
  },
  {
   "cell_type": "code",
   "execution_count": null,
   "metadata": {
    "slideshow": {
     "slide_type": "subslide"
    }
   },
   "outputs": [],
   "source": [
    "s = '\\t 초급자를\\n위한 파이썬!!!    '\n",
    "print(s)"
   ]
  },
  {
   "cell_type": "code",
   "execution_count": null,
   "metadata": {
    "slideshow": {
     "slide_type": "-"
    }
   },
   "outputs": [],
   "source": [
    "# 문자열 양쪽 끝부터 화이트스페이스 문자를 삭제한다.\n",
    "print(s.strip())"
   ]
  },
  {
   "cell_type": "markdown",
   "metadata": {
    "slideshow": {
     "slide_type": "slide"
    }
   },
   "source": [
    "## 문자열 교체 메소드"
   ]
  },
  {
   "cell_type": "markdown",
   "metadata": {
    "slideshow": {
     "slide_type": "subslide"
    }
   },
   "source": [
    "***문자열***.**replace**(***기존-부분문자열, 새로운-부분문자열[, 교체횟수]***)"
   ]
  },
  {
   "cell_type": "markdown",
   "metadata": {
    "slideshow": {
     "slide_type": "subslide"
    }
   },
   "source": [
    "특징은 다음과 같다.\n",
    "- ***문자열*** 중 ***기존-부분문자열***을 모두 ***새로운-부분문자열***로 교체한 새 문자열을 반환한다.\n",
    "- 선택 사항인 ***교체횟수***(count)를 지정하면, 그 ***교체횟수***만큼만 교체한 새 문자열을 반환한다.\n",
    "- ***부분문자열***이란 ***문자열***의 일부 또는 전부를 뜻한다."
   ]
  },
  {
   "cell_type": "code",
   "execution_count": null,
   "metadata": {
    "slideshow": {
     "slide_type": "subslide"
    }
   },
   "outputs": [],
   "source": [
    "# 문자열에 '초'가 있으면 '중'으로 교체한다.\n",
    "'초급자를 위한 파이썬'.replace('초', '중') "
   ]
  },
  {
   "cell_type": "code",
   "execution_count": null,
   "metadata": {
    "slideshow": {
     "slide_type": "-"
    }
   },
   "outputs": [],
   "source": [
    "# 소문자 'o'를 대문자 'O'로 두 번만 교체한다.\n",
    "'I love Python programming'.replace('o', 'O', 2)"
   ]
  },
  {
   "cell_type": "code",
   "execution_count": null,
   "metadata": {},
   "outputs": [],
   "source": [
    "'초급자를 위한 파이썬'.replace(' ', '')"
   ]
  },
  {
   "cell_type": "markdown",
   "metadata": {
    "slideshow": {
     "slide_type": "subslide"
    }
   },
   "source": [
    "문자열 대문자/소문자 변환\n",
    "- ***upper***: 모든 영문자를 대문자로 변환\n",
    "- ***lower***: 모든 영문자를 소문자로 변환"
   ]
  },
  {
   "cell_type": "code",
   "execution_count": null,
   "metadata": {},
   "outputs": [],
   "source": [
    "s = 'Right way to Python'\n",
    "print(s.upper())\n",
    "print(s.lower())"
   ]
  },
  {
   "cell_type": "markdown",
   "metadata": {
    "slideshow": {
     "slide_type": "slide"
    }
   },
   "source": [
    "# 출력 간단히 하기"
   ]
  },
  {
   "cell_type": "markdown",
   "metadata": {
    "slideshow": {
     "slide_type": "subslide"
    }
   },
   "source": [
    "다음 코드는 출력 결과는 간단하지만 출력하는 방법은 복잡하다."
   ]
  },
  {
   "cell_type": "code",
   "execution_count": null,
   "metadata": {
    "slideshow": {
     "slide_type": "-"
    }
   },
   "outputs": [],
   "source": [
    "x = 3\n",
    "y = 5\n",
    "z = 19\n",
    "\n",
    "print(str(x) + ' * ' + str(y) + ' = ' + str(z) + ' (' + str(x * y == z) + ')')"
   ]
  },
  {
   "cell_type": "markdown",
   "metadata": {
    "slideshow": {
     "slide_type": "subslide"
    }
   },
   "source": [
    "하지만..."
   ]
  },
  {
   "cell_type": "markdown",
   "metadata": {
    "slideshow": {
     "slide_type": "-"
    }
   },
   "source": [
    "***문자열***.**format()** 메소드를 이용하면 출력을 편하게 할 수 있다."
   ]
  },
  {
   "cell_type": "code",
   "execution_count": null,
   "metadata": {
    "slideshow": {
     "slide_type": "-"
    }
   },
   "outputs": [],
   "source": [
    "print('{} * {} = {} ({})'.format(x, y, z, x * y == z))"
   ]
  },
  {
   "cell_type": "markdown",
   "metadata": {
    "slideshow": {
     "slide_type": "slide"
    }
   },
   "source": [
    "# 문자열 서식 : **format()** 메소드"
   ]
  },
  {
   "cell_type": "markdown",
   "metadata": {
    "slideshow": {
     "slide_type": "subslide"
    }
   },
   "source": [
    "***문자열***.format(___\\*위치-전달인자, \\*\\*키워드-전달인자___)"
   ]
  },
  {
   "cell_type": "markdown",
   "metadata": {
    "slideshow": {
     "slide_type": "skip"
    }
   },
   "source": [
    "- ***키워드-전달인자***를 사용한다면 대체 필드인 **{ }** 안에 전달인자의 키워드 식별자를 입력한다.\n",
    "- ***키워드-전달인자***(keyword argumnts)란 키워드 식별자가 오는 전달인자를 말한다. \n",
    "    - 예를 들어 *문자열*.format(***paper='A4', copies=50, color=False***) 같은 것이 이에 해당한다.\n",
    "    - ***paper***, ***copies***, ***color***가 키워드 식별자다."
   ]
  },
  {
   "cell_type": "markdown",
   "metadata": {
    "slideshow": {
     "slide_type": "slide"
    }
   },
   "source": [
    "## 따라해보기 : 위치 전달인자 사용해보기"
   ]
  },
  {
   "cell_type": "code",
   "execution_count": null,
   "metadata": {
    "slideshow": {
     "slide_type": "slide"
    }
   },
   "outputs": [],
   "source": [
    "'1 + 2 = {}'.format(1 + 2)"
   ]
  },
  {
   "cell_type": "code",
   "execution_count": null,
   "metadata": {
    "slideshow": {
     "slide_type": "slide"
    }
   },
   "outputs": [],
   "source": [
    "'{0} * {1} = {2}입니다.'.format(3, 5, 3 * 5)"
   ]
  },
  {
   "cell_type": "code",
   "execution_count": null,
   "metadata": {
    "slideshow": {
     "slide_type": "subslide"
    }
   },
   "outputs": [],
   "source": [
    "'{} * {} = {}입니다.'.format(3, 5, 3 * 5)"
   ]
  },
  {
   "cell_type": "markdown",
   "metadata": {
    "slideshow": {
     "slide_type": "slide"
    }
   },
   "source": [
    "## Lab: 3. 문자열 처리\n",
    "\n",
    "다음 트윗의 영단어를 모두 소문자로 변환하고 단어들을 분할 한 후, comma-separated values(CSV) 형태로 출력하세요.\n",
    "\n",
    "트윗 내용: \"Tina Fey & Amy Poehler are hosting the Golden Globe awards on January 13. What do you think?\"\n",
    "\n",
    "- 결과\n",
    "    - tina,fey,amy,poehler,are,hosting,the,golden,globe,awards,on,january,13,what,do,you,think"
   ]
  },
  {
   "cell_type": "markdown",
   "metadata": {
    "slideshow": {
     "slide_type": "subslide"
    }
   },
   "source": [
    "### 답"
   ]
  },
  {
   "cell_type": "code",
   "execution_count": null,
   "metadata": {
    "slideshow": {
     "slide_type": "fragment"
    }
   },
   "outputs": [],
   "source": [
    "\"\"\"\n",
    "1. 단어가 아닌 문자(& . ?) 제거 \n",
    "2. 모든 영문자를 소문자로 변환\n",
    "3. 단어들을 분할하여 리스트로 변환\n",
    "4. 리스트의 값들을 문자열 결합\n",
    "\"\"\"\n",
    "tweet =  \"Tina Fey & Amy Poehler are hosting the Golden Globe awards on January 13. What do you think?\"\n",
    "\n",
    "#TODO\n",
    "\n",
    "print(tweet)"
   ]
  }
 ],
 "metadata": {
  "celltoolbar": "Slideshow",
  "kernelspec": {
   "display_name": "Python 3",
   "language": "python",
   "name": "python3"
  },
  "language_info": {
   "codemirror_mode": {
    "name": "ipython",
    "version": 3
   },
   "file_extension": ".py",
   "mimetype": "text/x-python",
   "name": "python",
   "nbconvert_exporter": "python",
   "pygments_lexer": "ipython3",
   "version": "3.7.8"
  }
 },
 "nbformat": 4,
 "nbformat_minor": 2
}
